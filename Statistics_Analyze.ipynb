{
  "cells": [
    {
      "cell_type": "markdown",
      "metadata": {
        "id": "view-in-github",
        "colab_type": "text"
      },
      "source": [
        "<a href=\"https://colab.research.google.com/github/jamal221/Machine_Learning_Project/blob/main/Statistics_Analyze.ipynb\" target=\"_parent\"><img src=\"https://colab.research.google.com/assets/colab-badge.svg\" alt=\"Open In Colab\"/></a>"
      ]
    },
    {
      "cell_type": "code",
      "execution_count": null,
      "id": "856b8e70",
      "metadata": {
        "id": "856b8e70"
      },
      "outputs": [],
      "source": [
        "import numpy as np\n",
        "import pandas as pd\n",
        "import matplotlib.pyplot as plt"
      ]
    },
    {
      "cell_type": "code",
      "execution_count": null,
      "id": "7eadb204",
      "metadata": {
        "id": "7eadb204"
      },
      "outputs": [],
      "source": [
        "df=pd.read_csv('d:/project/dataset/Iran Stock Exchange.csv')"
      ]
    },
    {
      "cell_type": "code",
      "execution_count": null,
      "id": "8cb742df",
      "metadata": {
        "id": "8cb742df",
        "outputId": "0194b607-d7f7-4730-baed-f177f37badb2"
      },
      "outputs": [
        {
          "data": {
            "text/html": [
              "<div>\n",
              "<style scoped>\n",
              "    .dataframe tbody tr th:only-of-type {\n",
              "        vertical-align: middle;\n",
              "    }\n",
              "\n",
              "    .dataframe tbody tr th {\n",
              "        vertical-align: top;\n",
              "    }\n",
              "\n",
              "    .dataframe thead th {\n",
              "        text-align: right;\n",
              "    }\n",
              "</style>\n",
              "<table border=\"1\" class=\"dataframe\">\n",
              "  <thead>\n",
              "    <tr style=\"text-align: right;\">\n",
              "      <th></th>\n",
              "      <th>Ticker</th>\n",
              "      <th>Date</th>\n",
              "      <th>TIME</th>\n",
              "      <th>Open</th>\n",
              "      <th>High</th>\n",
              "      <th>Low</th>\n",
              "      <th>Close</th>\n",
              "      <th>Vol</th>\n",
              "      <th>Openint</th>\n",
              "    </tr>\n",
              "  </thead>\n",
              "  <tbody>\n",
              "    <tr>\n",
              "      <th>0</th>\n",
              "      <td>ABFAR_Share</td>\n",
              "      <td>20060227</td>\n",
              "      <td>0</td>\n",
              "      <td>867.65</td>\n",
              "      <td>867.65</td>\n",
              "      <td>867.65</td>\n",
              "      <td>867.65</td>\n",
              "      <td>100</td>\n",
              "      <td>1000</td>\n",
              "    </tr>\n",
              "    <tr>\n",
              "      <th>1</th>\n",
              "      <td>ABFAR_Share</td>\n",
              "      <td>20060228</td>\n",
              "      <td>0</td>\n",
              "      <td>867.65</td>\n",
              "      <td>885.00</td>\n",
              "      <td>850.29</td>\n",
              "      <td>864.18</td>\n",
              "      <td>5710</td>\n",
              "      <td>996</td>\n",
              "    </tr>\n",
              "    <tr>\n",
              "      <th>2</th>\n",
              "      <td>ABFAR_Share</td>\n",
              "      <td>20060430</td>\n",
              "      <td>0</td>\n",
              "      <td>847.69</td>\n",
              "      <td>847.69</td>\n",
              "      <td>847.69</td>\n",
              "      <td>847.69</td>\n",
              "      <td>13500</td>\n",
              "      <td>977</td>\n",
              "    </tr>\n",
              "    <tr>\n",
              "      <th>3</th>\n",
              "      <td>ABFAR_Share</td>\n",
              "      <td>20060501</td>\n",
              "      <td>0</td>\n",
              "      <td>831.21</td>\n",
              "      <td>831.21</td>\n",
              "      <td>831.21</td>\n",
              "      <td>831.21</td>\n",
              "      <td>13500</td>\n",
              "      <td>958</td>\n",
              "    </tr>\n",
              "    <tr>\n",
              "      <th>4</th>\n",
              "      <td>ABFAR_Share</td>\n",
              "      <td>20060502</td>\n",
              "      <td>0</td>\n",
              "      <td>814.72</td>\n",
              "      <td>814.72</td>\n",
              "      <td>814.72</td>\n",
              "      <td>814.72</td>\n",
              "      <td>13500</td>\n",
              "      <td>939</td>\n",
              "    </tr>\n",
              "  </tbody>\n",
              "</table>\n",
              "</div>"
            ],
            "text/plain": [
              "        Ticker      Date  TIME    Open    High     Low   Close    Vol  Openint\n",
              "0  ABFAR_Share  20060227     0  867.65  867.65  867.65  867.65    100     1000\n",
              "1  ABFAR_Share  20060228     0  867.65  885.00  850.29  864.18   5710      996\n",
              "2  ABFAR_Share  20060430     0  847.69  847.69  847.69  847.69  13500      977\n",
              "3  ABFAR_Share  20060501     0  831.21  831.21  831.21  831.21  13500      958\n",
              "4  ABFAR_Share  20060502     0  814.72  814.72  814.72  814.72  13500      939"
            ]
          },
          "execution_count": 4,
          "metadata": {},
          "output_type": "execute_result"
        }
      ],
      "source": [
        "df.head()"
      ]
    },
    {
      "cell_type": "code",
      "execution_count": null,
      "id": "56fece6e",
      "metadata": {
        "id": "56fece6e",
        "outputId": "ad30a1e9-83c7-43fe-9c27-40ad5d786f61"
      },
      "outputs": [
        {
          "data": {
            "text/html": [
              "<div>\n",
              "<style scoped>\n",
              "    .dataframe tbody tr th:only-of-type {\n",
              "        vertical-align: middle;\n",
              "    }\n",
              "\n",
              "    .dataframe tbody tr th {\n",
              "        vertical-align: top;\n",
              "    }\n",
              "\n",
              "    .dataframe thead th {\n",
              "        text-align: right;\n",
              "    }\n",
              "</style>\n",
              "<table border=\"1\" class=\"dataframe\">\n",
              "  <thead>\n",
              "    <tr style=\"text-align: right;\">\n",
              "      <th></th>\n",
              "      <th>Ticker</th>\n",
              "      <th>Date</th>\n",
              "      <th>TIME</th>\n",
              "      <th>Open</th>\n",
              "      <th>High</th>\n",
              "      <th>Low</th>\n",
              "      <th>Close</th>\n",
              "      <th>Vol</th>\n",
              "      <th>Openint</th>\n",
              "    </tr>\n",
              "  </thead>\n",
              "  <tbody>\n",
              "    <tr>\n",
              "      <th>1028172</th>\n",
              "      <td>ZOB_Share</td>\n",
              "      <td>20200523</td>\n",
              "      <td>0</td>\n",
              "      <td>5698.0</td>\n",
              "      <td>5896.0</td>\n",
              "      <td>5698.0</td>\n",
              "      <td>5698.0</td>\n",
              "      <td>320475784</td>\n",
              "      <td>5713</td>\n",
              "    </tr>\n",
              "    <tr>\n",
              "      <th>1028173</th>\n",
              "      <td>ZOB_Share</td>\n",
              "      <td>20200526</td>\n",
              "      <td>0</td>\n",
              "      <td>5430.0</td>\n",
              "      <td>5662.0</td>\n",
              "      <td>5428.0</td>\n",
              "      <td>5428.0</td>\n",
              "      <td>155613030</td>\n",
              "      <td>5462</td>\n",
              "    </tr>\n",
              "    <tr>\n",
              "      <th>1028174</th>\n",
              "      <td>ZOB_Share</td>\n",
              "      <td>20200527</td>\n",
              "      <td>0</td>\n",
              "      <td>5189.0</td>\n",
              "      <td>5630.0</td>\n",
              "      <td>5189.0</td>\n",
              "      <td>5500.0</td>\n",
              "      <td>457796535</td>\n",
              "      <td>5364</td>\n",
              "    </tr>\n",
              "    <tr>\n",
              "      <th>1028175</th>\n",
              "      <td>ZOB_Share</td>\n",
              "      <td>20200530</td>\n",
              "      <td>0</td>\n",
              "      <td>5632.0</td>\n",
              "      <td>5632.0</td>\n",
              "      <td>5533.0</td>\n",
              "      <td>5632.0</td>\n",
              "      <td>78834060</td>\n",
              "      <td>5627</td>\n",
              "    </tr>\n",
              "    <tr>\n",
              "      <th>1028176</th>\n",
              "      <td>ZOB_Share</td>\n",
              "      <td>20200531</td>\n",
              "      <td>0</td>\n",
              "      <td>5869.0</td>\n",
              "      <td>5869.0</td>\n",
              "      <td>5346.0</td>\n",
              "      <td>5452.0</td>\n",
              "      <td>258546715</td>\n",
              "      <td>5587</td>\n",
              "    </tr>\n",
              "  </tbody>\n",
              "</table>\n",
              "</div>"
            ],
            "text/plain": [
              "            Ticker      Date  TIME    Open    High     Low   Close        Vol  \\\n",
              "1028172  ZOB_Share  20200523     0  5698.0  5896.0  5698.0  5698.0  320475784   \n",
              "1028173  ZOB_Share  20200526     0  5430.0  5662.0  5428.0  5428.0  155613030   \n",
              "1028174  ZOB_Share  20200527     0  5189.0  5630.0  5189.0  5500.0  457796535   \n",
              "1028175  ZOB_Share  20200530     0  5632.0  5632.0  5533.0  5632.0   78834060   \n",
              "1028176  ZOB_Share  20200531     0  5869.0  5869.0  5346.0  5452.0  258546715   \n",
              "\n",
              "         Openint  \n",
              "1028172     5713  \n",
              "1028173     5462  \n",
              "1028174     5364  \n",
              "1028175     5627  \n",
              "1028176     5587  "
            ]
          },
          "execution_count": 5,
          "metadata": {},
          "output_type": "execute_result"
        }
      ],
      "source": [
        "df.tail()"
      ]
    },
    {
      "cell_type": "code",
      "execution_count": null,
      "id": "6d215ce4",
      "metadata": {
        "id": "6d215ce4",
        "outputId": "0b8ef52f-9e0b-49e1-bfa6-efd58dafb941"
      },
      "outputs": [
        {
          "data": {
            "text/plain": [
              "3844.168389108411"
            ]
          },
          "execution_count": 6,
          "metadata": {},
          "output_type": "execute_result"
        }
      ],
      "source": [
        "df['Open'].mean()"
      ]
    },
    {
      "cell_type": "code",
      "execution_count": null,
      "id": "20cae800",
      "metadata": {
        "id": "20cae800",
        "outputId": "6a04c86f-c093-4e9d-8f48-c8c13d3a4e28"
      },
      "outputs": [
        {
          "data": {
            "text/plain": [
              "<AxesSubplot:>"
            ]
          },
          "execution_count": 12,
          "metadata": {},
          "output_type": "execute_result"
        },
        {
          "data": {
            "image/png": "[encoded data removed]",
            "text/plain": [
              "<Figure size 432x288 with 1 Axes>"
            ]
          },
          "metadata": {
            "needs_background": "light"
          },
          "output_type": "display_data"
        }
      ],
      "source": [
        "df['Open'].sample(50).plot.box()"
      ]
    },
    {
      "cell_type": "code",
      "execution_count": null,
      "id": "4554830a",
      "metadata": {
        "id": "4554830a",
        "outputId": "66a1e6c8-08c9-4c12-f7d9-ceee01f0a725"
      },
      "outputs": [
        {
          "data": {
            "text/plain": [
              "0    VASAKHT_Share\n",
              "dtype: object"
            ]
          },
          "execution_count": 13,
          "metadata": {},
          "output_type": "execute_result"
        }
      ],
      "source": [
        "df['Ticker'].mode()"
      ]
    },
    {
      "cell_type": "code",
      "execution_count": null,
      "id": "cb008e2d",
      "metadata": {
        "id": "cb008e2d",
        "outputId": "b83a8101-f121-4443-db74-34aac1b9f494"
      },
      "outputs": [
        {
          "data": {
            "text/plain": [
              "array([[<AxesSubplot:title={'center':'Date'}>,\n",
              "        <AxesSubplot:title={'center':'TIME'}>,\n",
              "        <AxesSubplot:title={'center':'Open'}>],\n",
              "       [<AxesSubplot:title={'center':'High'}>,\n",
              "        <AxesSubplot:title={'center':'Low'}>,\n",
              "        <AxesSubplot:title={'center':'Close'}>],\n",
              "       [<AxesSubplot:title={'center':'Vol'}>,\n",
              "        <AxesSubplot:title={'center':'Openint'}>, <AxesSubplot:>]],\n",
              "      dtype=object)"
            ]
          },
          "execution_count": 23,
          "metadata": {},
          "output_type": "execute_result"
        },
        {
          "data": {
            "image/png": "[encoded data removed]",
            "text/plain": [
              "<Figure size 432x288 with 9 Axes>"
            ]
          },
          "metadata": {
            "needs_background": "light"
          },
          "output_type": "display_data"
        }
      ],
      "source": [
        "df[df['Ticker']=='VASAKHT_Share'].sample(100).hist()"
      ]
    },
    {
      "cell_type": "code",
      "execution_count": null,
      "id": "ca09bab0",
      "metadata": {
        "id": "ca09bab0",
        "outputId": "cb72282d-f04b-4086-edec-6a34f93f6a77"
      },
      "outputs": [
        {
          "data": {
            "text/plain": [
              "5"
            ]
          },
          "execution_count": 27,
          "metadata": {},
          "output_type": "execute_result"
        }
      ],
      "source": [
        "len(df[df['Open']>10000].head())"
      ]
    },
    {
      "cell_type": "code",
      "execution_count": null,
      "id": "2ee44167",
      "metadata": {
        "id": "2ee44167",
        "outputId": "dedccdb0-1a6e-483b-d0c6-90a0f3d31996"
      },
      "outputs": [
        {
          "data": {
            "text/plain": [
              "<AxesSubplot:>"
            ]
          },
          "execution_count": 21,
          "metadata": {},
          "output_type": "execute_result"
        },
        {
          "data": {
            "image/png": "[encoded data removed]",
            "text/plain": [
              "<Figure size 432x288 with 1 Axes>"
            ]
          },
          "metadata": {
            "needs_background": "light"
          },
          "output_type": "display_data"
        }
      ],
      "source": [
        "df[\"Ticker\"].sample(100).hist()"
      ]
    },
    {
      "cell_type": "code",
      "execution_count": null,
      "id": "e09a8c32",
      "metadata": {
        "id": "e09a8c32",
        "outputId": "2b21bb27-53ac-4183-a1fe-9b283569ebf4"
      },
      "outputs": [
        {
          "data": {
            "text/plain": [
              "1028177"
            ]
          },
          "execution_count": 9,
          "metadata": {},
          "output_type": "execute_result"
        }
      ],
      "source": [
        "len(df)"
      ]
    },
    {
      "cell_type": "code",
      "execution_count": null,
      "id": "9fd59e9c",
      "metadata": {
        "id": "9fd59e9c",
        "outputId": "30841317-e483-496b-af4f-199473be39e0"
      },
      "outputs": [
        {
          "data": {
            "text/plain": [
              "710"
            ]
          },
          "execution_count": 8,
          "metadata": {},
          "output_type": "execute_result"
        }
      ],
      "source": [
        "len(df['Ticker'].unique())"
      ]
    },
    {
      "cell_type": "code",
      "execution_count": null,
      "id": "31e7400b",
      "metadata": {
        "id": "31e7400b",
        "outputId": "8ea8234d-91a1-49c4-ff25-4599db93a61c"
      },
      "outputs": [
        {
          "data": {
            "text/plain": [
              "32"
            ]
          },
          "execution_count": 41,
          "metadata": {},
          "output_type": "execute_result"
        }
      ],
      "source": [
        "len(df['Ticker'][df['Ticker']=='ABFAR_Share'])"
      ]
    },
    {
      "cell_type": "code",
      "execution_count": null,
      "id": "295456a2",
      "metadata": {
        "id": "295456a2",
        "outputId": "011aaf7a-7822-4128-e2f5-fb1c5196499b"
      },
      "outputs": [
        {
          "data": {
            "text/plain": [
              "863.200625"
            ]
          },
          "execution_count": 43,
          "metadata": {},
          "output_type": "execute_result"
        }
      ],
      "source": [
        "df[df['Ticker']=='ABFAR_Share']['Low'].mean()"
      ]
    },
    {
      "cell_type": "code",
      "execution_count": null,
      "id": "0ad0cf05",
      "metadata": {
        "id": "0ad0cf05",
        "outputId": "3c05d922-5b80-4b6c-be81-7fb5377000a3"
      },
      "outputs": [
        {
          "ename": "SyntaxError",
          "evalue": "invalid syntax (Temp/ipykernel_13876/3762099639.py, line 1)",
          "output_type": "error",
          "traceback": [
            "\u001b[1;36m  File \u001b[1;32m\"C:\\Users\\ADMINI~1\\AppData\\Local\\Temp/ipykernel_13876/3762099639.py\"\u001b[1;36m, line \u001b[1;32m1\u001b[0m\n\u001b[1;33m    df[df['Ticker']=='ABFAR_Share' || df['Ticker']=='ZOB_Share' ]['Low']\u001b[0m\n\u001b[1;37m                                    ^\u001b[0m\n\u001b[1;31mSyntaxError\u001b[0m\u001b[1;31m:\u001b[0m invalid syntax\n"
          ]
        }
      ],
      "source": [
        "df[df['Ticker']=='ABFAR_Share' || df['Ticker']=='ZOB_Share' ]['Low']"
      ]
    },
    {
      "cell_type": "code",
      "execution_count": null,
      "id": "e091ad2c",
      "metadata": {
        "id": "e091ad2c",
        "outputId": "f07a0d1d-14a0-4cf1-bab8-83110cf081fb"
      },
      "outputs": [
        {
          "data": {
            "text/html": [
              "<div>\n",
              "<style scoped>\n",
              "    .dataframe tbody tr th:only-of-type {\n",
              "        vertical-align: middle;\n",
              "    }\n",
              "\n",
              "    .dataframe tbody tr th {\n",
              "        vertical-align: top;\n",
              "    }\n",
              "\n",
              "    .dataframe thead th {\n",
              "        text-align: right;\n",
              "    }\n",
              "</style>\n",
              "<table border=\"1\" class=\"dataframe\">\n",
              "  <thead>\n",
              "    <tr style=\"text-align: right;\">\n",
              "      <th></th>\n",
              "      <th>Ticker</th>\n",
              "      <th>Date</th>\n",
              "      <th>TIME</th>\n",
              "      <th>Open</th>\n",
              "      <th>High</th>\n",
              "      <th>Low</th>\n",
              "      <th>Close</th>\n",
              "      <th>Vol</th>\n",
              "      <th>Openint</th>\n",
              "    </tr>\n",
              "  </thead>\n",
              "  <tbody>\n",
              "    <tr>\n",
              "      <th>31</th>\n",
              "      <td>ABFAR_Share</td>\n",
              "      <td>20080315</td>\n",
              "      <td>0</td>\n",
              "      <td>1180.00</td>\n",
              "      <td>1180.00</td>\n",
              "      <td>1180.00</td>\n",
              "      <td>1180.00</td>\n",
              "      <td>7437561</td>\n",
              "      <td>1180</td>\n",
              "    </tr>\n",
              "    <tr>\n",
              "      <th>33</th>\n",
              "      <td>ABIN_Share</td>\n",
              "      <td>20180521</td>\n",
              "      <td>0</td>\n",
              "      <td>1959.14</td>\n",
              "      <td>1959.14</td>\n",
              "      <td>1959.14</td>\n",
              "      <td>1959.14</td>\n",
              "      <td>1362699</td>\n",
              "      <td>2000</td>\n",
              "    </tr>\n",
              "    <tr>\n",
              "      <th>34</th>\n",
              "      <td>ABIN_Share</td>\n",
              "      <td>20180523</td>\n",
              "      <td>0</td>\n",
              "      <td>1959.14</td>\n",
              "      <td>1959.14</td>\n",
              "      <td>1910.16</td>\n",
              "      <td>1910.16</td>\n",
              "      <td>422047</td>\n",
              "      <td>1996</td>\n",
              "    </tr>\n",
              "    <tr>\n",
              "      <th>35</th>\n",
              "      <td>ABIN_Share</td>\n",
              "      <td>20180526</td>\n",
              "      <td>0</td>\n",
              "      <td>1954.25</td>\n",
              "      <td>1954.25</td>\n",
              "      <td>1568.29</td>\n",
              "      <td>1568.29</td>\n",
              "      <td>41560</td>\n",
              "      <td>1966</td>\n",
              "    </tr>\n",
              "    <tr>\n",
              "      <th>36</th>\n",
              "      <td>ABIN_Share</td>\n",
              "      <td>20180528</td>\n",
              "      <td>0</td>\n",
              "      <td>1851.39</td>\n",
              "      <td>1851.39</td>\n",
              "      <td>1851.39</td>\n",
              "      <td>1851.39</td>\n",
              "      <td>120754</td>\n",
              "      <td>1929</td>\n",
              "    </tr>\n",
              "    <tr>\n",
              "      <th>...</th>\n",
              "      <td>...</td>\n",
              "      <td>...</td>\n",
              "      <td>...</td>\n",
              "      <td>...</td>\n",
              "      <td>...</td>\n",
              "      <td>...</td>\n",
              "      <td>...</td>\n",
              "      <td>...</td>\n",
              "      <td>...</td>\n",
              "    </tr>\n",
              "    <tr>\n",
              "      <th>1028172</th>\n",
              "      <td>ZOB_Share</td>\n",
              "      <td>20200523</td>\n",
              "      <td>0</td>\n",
              "      <td>5698.00</td>\n",
              "      <td>5896.00</td>\n",
              "      <td>5698.00</td>\n",
              "      <td>5698.00</td>\n",
              "      <td>320475784</td>\n",
              "      <td>5713</td>\n",
              "    </tr>\n",
              "    <tr>\n",
              "      <th>1028173</th>\n",
              "      <td>ZOB_Share</td>\n",
              "      <td>20200526</td>\n",
              "      <td>0</td>\n",
              "      <td>5430.00</td>\n",
              "      <td>5662.00</td>\n",
              "      <td>5428.00</td>\n",
              "      <td>5428.00</td>\n",
              "      <td>155613030</td>\n",
              "      <td>5462</td>\n",
              "    </tr>\n",
              "    <tr>\n",
              "      <th>1028174</th>\n",
              "      <td>ZOB_Share</td>\n",
              "      <td>20200527</td>\n",
              "      <td>0</td>\n",
              "      <td>5189.00</td>\n",
              "      <td>5630.00</td>\n",
              "      <td>5189.00</td>\n",
              "      <td>5500.00</td>\n",
              "      <td>457796535</td>\n",
              "      <td>5364</td>\n",
              "    </tr>\n",
              "    <tr>\n",
              "      <th>1028175</th>\n",
              "      <td>ZOB_Share</td>\n",
              "      <td>20200530</td>\n",
              "      <td>0</td>\n",
              "      <td>5632.00</td>\n",
              "      <td>5632.00</td>\n",
              "      <td>5533.00</td>\n",
              "      <td>5632.00</td>\n",
              "      <td>78834060</td>\n",
              "      <td>5627</td>\n",
              "    </tr>\n",
              "    <tr>\n",
              "      <th>1028176</th>\n",
              "      <td>ZOB_Share</td>\n",
              "      <td>20200531</td>\n",
              "      <td>0</td>\n",
              "      <td>5869.00</td>\n",
              "      <td>5869.00</td>\n",
              "      <td>5346.00</td>\n",
              "      <td>5452.00</td>\n",
              "      <td>258546715</td>\n",
              "      <td>5587</td>\n",
              "    </tr>\n",
              "  </tbody>\n",
              "</table>\n",
              "<p>575522 rows × 9 columns</p>\n",
              "</div>"
            ],
            "text/plain": [
              "              Ticker      Date  TIME     Open     High      Low    Close  \\\n",
              "31       ABFAR_Share  20080315     0  1180.00  1180.00  1180.00  1180.00   \n",
              "33        ABIN_Share  20180521     0  1959.14  1959.14  1959.14  1959.14   \n",
              "34        ABIN_Share  20180523     0  1959.14  1959.14  1910.16  1910.16   \n",
              "35        ABIN_Share  20180526     0  1954.25  1954.25  1568.29  1568.29   \n",
              "36        ABIN_Share  20180528     0  1851.39  1851.39  1851.39  1851.39   \n",
              "...              ...       ...   ...      ...      ...      ...      ...   \n",
              "1028172    ZOB_Share  20200523     0  5698.00  5896.00  5698.00  5698.00   \n",
              "1028173    ZOB_Share  20200526     0  5430.00  5662.00  5428.00  5428.00   \n",
              "1028174    ZOB_Share  20200527     0  5189.00  5630.00  5189.00  5500.00   \n",
              "1028175    ZOB_Share  20200530     0  5632.00  5632.00  5533.00  5632.00   \n",
              "1028176    ZOB_Share  20200531     0  5869.00  5869.00  5346.00  5452.00   \n",
              "\n",
              "               Vol  Openint  \n",
              "31         7437561     1180  \n",
              "33         1362699     2000  \n",
              "34          422047     1996  \n",
              "35           41560     1966  \n",
              "36          120754     1929  \n",
              "...            ...      ...  \n",
              "1028172  320475784     5713  \n",
              "1028173  155613030     5462  \n",
              "1028174  457796535     5364  \n",
              "1028175   78834060     5627  \n",
              "1028176  258546715     5587  \n",
              "\n",
              "[575522 rows x 9 columns]"
            ]
          },
          "execution_count": 42,
          "metadata": {},
          "output_type": "execute_result"
        }
      ],
      "source": [
        "df[df['Low']>1000]"
      ]
    },
    {
      "cell_type": "code",
      "execution_count": null,
      "id": "5fd6f4be",
      "metadata": {
        "id": "5fd6f4be",
        "outputId": "7858e25c-5757-4d8e-b00f-08e4d7175816"
      },
      "outputs": [
        {
          "data": {
            "text/plain": [
              "3756.1796879132316"
            ]
          },
          "execution_count": 28,
          "metadata": {},
          "output_type": "execute_result"
        }
      ],
      "source": [
        "df['Low'].mean()"
      ]
    },
    {
      "cell_type": "code",
      "execution_count": null,
      "id": "df648007",
      "metadata": {
        "id": "df648007",
        "outputId": "74532687-51eb-4586-b4d4-cec8cb049a6e"
      },
      "outputs": [
        {
          "data": {
            "text/plain": [
              "3098.0878723421156"
            ]
          },
          "execution_count": 29,
          "metadata": {},
          "output_type": "execute_result"
        }
      ],
      "source": [
        "from scipy import stats\n",
        "stats.trim_mean(df['Low'], 0.01)"
      ]
    },
    {
      "cell_type": "code",
      "execution_count": null,
      "id": "a1e0e8a9",
      "metadata": {
        "id": "a1e0e8a9",
        "outputId": "db318ea8-04c4-46e1-f528-4db143911327"
      },
      "outputs": [
        {
          "data": {
            "text/plain": [
              "<AxesSubplot:ylabel='Density'>"
            ]
          },
          "execution_count": 30,
          "metadata": {},
          "output_type": "execute_result"
        },
        {
          "data": {
            "image/png": "[encoded data removed]",
            "text/plain": [
              "<Figure size 432x288 with 1 Axes>"
            ]
          },
          "metadata": {
            "needs_background": "light"
          },
          "output_type": "display_data"
        }
      ],
      "source": [
        "df['Low'].plot.kde()"
      ]
    },
    {
      "cell_type": "code",
      "execution_count": null,
      "id": "4d533849",
      "metadata": {
        "id": "4d533849",
        "outputId": "3637574d-860f-454d-89d8-54e9ec1d0d47"
      },
      "outputs": [
        {
          "data": {
            "text/plain": [
              "9286.18982336455"
            ]
          },
          "execution_count": 22,
          "metadata": {},
          "output_type": "execute_result"
        }
      ],
      "source": [
        "df['Low'].std()"
      ]
    },
    {
      "cell_type": "code",
      "execution_count": null,
      "id": "5f560b25",
      "metadata": {
        "id": "5f560b25",
        "outputId": "9c8dc16c-5120-45f3-a0b9-ae27b93c0392"
      },
      "outputs": [
        {
          "data": {
            "text/plain": [
              "9525.549488787981"
            ]
          },
          "execution_count": 23,
          "metadata": {},
          "output_type": "execute_result"
        }
      ],
      "source": [
        "df['Open'].std()"
      ]
    },
    {
      "cell_type": "code",
      "execution_count": null,
      "id": "5b6d2fba",
      "metadata": {
        "id": "5b6d2fba",
        "outputId": "337b86ff-97ca-4f59-b98c-8f0f8360e2d4"
      },
      "outputs": [
        {
          "data": {
            "text/plain": [
              "9484.65489134022"
            ]
          },
          "execution_count": 24,
          "metadata": {},
          "output_type": "execute_result"
        }
      ],
      "source": [
        "df['Close'].std()"
      ]
    },
    {
      "cell_type": "code",
      "execution_count": null,
      "id": "752205d7",
      "metadata": {
        "id": "752205d7",
        "outputId": "f7b346ad-ffde-48f0-81f7-ed4e1322270d"
      },
      "outputs": [
        {
          "data": {
            "text/plain": [
              "29634155.2902539"
            ]
          },
          "execution_count": 26,
          "metadata": {},
          "output_type": "execute_result"
        }
      ],
      "source": [
        "df['Vol'].std()"
      ]
    },
    {
      "cell_type": "code",
      "execution_count": null,
      "id": "ce8c300c",
      "metadata": {
        "id": "ce8c300c",
        "outputId": "efafb030-2b14-4909-9e50-ac491e7a7b1e"
      },
      "outputs": [
        {
          "data": {
            "text/plain": [
              "0    1000.0\n",
              "dtype: float64"
            ]
          },
          "execution_count": 27,
          "metadata": {},
          "output_type": "execute_result"
        }
      ],
      "source": [
        "df['Open'].mode()"
      ]
    },
    {
      "cell_type": "code",
      "execution_count": null,
      "id": "8bbbdbd3",
      "metadata": {
        "id": "8bbbdbd3",
        "outputId": "17e71c95-975f-457e-a596-2ffbc2ca66cb"
      },
      "outputs": [
        {
          "data": {
            "text/plain": [
              "1225.505"
            ]
          },
          "execution_count": 28,
          "metadata": {},
          "output_type": "execute_result"
        }
      ],
      "source": [
        "df['Open'].median()"
      ]
    },
    {
      "cell_type": "code",
      "execution_count": null,
      "id": "766b696d",
      "metadata": {
        "id": "766b696d",
        "outputId": "615b5e94-d37a-4054-be9c-8f1836887b9d"
      },
      "outputs": [
        {
          "data": {
            "text/plain": [
              "<AxesSubplot:>"
            ]
          },
          "execution_count": 31,
          "metadata": {},
          "output_type": "execute_result"
        },
        {
          "data": {
            "image/png": "[encoded data removed]",
            "text/plain": [
              "<Figure size 432x288 with 1 Axes>"
            ]
          },
          "metadata": {
            "needs_background": "light"
          },
          "output_type": "display_data"
        }
      ],
      "source": [
        "df['Vol'].hist(bins=10000)"
      ]
    },
    {
      "cell_type": "code",
      "execution_count": null,
      "id": "7b66d28f",
      "metadata": {
        "id": "7b66d28f"
      },
      "outputs": [],
      "source": [
        "df2=df[['Ticker','Low']]"
      ]
    },
    {
      "cell_type": "code",
      "execution_count": null,
      "id": "56b8b11f",
      "metadata": {
        "id": "56b8b11f",
        "outputId": "d438005c-480f-4061-e08f-55524c408b32"
      },
      "outputs": [
        {
          "data": {
            "text/html": [
              "<div>\n",
              "<style scoped>\n",
              "    .dataframe tbody tr th:only-of-type {\n",
              "        vertical-align: middle;\n",
              "    }\n",
              "\n",
              "    .dataframe tbody tr th {\n",
              "        vertical-align: top;\n",
              "    }\n",
              "\n",
              "    .dataframe thead th {\n",
              "        text-align: right;\n",
              "    }\n",
              "</style>\n",
              "<table border=\"1\" class=\"dataframe\">\n",
              "  <thead>\n",
              "    <tr style=\"text-align: right;\">\n",
              "      <th></th>\n",
              "      <th>Ticker</th>\n",
              "      <th>Low</th>\n",
              "    </tr>\n",
              "  </thead>\n",
              "  <tbody>\n",
              "    <tr>\n",
              "      <th>0</th>\n",
              "      <td>ABFAR_Share</td>\n",
              "      <td>867.65</td>\n",
              "    </tr>\n",
              "    <tr>\n",
              "      <th>1</th>\n",
              "      <td>ABFAR_Share</td>\n",
              "      <td>850.29</td>\n",
              "    </tr>\n",
              "    <tr>\n",
              "      <th>2</th>\n",
              "      <td>ABFAR_Share</td>\n",
              "      <td>847.69</td>\n",
              "    </tr>\n",
              "    <tr>\n",
              "      <th>3</th>\n",
              "      <td>ABFAR_Share</td>\n",
              "      <td>831.21</td>\n",
              "    </tr>\n",
              "    <tr>\n",
              "      <th>4</th>\n",
              "      <td>ABFAR_Share</td>\n",
              "      <td>814.72</td>\n",
              "    </tr>\n",
              "  </tbody>\n",
              "</table>\n",
              "</div>"
            ],
            "text/plain": [
              "        Ticker     Low\n",
              "0  ABFAR_Share  867.65\n",
              "1  ABFAR_Share  850.29\n",
              "2  ABFAR_Share  847.69\n",
              "3  ABFAR_Share  831.21\n",
              "4  ABFAR_Share  814.72"
            ]
          },
          "execution_count": 72,
          "metadata": {},
          "output_type": "execute_result"
        }
      ],
      "source": [
        "df2.head()"
      ]
    },
    {
      "cell_type": "code",
      "execution_count": null,
      "id": "295c19d5",
      "metadata": {
        "id": "295c19d5"
      },
      "outputs": [],
      "source": [
        "df3=df2.groupby('Ticker').mean()"
      ]
    },
    {
      "cell_type": "code",
      "execution_count": null,
      "id": "fbe67a42",
      "metadata": {
        "id": "fbe67a42"
      },
      "outputs": [],
      "source": [
        "#PowerBI is a useful software, pentaho, tableau, Qlik view"
      ]
    },
    {
      "cell_type": "code",
      "execution_count": null,
      "id": "fd2b17f8",
      "metadata": {
        "id": "fd2b17f8"
      },
      "outputs": [],
      "source": [
        "#Sikit-learn web site for talking about this library"
      ]
    },
    {
      "cell_type": "code",
      "execution_count": null,
      "id": "9870f292",
      "metadata": {
        "id": "9870f292"
      },
      "outputs": [],
      "source": [
        "#pytorch is another library like sikit-learn"
      ]
    }
  ],
  "metadata": {
    "kernelspec": {
      "display_name": "Python 3 (ipykernel)",
      "language": "python",
      "name": "python3"
    },
    "language_info": {
      "codemirror_mode": {
        "name": "ipython",
        "version": 3
      },
      "file_extension": ".py",
      "mimetype": "text/x-python",
      "name": "python",
      "nbconvert_exporter": "python",
      "pygments_lexer": "ipython3",
      "version": "3.9.7"
    },
    "colab": {
      "provenance": [],
      "include_colab_link": true
    }
  },
  "nbformat": 4,
  "nbformat_minor": 5
}