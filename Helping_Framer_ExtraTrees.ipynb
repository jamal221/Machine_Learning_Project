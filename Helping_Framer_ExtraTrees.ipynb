{
 "cells": [
  {
   "cell_type": "code",
   "execution_count": 4,
   "id": "73ee9ff2",
   "metadata": {},
   "outputs": [],
   "source": [
    "import pandas as pd\n",
    "import matplotlib.pyplot as plt\n",
    "import seaborn as sns"
   ]
  },
  {
   "cell_type": "code",
   "execution_count": 5,
   "id": "09004d73",
   "metadata": {},
   "outputs": [],
   "source": [
    "test_file='CSV\\data_test.csv'\n",
    "train_file='CSV\\data_train.csv'\n",
    "y_test_path='CSV\\sample_submissions.csv'\n",
    "df_test=pd.read_csv(test_file)\n",
    "df_train=pd.read_csv(train_file)\n",
    "y_test=pd.read_csv(y_test_path)"
   ]
  },
  {
   "cell_type": "code",
   "execution_count": 6,
   "id": "71b5f289",
   "metadata": {},
   "outputs": [],
   "source": [
    "X_test=df_test"
   ]
  },
  {
   "cell_type": "code",
   "execution_count": 7,
   "id": "61299a8f",
   "metadata": {},
   "outputs": [],
   "source": [
    "y_test=y_test['Yield']"
   ]
  },
  {
   "cell_type": "code",
   "execution_count": 8,
   "id": "603c478c",
   "metadata": {},
   "outputs": [
    {
     "name": "stdout",
     "output_type": "stream",
     "text": [
      "<class 'pandas.core.frame.DataFrame'>\n",
      "RangeIndex: 870 entries, 0 to 869\n",
      "Data columns (total 18 columns):\n",
      " #   Column           Non-Null Count  Dtype  \n",
      "---  ------           --------------  -----  \n",
      " 0   ID               870 non-null    int64  \n",
      " 1   Experiment       870 non-null    object \n",
      " 2   Variety          870 non-null    object \n",
      " 3   Planting date    870 non-null    object \n",
      " 4   Location         870 non-null    int64  \n",
      " 5   Latitude         870 non-null    float64\n",
      " 6   Longitude        870 non-null    float64\n",
      " 7   Temperature      870 non-null    float64\n",
      " 8   Precipitation    870 non-null    float64\n",
      " 9   Solar Radiation  870 non-null    int64  \n",
      " 10  Soil class       870 non-null    int64  \n",
      " 11  CEC              870 non-null    float64\n",
      " 12  Organic matter   870 non-null    float64\n",
      " 13  pH               870 non-null    float64\n",
      " 14  Clay             870 non-null    float64\n",
      " 15  Silt             870 non-null    float64\n",
      " 16  Sand             870 non-null    float64\n",
      " 17  PI               870 non-null    object \n",
      "dtypes: float64(10), int64(4), object(4)\n",
      "memory usage: 122.5+ KB\n"
     ]
    }
   ],
   "source": [
    "df_test.info()"
   ]
  },
  {
   "cell_type": "code",
   "execution_count": 9,
   "id": "f763cd8c",
   "metadata": {},
   "outputs": [
    {
     "name": "stdout",
     "output_type": "stream",
     "text": [
      "<class 'pandas.core.frame.DataFrame'>\n",
      "RangeIndex: 81166 entries, 0 to 81165\n",
      "Data columns (total 19 columns):\n",
      " #   Column           Non-Null Count  Dtype  \n",
      "---  ------           --------------  -----  \n",
      " 0   ID               81166 non-null  int64  \n",
      " 1   Experiment       81166 non-null  object \n",
      " 2   Variety          81166 non-null  object \n",
      " 3   Planting date    81166 non-null  object \n",
      " 4   Location         81166 non-null  int64  \n",
      " 5   Latitude         81166 non-null  float64\n",
      " 6   Longitude        81166 non-null  float64\n",
      " 7   Temperature      81166 non-null  float64\n",
      " 8   Precipitation    81166 non-null  float64\n",
      " 9   Solar Radiation  81166 non-null  int64  \n",
      " 10  Soil class       81166 non-null  int64  \n",
      " 11  CEC              81166 non-null  float64\n",
      " 12  Organic matter   81166 non-null  float64\n",
      " 13  pH               81166 non-null  float64\n",
      " 14  Clay             81166 non-null  float64\n",
      " 15  Silt             81166 non-null  float64\n",
      " 16  Sand             81166 non-null  float64\n",
      " 17  PI               81166 non-null  object \n",
      " 18  Yield            81166 non-null  float64\n",
      "dtypes: float64(11), int64(4), object(4)\n",
      "memory usage: 11.8+ MB\n"
     ]
    }
   ],
   "source": [
    "df_train.info()"
   ]
  },
  {
   "cell_type": "code",
   "execution_count": 12,
   "id": "76276ac1",
   "metadata": {},
   "outputs": [
    {
     "data": {
      "text/plain": [
       "ID                 0\n",
       "Experiment         0\n",
       "Variety            0\n",
       "Planting date      0\n",
       "Location           0\n",
       "Latitude           0\n",
       "Longitude          0\n",
       "Temperature        0\n",
       "Precipitation      0\n",
       "Solar Radiation    0\n",
       "Soil class         0\n",
       "CEC                0\n",
       "Organic matter     0\n",
       "pH                 0\n",
       "Clay               0\n",
       "Silt               0\n",
       "Sand               0\n",
       "PI                 0\n",
       "Yield              0\n",
       "dtype: int64"
      ]
     },
     "execution_count": 12,
     "metadata": {},
     "output_type": "execute_result"
    }
   ],
   "source": [
    "df_train.isna().sum()"
   ]
  },
  {
   "cell_type": "code",
   "execution_count": 13,
   "id": "c6715815",
   "metadata": {},
   "outputs": [],
   "source": [
    "# df_train.describe()"
   ]
  },
  {
   "cell_type": "code",
   "execution_count": 14,
   "id": "2afb9258",
   "metadata": {},
   "outputs": [
    {
     "data": {
      "text/html": [
       "<div>\n",
       "<style scoped>\n",
       "    .dataframe tbody tr th:only-of-type {\n",
       "        vertical-align: middle;\n",
       "    }\n",
       "\n",
       "    .dataframe tbody tr th {\n",
       "        vertical-align: top;\n",
       "    }\n",
       "\n",
       "    .dataframe thead th {\n",
       "        text-align: right;\n",
       "    }\n",
       "</style>\n",
       "<table border=\"1\" class=\"dataframe\">\n",
       "  <thead>\n",
       "    <tr style=\"text-align: right;\">\n",
       "      <th></th>\n",
       "      <th>ID</th>\n",
       "      <th>Experiment</th>\n",
       "      <th>Variety</th>\n",
       "      <th>Planting date</th>\n",
       "      <th>Location</th>\n",
       "      <th>Latitude</th>\n",
       "      <th>Longitude</th>\n",
       "      <th>Temperature</th>\n",
       "      <th>Precipitation</th>\n",
       "      <th>Solar Radiation</th>\n",
       "      <th>Soil class</th>\n",
       "      <th>CEC</th>\n",
       "      <th>Organic matter</th>\n",
       "      <th>pH</th>\n",
       "      <th>Clay</th>\n",
       "      <th>Silt</th>\n",
       "      <th>Sand</th>\n",
       "      <th>PI</th>\n",
       "      <th>Yield</th>\n",
       "    </tr>\n",
       "  </thead>\n",
       "  <tbody>\n",
       "    <tr>\n",
       "      <th>0</th>\n",
       "      <td>1</td>\n",
       "      <td>09SUBWYG201</td>\n",
       "      <td>V000047</td>\n",
       "      <td>5/20/2009</td>\n",
       "      <td>2291</td>\n",
       "      <td>42.019111</td>\n",
       "      <td>-93.525735</td>\n",
       "      <td>3319.8</td>\n",
       "      <td>762.3</td>\n",
       "      <td>1078880</td>\n",
       "      <td>122</td>\n",
       "      <td>29.248626</td>\n",
       "      <td>4.468491</td>\n",
       "      <td>6.28384</td>\n",
       "      <td>25.90531</td>\n",
       "      <td>42.428096</td>\n",
       "      <td>31.686198</td>\n",
       "      <td>15</td>\n",
       "      <td>55.62</td>\n",
       "    </tr>\n",
       "    <tr>\n",
       "      <th>1</th>\n",
       "      <td>2</td>\n",
       "      <td>09SUBWYG202</td>\n",
       "      <td>V000047</td>\n",
       "      <td>5/20/2009</td>\n",
       "      <td>2291</td>\n",
       "      <td>42.019111</td>\n",
       "      <td>-93.525735</td>\n",
       "      <td>3319.8</td>\n",
       "      <td>762.3</td>\n",
       "      <td>1078880</td>\n",
       "      <td>122</td>\n",
       "      <td>29.248626</td>\n",
       "      <td>4.468491</td>\n",
       "      <td>6.28384</td>\n",
       "      <td>25.90531</td>\n",
       "      <td>42.428096</td>\n",
       "      <td>31.686198</td>\n",
       "      <td>15</td>\n",
       "      <td>53.72</td>\n",
       "    </tr>\n",
       "    <tr>\n",
       "      <th>2</th>\n",
       "      <td>3</td>\n",
       "      <td>09SUBWYG203</td>\n",
       "      <td>V000047</td>\n",
       "      <td>5/20/2009</td>\n",
       "      <td>2291</td>\n",
       "      <td>42.019111</td>\n",
       "      <td>-93.525735</td>\n",
       "      <td>3319.8</td>\n",
       "      <td>762.3</td>\n",
       "      <td>1078880</td>\n",
       "      <td>122</td>\n",
       "      <td>29.248626</td>\n",
       "      <td>4.468491</td>\n",
       "      <td>6.28384</td>\n",
       "      <td>25.90531</td>\n",
       "      <td>42.428096</td>\n",
       "      <td>31.686198</td>\n",
       "      <td>15</td>\n",
       "      <td>49.09</td>\n",
       "    </tr>\n",
       "  </tbody>\n",
       "</table>\n",
       "</div>"
      ],
      "text/plain": [
       "   ID   Experiment  Variety Planting date  Location   Latitude  Longitude  \\\n",
       "0   1  09SUBWYG201  V000047     5/20/2009      2291  42.019111 -93.525735   \n",
       "1   2  09SUBWYG202  V000047     5/20/2009      2291  42.019111 -93.525735   \n",
       "2   3  09SUBWYG203  V000047     5/20/2009      2291  42.019111 -93.525735   \n",
       "\n",
       "   Temperature  Precipitation  Solar Radiation  Soil class        CEC  \\\n",
       "0       3319.8          762.3          1078880         122  29.248626   \n",
       "1       3319.8          762.3          1078880         122  29.248626   \n",
       "2       3319.8          762.3          1078880         122  29.248626   \n",
       "\n",
       "   Organic matter       pH      Clay       Silt       Sand  PI  Yield  \n",
       "0        4.468491  6.28384  25.90531  42.428096  31.686198  15  55.62  \n",
       "1        4.468491  6.28384  25.90531  42.428096  31.686198  15  53.72  \n",
       "2        4.468491  6.28384  25.90531  42.428096  31.686198  15  49.09  "
      ]
     },
     "execution_count": 14,
     "metadata": {},
     "output_type": "execute_result"
    }
   ],
   "source": [
    "df_train.head(3)"
   ]
  },
  {
   "cell_type": "code",
   "execution_count": 15,
   "id": "11095e77",
   "metadata": {},
   "outputs": [
    {
     "data": {
      "text/plain": [
       "ID                 81166\n",
       "Experiment          4197\n",
       "Variety              174\n",
       "Planting date        244\n",
       "Location             205\n",
       "Latitude             587\n",
       "Longitude            582\n",
       "Temperature          574\n",
       "Precipitation        553\n",
       "Solar Radiation      587\n",
       "Soil class            23\n",
       "CEC                  244\n",
       "Organic matter       244\n",
       "pH                   244\n",
       "Clay                 243\n",
       "Silt                 244\n",
       "Sand                 244\n",
       "PI                    11\n",
       "Yield               6189\n",
       "dtype: int64"
      ]
     },
     "execution_count": 15,
     "metadata": {},
     "output_type": "execute_result"
    }
   ],
   "source": [
    "df_train.apply(lambda x : len(x.unique()))\n",
    "#show the different value of each column"
   ]
  },
  {
   "cell_type": "code",
   "execution_count": 16,
   "id": "541aa532",
   "metadata": {},
   "outputs": [],
   "source": [
    "X_train=df_train.iloc[:,7:18]\n",
    "y_train=df_train['Yield']# Create our Target"
   ]
  },
  {
   "cell_type": "code",
   "execution_count": 17,
   "id": "b4ce21d5",
   "metadata": {},
   "outputs": [],
   "source": [
    "X_test=df_test.iloc[:,7:18]"
   ]
  },
  {
   "cell_type": "code",
   "execution_count": 18,
   "id": "4b9dc7cf",
   "metadata": {},
   "outputs": [
    {
     "name": "stdout",
     "output_type": "stream",
     "text": [
      "<class 'pandas.core.frame.DataFrame'>\n",
      "RangeIndex: 81166 entries, 0 to 81165\n",
      "Data columns (total 11 columns):\n",
      " #   Column           Non-Null Count  Dtype  \n",
      "---  ------           --------------  -----  \n",
      " 0   Temperature      81166 non-null  float64\n",
      " 1   Precipitation    81166 non-null  float64\n",
      " 2   Solar Radiation  81166 non-null  int64  \n",
      " 3   Soil class       81166 non-null  int64  \n",
      " 4   CEC              81166 non-null  float64\n",
      " 5   Organic matter   81166 non-null  float64\n",
      " 6   pH               81166 non-null  float64\n",
      " 7   Clay             81166 non-null  float64\n",
      " 8   Silt             81166 non-null  float64\n",
      " 9   Sand             81166 non-null  float64\n",
      " 10  PI               81166 non-null  object \n",
      "dtypes: float64(8), int64(2), object(1)\n",
      "memory usage: 6.8+ MB\n"
     ]
    }
   ],
   "source": [
    "X_train.info()"
   ]
  },
  {
   "cell_type": "code",
   "execution_count": 19,
   "id": "6f9b8aac",
   "metadata": {},
   "outputs": [
    {
     "data": {
      "text/plain": [
       "array(['15', '14', '13', '.', '10', '16', '9', '12', '11', '17', '18'],\n",
       "      dtype=object)"
      ]
     },
     "execution_count": 19,
     "metadata": {},
     "output_type": "execute_result"
    }
   ],
   "source": [
    "X_train['PI'].unique()"
   ]
  },
  {
   "cell_type": "code",
   "execution_count": 20,
   "id": "c376fc0b",
   "metadata": {},
   "outputs": [
    {
     "data": {
      "text/plain": [
       "9.452233693911245"
      ]
     },
     "execution_count": 20,
     "metadata": {},
     "output_type": "execute_result"
    }
   ],
   "source": [
    "(X_train['PI'].apply(lambda x:x=='.').sum()/len(X_train))*100"
   ]
  },
  {
   "cell_type": "code",
   "execution_count": 21,
   "id": "6a79be8a",
   "metadata": {},
   "outputs": [
    {
     "data": {
      "text/plain": [
       "'14'"
      ]
     },
     "execution_count": 21,
     "metadata": {},
     "output_type": "execute_result"
    }
   ],
   "source": [
    "Repl_PI=X_train['PI'].mode()\n",
    "Repl_PI[0]\n",
    "        "
   ]
  },
  {
   "cell_type": "code",
   "execution_count": 22,
   "id": "f426f673",
   "metadata": {},
   "outputs": [
    {
     "data": {
      "text/plain": [
       "'15'"
      ]
     },
     "execution_count": 22,
     "metadata": {},
     "output_type": "execute_result"
    }
   ],
   "source": [
    "Repl_PI_test=X_test['PI'].mode()\n",
    "Repl_PI_test[0]"
   ]
  },
  {
   "cell_type": "code",
   "execution_count": 23,
   "id": "99ce6c97",
   "metadata": {},
   "outputs": [],
   "source": [
    "for i in range(len(X_train)):\n",
    "    if(X_train.iloc[i]['PI']=='.'):\n",
    "        X_train.loc[i:i,'PI']=Repl_PI[0]\n",
    "        "
   ]
  },
  {
   "cell_type": "code",
   "execution_count": 24,
   "id": "9ba458ea",
   "metadata": {},
   "outputs": [],
   "source": [
    "for i in range(len(X_test)):\n",
    "    if(X_test.iloc[i]['PI']=='.'):\n",
    "        X_test.loc[i:i,'PI']=Repl_PI_test[0]"
   ]
  },
  {
   "cell_type": "code",
   "execution_count": 25,
   "id": "098398dd",
   "metadata": {},
   "outputs": [
    {
     "data": {
      "text/plain": [
       "array(['15', '14', '13', '10', '16', '9', '12', '11', '17', '18'],\n",
       "      dtype=object)"
      ]
     },
     "execution_count": 25,
     "metadata": {},
     "output_type": "execute_result"
    }
   ],
   "source": [
    "X_train['PI'].unique()"
   ]
  },
  {
   "cell_type": "code",
   "execution_count": 26,
   "id": "3de48922",
   "metadata": {},
   "outputs": [],
   "source": [
    "X_train['PI']=X_train['PI'].astype(float)"
   ]
  },
  {
   "cell_type": "code",
   "execution_count": 27,
   "id": "5de18a33",
   "metadata": {},
   "outputs": [],
   "source": [
    "X_test['PI']=X_test['PI'].astype(float)"
   ]
  },
  {
   "cell_type": "code",
   "execution_count": 28,
   "id": "6dee6f01",
   "metadata": {},
   "outputs": [
    {
     "name": "stdout",
     "output_type": "stream",
     "text": [
      "<class 'pandas.core.frame.DataFrame'>\n",
      "RangeIndex: 81166 entries, 0 to 81165\n",
      "Data columns (total 11 columns):\n",
      " #   Column           Non-Null Count  Dtype  \n",
      "---  ------           --------------  -----  \n",
      " 0   Temperature      81166 non-null  float64\n",
      " 1   Precipitation    81166 non-null  float64\n",
      " 2   Solar Radiation  81166 non-null  int64  \n",
      " 3   Soil class       81166 non-null  int64  \n",
      " 4   CEC              81166 non-null  float64\n",
      " 5   Organic matter   81166 non-null  float64\n",
      " 6   pH               81166 non-null  float64\n",
      " 7   Clay             81166 non-null  float64\n",
      " 8   Silt             81166 non-null  float64\n",
      " 9   Sand             81166 non-null  float64\n",
      " 10  PI               81166 non-null  float64\n",
      "dtypes: float64(9), int64(2)\n",
      "memory usage: 6.8 MB\n"
     ]
    }
   ],
   "source": [
    "X_train.info()"
   ]
  },
  {
   "cell_type": "code",
   "execution_count": 29,
   "id": "792c6937",
   "metadata": {},
   "outputs": [
    {
     "data": {
      "text/html": [
       "<div>\n",
       "<style scoped>\n",
       "    .dataframe tbody tr th:only-of-type {\n",
       "        vertical-align: middle;\n",
       "    }\n",
       "\n",
       "    .dataframe tbody tr th {\n",
       "        vertical-align: top;\n",
       "    }\n",
       "\n",
       "    .dataframe thead th {\n",
       "        text-align: right;\n",
       "    }\n",
       "</style>\n",
       "<table border=\"1\" class=\"dataframe\">\n",
       "  <thead>\n",
       "    <tr style=\"text-align: right;\">\n",
       "      <th></th>\n",
       "      <th>Temperature</th>\n",
       "      <th>Precipitation</th>\n",
       "      <th>Solar Radiation</th>\n",
       "      <th>Soil class</th>\n",
       "      <th>CEC</th>\n",
       "      <th>Organic matter</th>\n",
       "      <th>pH</th>\n",
       "      <th>Clay</th>\n",
       "      <th>Silt</th>\n",
       "      <th>Sand</th>\n",
       "      <th>PI</th>\n",
       "    </tr>\n",
       "  </thead>\n",
       "  <tbody>\n",
       "    <tr>\n",
       "      <th>0</th>\n",
       "      <td>3319.8</td>\n",
       "      <td>762.3</td>\n",
       "      <td>1078880</td>\n",
       "      <td>122</td>\n",
       "      <td>29.248626</td>\n",
       "      <td>4.468491</td>\n",
       "      <td>6.28384</td>\n",
       "      <td>25.90531</td>\n",
       "      <td>42.428096</td>\n",
       "      <td>31.686198</td>\n",
       "      <td>15.0</td>\n",
       "    </tr>\n",
       "    <tr>\n",
       "      <th>1</th>\n",
       "      <td>3319.8</td>\n",
       "      <td>762.3</td>\n",
       "      <td>1078880</td>\n",
       "      <td>122</td>\n",
       "      <td>29.248626</td>\n",
       "      <td>4.468491</td>\n",
       "      <td>6.28384</td>\n",
       "      <td>25.90531</td>\n",
       "      <td>42.428096</td>\n",
       "      <td>31.686198</td>\n",
       "      <td>15.0</td>\n",
       "    </tr>\n",
       "    <tr>\n",
       "      <th>2</th>\n",
       "      <td>3319.8</td>\n",
       "      <td>762.3</td>\n",
       "      <td>1078880</td>\n",
       "      <td>122</td>\n",
       "      <td>29.248626</td>\n",
       "      <td>4.468491</td>\n",
       "      <td>6.28384</td>\n",
       "      <td>25.90531</td>\n",
       "      <td>42.428096</td>\n",
       "      <td>31.686198</td>\n",
       "      <td>15.0</td>\n",
       "    </tr>\n",
       "  </tbody>\n",
       "</table>\n",
       "</div>"
      ],
      "text/plain": [
       "   Temperature  Precipitation  Solar Radiation  Soil class        CEC  \\\n",
       "0       3319.8          762.3          1078880         122  29.248626   \n",
       "1       3319.8          762.3          1078880         122  29.248626   \n",
       "2       3319.8          762.3          1078880         122  29.248626   \n",
       "\n",
       "   Organic matter       pH      Clay       Silt       Sand    PI  \n",
       "0        4.468491  6.28384  25.90531  42.428096  31.686198  15.0  \n",
       "1        4.468491  6.28384  25.90531  42.428096  31.686198  15.0  \n",
       "2        4.468491  6.28384  25.90531  42.428096  31.686198  15.0  "
      ]
     },
     "execution_count": 29,
     "metadata": {},
     "output_type": "execute_result"
    }
   ],
   "source": [
    "X_train.head(3)"
   ]
  },
  {
   "cell_type": "code",
   "execution_count": 30,
   "id": "311a1c9d",
   "metadata": {},
   "outputs": [],
   "source": [
    "# print(set(y_train))# it shows that we could not use this data for classfication"
   ]
  },
  {
   "cell_type": "code",
   "execution_count": 49,
   "id": "c7b9b2e6",
   "metadata": {},
   "outputs": [],
   "source": [
    "from sklearn.ensemble import ExtraTreesRegressor"
   ]
  },
  {
   "cell_type": "code",
   "execution_count": 50,
   "id": "7449eabb",
   "metadata": {},
   "outputs": [
    {
     "data": {
      "text/plain": [
       "ExtraTreesRegressor(random_state=123)"
      ]
     },
     "execution_count": 50,
     "metadata": {},
     "output_type": "execute_result"
    }
   ],
   "source": [
    "EXT_RG = ExtraTreesRegressor(n_estimators=100, random_state=123)\n",
    "EXT_RG.fit(X_train, y_train)"
   ]
  },
  {
   "cell_type": "code",
   "execution_count": 51,
   "id": "3338163a",
   "metadata": {},
   "outputs": [
    {
     "data": {
      "text/plain": [
       "(81166, 11)"
      ]
     },
     "execution_count": 51,
     "metadata": {},
     "output_type": "execute_result"
    }
   ],
   "source": [
    "X_train.shape"
   ]
  },
  {
   "cell_type": "code",
   "execution_count": 52,
   "id": "0a66629a",
   "metadata": {},
   "outputs": [
    {
     "data": {
      "text/plain": [
       "(870, 11)"
      ]
     },
     "execution_count": 52,
     "metadata": {},
     "output_type": "execute_result"
    }
   ],
   "source": [
    "X_test.shape"
   ]
  },
  {
   "cell_type": "code",
   "execution_count": 53,
   "id": "1316d162",
   "metadata": {},
   "outputs": [
    {
     "data": {
      "text/plain": [
       "Index(['Temperature', 'Precipitation', 'Solar Radiation', 'Soil class', 'CEC',\n",
       "       'Organic matter', 'pH', 'Clay', 'Silt', 'Sand', 'PI'],\n",
       "      dtype='object')"
      ]
     },
     "execution_count": 53,
     "metadata": {},
     "output_type": "execute_result"
    }
   ],
   "source": [
    "X_train.columns"
   ]
  },
  {
   "cell_type": "code",
   "execution_count": 54,
   "id": "c6d37369",
   "metadata": {},
   "outputs": [
    {
     "data": {
      "text/plain": [
       "Index(['Temperature', 'Precipitation', 'Solar Radiation', 'Soil class', 'CEC',\n",
       "       'Organic matter', 'pH', 'Clay', 'Silt', 'Sand', 'PI'],\n",
       "      dtype='object')"
      ]
     },
     "execution_count": 54,
     "metadata": {},
     "output_type": "execute_result"
    }
   ],
   "source": [
    "X_test.columns"
   ]
  },
  {
   "cell_type": "code",
   "execution_count": 55,
   "id": "6d111710",
   "metadata": {},
   "outputs": [],
   "source": [
    "y_pred = EXT_RG.predict(X_test)"
   ]
  },
  {
   "cell_type": "code",
   "execution_count": 56,
   "id": "9f918686",
   "metadata": {},
   "outputs": [],
   "source": [
    "from sklearn import metrics"
   ]
  },
  {
   "cell_type": "code",
   "execution_count": 57,
   "id": "9b2984f0",
   "metadata": {},
   "outputs": [
    {
     "data": {
      "text/plain": [
       "11.911525657060617"
      ]
     },
     "execution_count": 57,
     "metadata": {},
     "output_type": "execute_result"
    }
   ],
   "source": [
    "metrics.mean_absolute_error(y_test, y_pred)"
   ]
  },
  {
   "cell_type": "code",
   "execution_count": null,
   "id": "23132f70",
   "metadata": {},
   "outputs": [],
   "source": []
  }
 ],
 "metadata": {
  "kernelspec": {
   "display_name": "Python 3 (ipykernel)",
   "language": "python",
   "name": "python3"
  },
  "language_info": {
   "codemirror_mode": {
    "name": "ipython",
    "version": 3
   },
   "file_extension": ".py",
   "mimetype": "text/x-python",
   "name": "python",
   "nbconvert_exporter": "python",
   "pygments_lexer": "ipython3",
   "version": "3.9.7"
  }
 },
 "nbformat": 4,
 "nbformat_minor": 5
}
