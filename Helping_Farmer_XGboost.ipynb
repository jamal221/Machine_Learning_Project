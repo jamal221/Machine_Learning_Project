{
  "cells": [
    {
      "cell_type": "markdown",
      "metadata": {
        "id": "view-in-github",
        "colab_type": "text"
      },
      "source": [
        "<a href=\"https://colab.research.google.com/github/jamal221/Machine_Learning_Project/blob/main/Helping_Farmer_XGboost.ipynb\" target=\"_parent\"><img src=\"https://colab.research.google.com/assets/colab-badge.svg\" alt=\"Open In Colab\"/></a>"
      ]
    },
    {
      "cell_type": "code",
      "execution_count": 2,
      "id": "73ee9ff2",
      "metadata": {
        "id": "73ee9ff2"
      },
      "outputs": [],
      "source": [
        "import pandas as pd\n",
        "import matplotlib.pyplot as plt\n",
        "import seaborn as sns"
      ]
    },
    {
      "cell_type": "code",
      "source": [
        "#This project from colab, the url of project is https://www.kaggle.com/competitions/helping-farmers/leaderboard, so in this link it is easy to download CSV files."
      ],
      "metadata": {
        "id": "9ycKvy4CGJn9"
      },
      "id": "9ycKvy4CGJn9",
      "execution_count": 3,
      "outputs": []
    },
    {
      "cell_type": "markdown",
      "source": [
        "The target of this project is Yield which is a continuous value, so we have to select regression for modelling. And the only column which requires to convert is PI. Therefore, some additional preprocessing would be essential for this project."
      ],
      "metadata": {
        "id": "rnXOHQBaG7Qu"
      },
      "id": "rnXOHQBaG7Qu"
    },
    {
      "cell_type": "code",
      "source": [
        "from google.colab import drive\n",
        "drive.mount('/content/drive')"
      ],
      "metadata": {
        "id": "SP_AwkuuG3hL",
        "colab": {
          "base_uri": "https://localhost:8080/"
        },
        "outputId": "881dcf04-b7a9-49e7-b587-37cfe8eaf19a"
      },
      "id": "SP_AwkuuG3hL",
      "execution_count": 4,
      "outputs": [
        {
          "output_type": "stream",
          "name": "stdout",
          "text": [
            "Mounted at /content/drive\n"
          ]
        }
      ]
    },
    {
      "cell_type": "code",
      "source": [
        "import os\n",
        "os.chdir(\"/content/drive/My Drive/Colab Notebooks/CSV_Files/Farming\")"
      ],
      "metadata": {
        "id": "Jr4asflNpB8E"
      },
      "id": "Jr4asflNpB8E",
      "execution_count": 5,
      "outputs": []
    },
    {
      "cell_type": "code",
      "execution_count": 6,
      "id": "09004d73",
      "metadata": {
        "id": "09004d73"
      },
      "outputs": [],
      "source": [
        "test_file='data_test.csv'\n",
        "train_file='data_train.csv'\n",
        "y_test_path='sample_submissions.csv'\n",
        "df_test=pd.read_csv(test_file)\n",
        "df_train=pd.read_csv(train_file)\n",
        "y_test=pd.read_csv(y_test_path)"
      ]
    },
    {
      "cell_type": "code",
      "execution_count": 7,
      "id": "71b5f289",
      "metadata": {
        "id": "71b5f289"
      },
      "outputs": [],
      "source": [
        "X_test=df_test.copy()"
      ]
    },
    {
      "cell_type": "code",
      "execution_count": 8,
      "id": "61299a8f",
      "metadata": {
        "id": "61299a8f"
      },
      "outputs": [],
      "source": [
        "y_test=y_test['Yield']"
      ]
    },
    {
      "cell_type": "code",
      "execution_count": 9,
      "id": "603c478c",
      "metadata": {
        "id": "603c478c",
        "outputId": "541fc223-91f2-454f-fc53-8ac32f6b1995",
        "colab": {
          "base_uri": "https://localhost:8080/"
        }
      },
      "outputs": [
        {
          "output_type": "stream",
          "name": "stdout",
          "text": [
            "<class 'pandas.core.frame.DataFrame'>\n",
            "RangeIndex: 870 entries, 0 to 869\n",
            "Data columns (total 18 columns):\n",
            " #   Column           Non-Null Count  Dtype  \n",
            "---  ------           --------------  -----  \n",
            " 0   ID               870 non-null    int64  \n",
            " 1   Experiment       870 non-null    object \n",
            " 2   Variety          870 non-null    object \n",
            " 3   Planting date    870 non-null    object \n",
            " 4   Location         870 non-null    int64  \n",
            " 5   Latitude         870 non-null    float64\n",
            " 6   Longitude        870 non-null    float64\n",
            " 7   Temperature      870 non-null    float64\n",
            " 8   Precipitation    870 non-null    float64\n",
            " 9   Solar Radiation  870 non-null    int64  \n",
            " 10  Soil class       870 non-null    int64  \n",
            " 11  CEC              870 non-null    float64\n",
            " 12  Organic matter   870 non-null    float64\n",
            " 13  pH               870 non-null    float64\n",
            " 14  Clay             870 non-null    float64\n",
            " 15  Silt             870 non-null    float64\n",
            " 16  Sand             870 non-null    float64\n",
            " 17  PI               870 non-null    object \n",
            "dtypes: float64(10), int64(4), object(4)\n",
            "memory usage: 122.5+ KB\n"
          ]
        }
      ],
      "source": [
        "df_test.info()"
      ]
    },
    {
      "cell_type": "code",
      "execution_count": 10,
      "id": "f763cd8c",
      "metadata": {
        "id": "f763cd8c",
        "outputId": "68097454-3f79-4db0-f326-7c68234105fe",
        "colab": {
          "base_uri": "https://localhost:8080/"
        }
      },
      "outputs": [
        {
          "output_type": "stream",
          "name": "stdout",
          "text": [
            "<class 'pandas.core.frame.DataFrame'>\n",
            "RangeIndex: 81166 entries, 0 to 81165\n",
            "Data columns (total 19 columns):\n",
            " #   Column           Non-Null Count  Dtype  \n",
            "---  ------           --------------  -----  \n",
            " 0   ID               81166 non-null  int64  \n",
            " 1   Experiment       81166 non-null  object \n",
            " 2   Variety          81166 non-null  object \n",
            " 3   Planting date    81166 non-null  object \n",
            " 4   Location         81166 non-null  int64  \n",
            " 5   Latitude         81166 non-null  float64\n",
            " 6   Longitude        81166 non-null  float64\n",
            " 7   Temperature      81166 non-null  float64\n",
            " 8   Precipitation    81166 non-null  float64\n",
            " 9   Solar Radiation  81166 non-null  int64  \n",
            " 10  Soil class       81166 non-null  int64  \n",
            " 11  CEC              81166 non-null  float64\n",
            " 12  Organic matter   81166 non-null  float64\n",
            " 13  pH               81166 non-null  float64\n",
            " 14  Clay             81166 non-null  float64\n",
            " 15  Silt             81166 non-null  float64\n",
            " 16  Sand             81166 non-null  float64\n",
            " 17  PI               81166 non-null  object \n",
            " 18  Yield            81166 non-null  float64\n",
            "dtypes: float64(11), int64(4), object(4)\n",
            "memory usage: 11.8+ MB\n"
          ]
        }
      ],
      "source": [
        "df_train.info()"
      ]
    },
    {
      "cell_type": "code",
      "execution_count": 11,
      "id": "76276ac1",
      "metadata": {
        "id": "76276ac1",
        "outputId": "bb3a40e4-b792-4e89-fe2b-6977afc4b483",
        "colab": {
          "base_uri": "https://localhost:8080/"
        }
      },
      "outputs": [
        {
          "output_type": "execute_result",
          "data": {
            "text/plain": [
              "ID                 0\n",
              "Experiment         0\n",
              "Variety            0\n",
              "Planting date      0\n",
              "Location           0\n",
              "Latitude           0\n",
              "Longitude          0\n",
              "Temperature        0\n",
              "Precipitation      0\n",
              "Solar Radiation    0\n",
              "Soil class         0\n",
              "CEC                0\n",
              "Organic matter     0\n",
              "pH                 0\n",
              "Clay               0\n",
              "Silt               0\n",
              "Sand               0\n",
              "PI                 0\n",
              "Yield              0\n",
              "dtype: int64"
            ]
          },
          "metadata": {},
          "execution_count": 11
        }
      ],
      "source": [
        "df_train.isna().sum()"
      ]
    },
    {
      "cell_type": "code",
      "execution_count": 12,
      "id": "c6715815",
      "metadata": {
        "id": "c6715815",
        "outputId": "addb39a5-dfba-492b-dd00-d93d14767aba",
        "colab": {
          "base_uri": "https://localhost:8080/",
          "height": 381
        }
      },
      "outputs": [
        {
          "output_type": "execute_result",
          "data": {
            "text/plain": [
              "                 ID      Location      Latitude     Longitude   Temperature  \\\n",
              "count  81166.000000  81166.000000  81166.000000  81166.000000  81166.000000   \n",
              "mean   40583.500000   2540.050452     41.786226    -90.452550   3432.766644   \n",
              "std    23430.750312    752.287221      1.366625      4.618686    260.702592   \n",
              "min        1.000000   1206.000000     38.752120   -101.766594   2819.900000   \n",
              "25%    20292.250000   2200.000000     40.699070    -93.845798   3221.500000   \n",
              "50%    40583.500000   2440.000000     41.518148    -91.406840   3441.450000   \n",
              "75%    60874.750000   3270.000000     42.932768    -87.792660   3615.400000   \n",
              "max    81166.000000   3503.000000     44.994802    -76.532786   4201.300000   \n",
              "\n",
              "       Precipitation  Solar Radiation    Soil class           CEC  \\\n",
              "count   81166.000000     8.116600e+04  81166.000000  81166.000000   \n",
              "mean      653.758462     1.060948e+06    179.319555     26.068651   \n",
              "std       140.439985     4.390120e+04     56.368637      2.547760   \n",
              "min       287.500000     9.826730e+05    111.000000     16.596552   \n",
              "25%       561.700000     1.030575e+06    113.000000     24.489945   \n",
              "50%       659.100000     1.054598e+06    212.000000     26.130715   \n",
              "75%       745.500000     1.074860e+06    213.000000     27.253545   \n",
              "max      1109.700000     1.217102e+06    333.000000     32.196832   \n",
              "\n",
              "       Organic matter            pH          Clay          Silt          Sand  \\\n",
              "count    81166.000000  81166.000000  81166.000000  81166.000000  81166.000000   \n",
              "mean         5.505636      6.323124     25.095255     49.904295     24.982227   \n",
              "std          1.737181      0.232910      3.120789      9.816227     11.145036   \n",
              "min          2.009541      5.498863     17.289116     28.951389      3.092954   \n",
              "25%          4.301854      6.152467     22.790220     42.091649     15.403863   \n",
              "50%          4.782916      6.242766     25.418764     49.774884     24.120515   \n",
              "75%          6.602643      6.491298     27.109881     58.171803     34.990946   \n",
              "max         14.089472      7.071231     35.973524     69.942998     51.228458   \n",
              "\n",
              "              Yield  \n",
              "count  81166.000000  \n",
              "mean      58.999719  \n",
              "std       11.421145  \n",
              "min        0.830000  \n",
              "25%       51.630000  \n",
              "50%       59.270000  \n",
              "75%       66.710000  \n",
              "max      120.600000  "
            ],
            "text/html": [
              "\n",
              "  <div id=\"df-7b05b1f1-f044-410b-8eac-fd5b5605114f\">\n",
              "    <div class=\"colab-df-container\">\n",
              "      <div>\n",
              "<style scoped>\n",
              "    .dataframe tbody tr th:only-of-type {\n",
              "        vertical-align: middle;\n",
              "    }\n",
              "\n",
              "    .dataframe tbody tr th {\n",
              "        vertical-align: top;\n",
              "    }\n",
              "\n",
              "    .dataframe thead th {\n",
              "        text-align: right;\n",
              "    }\n",
              "</style>\n",
              "<table border=\"1\" class=\"dataframe\">\n",
              "  <thead>\n",
              "    <tr style=\"text-align: right;\">\n",
              "      <th></th>\n",
              "      <th>ID</th>\n",
              "      <th>Location</th>\n",
              "      <th>Latitude</th>\n",
              "      <th>Longitude</th>\n",
              "      <th>Temperature</th>\n",
              "      <th>Precipitation</th>\n",
              "      <th>Solar Radiation</th>\n",
              "      <th>Soil class</th>\n",
              "      <th>CEC</th>\n",
              "      <th>Organic matter</th>\n",
              "      <th>pH</th>\n",
              "      <th>Clay</th>\n",
              "      <th>Silt</th>\n",
              "      <th>Sand</th>\n",
              "      <th>Yield</th>\n",
              "    </tr>\n",
              "  </thead>\n",
              "  <tbody>\n",
              "    <tr>\n",
              "      <th>count</th>\n",
              "      <td>81166.000000</td>\n",
              "      <td>81166.000000</td>\n",
              "      <td>81166.000000</td>\n",
              "      <td>81166.000000</td>\n",
              "      <td>81166.000000</td>\n",
              "      <td>81166.000000</td>\n",
              "      <td>8.116600e+04</td>\n",
              "      <td>81166.000000</td>\n",
              "      <td>81166.000000</td>\n",
              "      <td>81166.000000</td>\n",
              "      <td>81166.000000</td>\n",
              "      <td>81166.000000</td>\n",
              "      <td>81166.000000</td>\n",
              "      <td>81166.000000</td>\n",
              "      <td>81166.000000</td>\n",
              "    </tr>\n",
              "    <tr>\n",
              "      <th>mean</th>\n",
              "      <td>40583.500000</td>\n",
              "      <td>2540.050452</td>\n",
              "      <td>41.786226</td>\n",
              "      <td>-90.452550</td>\n",
              "      <td>3432.766644</td>\n",
              "      <td>653.758462</td>\n",
              "      <td>1.060948e+06</td>\n",
              "      <td>179.319555</td>\n",
              "      <td>26.068651</td>\n",
              "      <td>5.505636</td>\n",
              "      <td>6.323124</td>\n",
              "      <td>25.095255</td>\n",
              "      <td>49.904295</td>\n",
              "      <td>24.982227</td>\n",
              "      <td>58.999719</td>\n",
              "    </tr>\n",
              "    <tr>\n",
              "      <th>std</th>\n",
              "      <td>23430.750312</td>\n",
              "      <td>752.287221</td>\n",
              "      <td>1.366625</td>\n",
              "      <td>4.618686</td>\n",
              "      <td>260.702592</td>\n",
              "      <td>140.439985</td>\n",
              "      <td>4.390120e+04</td>\n",
              "      <td>56.368637</td>\n",
              "      <td>2.547760</td>\n",
              "      <td>1.737181</td>\n",
              "      <td>0.232910</td>\n",
              "      <td>3.120789</td>\n",
              "      <td>9.816227</td>\n",
              "      <td>11.145036</td>\n",
              "      <td>11.421145</td>\n",
              "    </tr>\n",
              "    <tr>\n",
              "      <th>min</th>\n",
              "      <td>1.000000</td>\n",
              "      <td>1206.000000</td>\n",
              "      <td>38.752120</td>\n",
              "      <td>-101.766594</td>\n",
              "      <td>2819.900000</td>\n",
              "      <td>287.500000</td>\n",
              "      <td>9.826730e+05</td>\n",
              "      <td>111.000000</td>\n",
              "      <td>16.596552</td>\n",
              "      <td>2.009541</td>\n",
              "      <td>5.498863</td>\n",
              "      <td>17.289116</td>\n",
              "      <td>28.951389</td>\n",
              "      <td>3.092954</td>\n",
              "      <td>0.830000</td>\n",
              "    </tr>\n",
              "    <tr>\n",
              "      <th>25%</th>\n",
              "      <td>20292.250000</td>\n",
              "      <td>2200.000000</td>\n",
              "      <td>40.699070</td>\n",
              "      <td>-93.845798</td>\n",
              "      <td>3221.500000</td>\n",
              "      <td>561.700000</td>\n",
              "      <td>1.030575e+06</td>\n",
              "      <td>113.000000</td>\n",
              "      <td>24.489945</td>\n",
              "      <td>4.301854</td>\n",
              "      <td>6.152467</td>\n",
              "      <td>22.790220</td>\n",
              "      <td>42.091649</td>\n",
              "      <td>15.403863</td>\n",
              "      <td>51.630000</td>\n",
              "    </tr>\n",
              "    <tr>\n",
              "      <th>50%</th>\n",
              "      <td>40583.500000</td>\n",
              "      <td>2440.000000</td>\n",
              "      <td>41.518148</td>\n",
              "      <td>-91.406840</td>\n",
              "      <td>3441.450000</td>\n",
              "      <td>659.100000</td>\n",
              "      <td>1.054598e+06</td>\n",
              "      <td>212.000000</td>\n",
              "      <td>26.130715</td>\n",
              "      <td>4.782916</td>\n",
              "      <td>6.242766</td>\n",
              "      <td>25.418764</td>\n",
              "      <td>49.774884</td>\n",
              "      <td>24.120515</td>\n",
              "      <td>59.270000</td>\n",
              "    </tr>\n",
              "    <tr>\n",
              "      <th>75%</th>\n",
              "      <td>60874.750000</td>\n",
              "      <td>3270.000000</td>\n",
              "      <td>42.932768</td>\n",
              "      <td>-87.792660</td>\n",
              "      <td>3615.400000</td>\n",
              "      <td>745.500000</td>\n",
              "      <td>1.074860e+06</td>\n",
              "      <td>213.000000</td>\n",
              "      <td>27.253545</td>\n",
              "      <td>6.602643</td>\n",
              "      <td>6.491298</td>\n",
              "      <td>27.109881</td>\n",
              "      <td>58.171803</td>\n",
              "      <td>34.990946</td>\n",
              "      <td>66.710000</td>\n",
              "    </tr>\n",
              "    <tr>\n",
              "      <th>max</th>\n",
              "      <td>81166.000000</td>\n",
              "      <td>3503.000000</td>\n",
              "      <td>44.994802</td>\n",
              "      <td>-76.532786</td>\n",
              "      <td>4201.300000</td>\n",
              "      <td>1109.700000</td>\n",
              "      <td>1.217102e+06</td>\n",
              "      <td>333.000000</td>\n",
              "      <td>32.196832</td>\n",
              "      <td>14.089472</td>\n",
              "      <td>7.071231</td>\n",
              "      <td>35.973524</td>\n",
              "      <td>69.942998</td>\n",
              "      <td>51.228458</td>\n",
              "      <td>120.600000</td>\n",
              "    </tr>\n",
              "  </tbody>\n",
              "</table>\n",
              "</div>\n",
              "      <button class=\"colab-df-convert\" onclick=\"convertToInteractive('df-7b05b1f1-f044-410b-8eac-fd5b5605114f')\"\n",
              "              title=\"Convert this dataframe to an interactive table.\"\n",
              "              style=\"display:none;\">\n",
              "        \n",
              "  <svg xmlns=\"http://www.w3.org/2000/svg\" height=\"24px\"viewBox=\"0 0 24 24\"\n",
              "       width=\"24px\">\n",
              "    <path d=\"M0 0h24v24H0V0z\" fill=\"none\"/>\n",
              "    <path d=\"M18.56 5.44l.94 2.06.94-2.06 2.06-.94-2.06-.94-.94-2.06-.94 2.06-2.06.94zm-11 1L8.5 8.5l.94-2.06 2.06-.94-2.06-.94L8.5 2.5l-.94 2.06-2.06.94zm10 10l.94 2.06.94-2.06 2.06-.94-2.06-.94-.94-2.06-.94 2.06-2.06.94z\"/><path d=\"M17.41 7.96l-1.37-1.37c-.4-.4-.92-.59-1.43-.59-.52 0-1.04.2-1.43.59L10.3 9.45l-7.72 7.72c-.78.78-.78 2.05 0 2.83L4 21.41c.39.39.9.59 1.41.59.51 0 1.02-.2 1.41-.59l7.78-7.78 2.81-2.81c.8-.78.8-2.07 0-2.86zM5.41 20L4 18.59l7.72-7.72 1.47 1.35L5.41 20z\"/>\n",
              "  </svg>\n",
              "      </button>\n",
              "      \n",
              "  <style>\n",
              "    .colab-df-container {\n",
              "      display:flex;\n",
              "      flex-wrap:wrap;\n",
              "      gap: 12px;\n",
              "    }\n",
              "\n",
              "    .colab-df-convert {\n",
              "      background-color: #E8F0FE;\n",
              "      border: none;\n",
              "      border-radius: 50%;\n",
              "      cursor: pointer;\n",
              "      display: none;\n",
              "      fill: #1967D2;\n",
              "      height: 32px;\n",
              "      padding: 0 0 0 0;\n",
              "      width: 32px;\n",
              "    }\n",
              "\n",
              "    .colab-df-convert:hover {\n",
              "      background-color: #E2EBFA;\n",
              "      box-shadow: 0px 1px 2px rgba(60, 64, 67, 0.3), 0px 1px 3px 1px rgba(60, 64, 67, 0.15);\n",
              "      fill: #174EA6;\n",
              "    }\n",
              "\n",
              "    [theme=dark] .colab-df-convert {\n",
              "      background-color: #3B4455;\n",
              "      fill: #D2E3FC;\n",
              "    }\n",
              "\n",
              "    [theme=dark] .colab-df-convert:hover {\n",
              "      background-color: #434B5C;\n",
              "      box-shadow: 0px 1px 3px 1px rgba(0, 0, 0, 0.15);\n",
              "      filter: drop-shadow(0px 1px 2px rgba(0, 0, 0, 0.3));\n",
              "      fill: #FFFFFF;\n",
              "    }\n",
              "  </style>\n",
              "\n",
              "      <script>\n",
              "        const buttonEl =\n",
              "          document.querySelector('#df-7b05b1f1-f044-410b-8eac-fd5b5605114f button.colab-df-convert');\n",
              "        buttonEl.style.display =\n",
              "          google.colab.kernel.accessAllowed ? 'block' : 'none';\n",
              "\n",
              "        async function convertToInteractive(key) {\n",
              "          const element = document.querySelector('#df-7b05b1f1-f044-410b-8eac-fd5b5605114f');\n",
              "          const dataTable =\n",
              "            await google.colab.kernel.invokeFunction('convertToInteractive',\n",
              "                                                     [key], {});\n",
              "          if (!dataTable) return;\n",
              "\n",
              "          const docLinkHtml = 'Like what you see? Visit the ' +\n",
              "            '<a target=\"_blank\" href=https://colab.research.google.com/notebooks/data_table.ipynb>data table notebook</a>'\n",
              "            + ' to learn more about interactive tables.';\n",
              "          element.innerHTML = '';\n",
              "          dataTable['output_type'] = 'display_data';\n",
              "          await google.colab.output.renderOutput(dataTable, element);\n",
              "          const docLink = document.createElement('div');\n",
              "          docLink.innerHTML = docLinkHtml;\n",
              "          element.appendChild(docLink);\n",
              "        }\n",
              "      </script>\n",
              "    </div>\n",
              "  </div>\n",
              "  "
            ]
          },
          "metadata": {},
          "execution_count": 12
        }
      ],
      "source": [
        "df_train.describe()"
      ]
    },
    {
      "cell_type": "code",
      "execution_count": 13,
      "id": "2afb9258",
      "metadata": {
        "id": "2afb9258",
        "outputId": "7bf0fc48-85b0-44b4-e177-dc502b574148",
        "colab": {
          "base_uri": "https://localhost:8080/",
          "height": 225
        }
      },
      "outputs": [
        {
          "output_type": "execute_result",
          "data": {
            "text/plain": [
              "   ID   Experiment  Variety Planting date  Location   Latitude  Longitude  \\\n",
              "0   1  09SUBWYG201  V000047     5/20/2009      2291  42.019111 -93.525735   \n",
              "1   2  09SUBWYG202  V000047     5/20/2009      2291  42.019111 -93.525735   \n",
              "2   3  09SUBWYG203  V000047     5/20/2009      2291  42.019111 -93.525735   \n",
              "\n",
              "   Temperature  Precipitation  Solar Radiation  Soil class        CEC  \\\n",
              "0       3319.8          762.3          1078880         122  29.248626   \n",
              "1       3319.8          762.3          1078880         122  29.248626   \n",
              "2       3319.8          762.3          1078880         122  29.248626   \n",
              "\n",
              "   Organic matter       pH      Clay       Silt       Sand  PI  Yield  \n",
              "0        4.468491  6.28384  25.90531  42.428096  31.686198  15  55.62  \n",
              "1        4.468491  6.28384  25.90531  42.428096  31.686198  15  53.72  \n",
              "2        4.468491  6.28384  25.90531  42.428096  31.686198  15  49.09  "
            ],
            "text/html": [
              "\n",
              "  <div id=\"df-2875a21a-74fd-40cc-91da-c6a08b1b58e4\">\n",
              "    <div class=\"colab-df-container\">\n",
              "      <div>\n",
              "<style scoped>\n",
              "    .dataframe tbody tr th:only-of-type {\n",
              "        vertical-align: middle;\n",
              "    }\n",
              "\n",
              "    .dataframe tbody tr th {\n",
              "        vertical-align: top;\n",
              "    }\n",
              "\n",
              "    .dataframe thead th {\n",
              "        text-align: right;\n",
              "    }\n",
              "</style>\n",
              "<table border=\"1\" class=\"dataframe\">\n",
              "  <thead>\n",
              "    <tr style=\"text-align: right;\">\n",
              "      <th></th>\n",
              "      <th>ID</th>\n",
              "      <th>Experiment</th>\n",
              "      <th>Variety</th>\n",
              "      <th>Planting date</th>\n",
              "      <th>Location</th>\n",
              "      <th>Latitude</th>\n",
              "      <th>Longitude</th>\n",
              "      <th>Temperature</th>\n",
              "      <th>Precipitation</th>\n",
              "      <th>Solar Radiation</th>\n",
              "      <th>Soil class</th>\n",
              "      <th>CEC</th>\n",
              "      <th>Organic matter</th>\n",
              "      <th>pH</th>\n",
              "      <th>Clay</th>\n",
              "      <th>Silt</th>\n",
              "      <th>Sand</th>\n",
              "      <th>PI</th>\n",
              "      <th>Yield</th>\n",
              "    </tr>\n",
              "  </thead>\n",
              "  <tbody>\n",
              "    <tr>\n",
              "      <th>0</th>\n",
              "      <td>1</td>\n",
              "      <td>09SUBWYG201</td>\n",
              "      <td>V000047</td>\n",
              "      <td>5/20/2009</td>\n",
              "      <td>2291</td>\n",
              "      <td>42.019111</td>\n",
              "      <td>-93.525735</td>\n",
              "      <td>3319.8</td>\n",
              "      <td>762.3</td>\n",
              "      <td>1078880</td>\n",
              "      <td>122</td>\n",
              "      <td>29.248626</td>\n",
              "      <td>4.468491</td>\n",
              "      <td>6.28384</td>\n",
              "      <td>25.90531</td>\n",
              "      <td>42.428096</td>\n",
              "      <td>31.686198</td>\n",
              "      <td>15</td>\n",
              "      <td>55.62</td>\n",
              "    </tr>\n",
              "    <tr>\n",
              "      <th>1</th>\n",
              "      <td>2</td>\n",
              "      <td>09SUBWYG202</td>\n",
              "      <td>V000047</td>\n",
              "      <td>5/20/2009</td>\n",
              "      <td>2291</td>\n",
              "      <td>42.019111</td>\n",
              "      <td>-93.525735</td>\n",
              "      <td>3319.8</td>\n",
              "      <td>762.3</td>\n",
              "      <td>1078880</td>\n",
              "      <td>122</td>\n",
              "      <td>29.248626</td>\n",
              "      <td>4.468491</td>\n",
              "      <td>6.28384</td>\n",
              "      <td>25.90531</td>\n",
              "      <td>42.428096</td>\n",
              "      <td>31.686198</td>\n",
              "      <td>15</td>\n",
              "      <td>53.72</td>\n",
              "    </tr>\n",
              "    <tr>\n",
              "      <th>2</th>\n",
              "      <td>3</td>\n",
              "      <td>09SUBWYG203</td>\n",
              "      <td>V000047</td>\n",
              "      <td>5/20/2009</td>\n",
              "      <td>2291</td>\n",
              "      <td>42.019111</td>\n",
              "      <td>-93.525735</td>\n",
              "      <td>3319.8</td>\n",
              "      <td>762.3</td>\n",
              "      <td>1078880</td>\n",
              "      <td>122</td>\n",
              "      <td>29.248626</td>\n",
              "      <td>4.468491</td>\n",
              "      <td>6.28384</td>\n",
              "      <td>25.90531</td>\n",
              "      <td>42.428096</td>\n",
              "      <td>31.686198</td>\n",
              "      <td>15</td>\n",
              "      <td>49.09</td>\n",
              "    </tr>\n",
              "  </tbody>\n",
              "</table>\n",
              "</div>\n",
              "      <button class=\"colab-df-convert\" onclick=\"convertToInteractive('df-2875a21a-74fd-40cc-91da-c6a08b1b58e4')\"\n",
              "              title=\"Convert this dataframe to an interactive table.\"\n",
              "              style=\"display:none;\">\n",
              "        \n",
              "  <svg xmlns=\"http://www.w3.org/2000/svg\" height=\"24px\"viewBox=\"0 0 24 24\"\n",
              "       width=\"24px\">\n",
              "    <path d=\"M0 0h24v24H0V0z\" fill=\"none\"/>\n",
              "    <path d=\"M18.56 5.44l.94 2.06.94-2.06 2.06-.94-2.06-.94-.94-2.06-.94 2.06-2.06.94zm-11 1L8.5 8.5l.94-2.06 2.06-.94-2.06-.94L8.5 2.5l-.94 2.06-2.06.94zm10 10l.94 2.06.94-2.06 2.06-.94-2.06-.94-.94-2.06-.94 2.06-2.06.94z\"/><path d=\"M17.41 7.96l-1.37-1.37c-.4-.4-.92-.59-1.43-.59-.52 0-1.04.2-1.43.59L10.3 9.45l-7.72 7.72c-.78.78-.78 2.05 0 2.83L4 21.41c.39.39.9.59 1.41.59.51 0 1.02-.2 1.41-.59l7.78-7.78 2.81-2.81c.8-.78.8-2.07 0-2.86zM5.41 20L4 18.59l7.72-7.72 1.47 1.35L5.41 20z\"/>\n",
              "  </svg>\n",
              "      </button>\n",
              "      \n",
              "  <style>\n",
              "    .colab-df-container {\n",
              "      display:flex;\n",
              "      flex-wrap:wrap;\n",
              "      gap: 12px;\n",
              "    }\n",
              "\n",
              "    .colab-df-convert {\n",
              "      background-color: #E8F0FE;\n",
              "      border: none;\n",
              "      border-radius: 50%;\n",
              "      cursor: pointer;\n",
              "      display: none;\n",
              "      fill: #1967D2;\n",
              "      height: 32px;\n",
              "      padding: 0 0 0 0;\n",
              "      width: 32px;\n",
              "    }\n",
              "\n",
              "    .colab-df-convert:hover {\n",
              "      background-color: #E2EBFA;\n",
              "      box-shadow: 0px 1px 2px rgba(60, 64, 67, 0.3), 0px 1px 3px 1px rgba(60, 64, 67, 0.15);\n",
              "      fill: #174EA6;\n",
              "    }\n",
              "\n",
              "    [theme=dark] .colab-df-convert {\n",
              "      background-color: #3B4455;\n",
              "      fill: #D2E3FC;\n",
              "    }\n",
              "\n",
              "    [theme=dark] .colab-df-convert:hover {\n",
              "      background-color: #434B5C;\n",
              "      box-shadow: 0px 1px 3px 1px rgba(0, 0, 0, 0.15);\n",
              "      filter: drop-shadow(0px 1px 2px rgba(0, 0, 0, 0.3));\n",
              "      fill: #FFFFFF;\n",
              "    }\n",
              "  </style>\n",
              "\n",
              "      <script>\n",
              "        const buttonEl =\n",
              "          document.querySelector('#df-2875a21a-74fd-40cc-91da-c6a08b1b58e4 button.colab-df-convert');\n",
              "        buttonEl.style.display =\n",
              "          google.colab.kernel.accessAllowed ? 'block' : 'none';\n",
              "\n",
              "        async function convertToInteractive(key) {\n",
              "          const element = document.querySelector('#df-2875a21a-74fd-40cc-91da-c6a08b1b58e4');\n",
              "          const dataTable =\n",
              "            await google.colab.kernel.invokeFunction('convertToInteractive',\n",
              "                                                     [key], {});\n",
              "          if (!dataTable) return;\n",
              "\n",
              "          const docLinkHtml = 'Like what you see? Visit the ' +\n",
              "            '<a target=\"_blank\" href=https://colab.research.google.com/notebooks/data_table.ipynb>data table notebook</a>'\n",
              "            + ' to learn more about interactive tables.';\n",
              "          element.innerHTML = '';\n",
              "          dataTable['output_type'] = 'display_data';\n",
              "          await google.colab.output.renderOutput(dataTable, element);\n",
              "          const docLink = document.createElement('div');\n",
              "          docLink.innerHTML = docLinkHtml;\n",
              "          element.appendChild(docLink);\n",
              "        }\n",
              "      </script>\n",
              "    </div>\n",
              "  </div>\n",
              "  "
            ]
          },
          "metadata": {},
          "execution_count": 13
        }
      ],
      "source": [
        "df_train.head(3)"
      ]
    },
    {
      "cell_type": "code",
      "execution_count": 14,
      "id": "11095e77",
      "metadata": {
        "id": "11095e77",
        "outputId": "7e386c79-e331-4c58-efbd-0a548a7f59f8",
        "colab": {
          "base_uri": "https://localhost:8080/"
        }
      },
      "outputs": [
        {
          "output_type": "execute_result",
          "data": {
            "text/plain": [
              "ID                 81166\n",
              "Experiment          4197\n",
              "Variety              174\n",
              "Planting date        244\n",
              "Location             205\n",
              "Latitude             587\n",
              "Longitude            582\n",
              "Temperature          574\n",
              "Precipitation        553\n",
              "Solar Radiation      587\n",
              "Soil class            23\n",
              "CEC                  244\n",
              "Organic matter       244\n",
              "pH                   244\n",
              "Clay                 243\n",
              "Silt                 244\n",
              "Sand                 244\n",
              "PI                    11\n",
              "Yield               6189\n",
              "dtype: int64"
            ]
          },
          "metadata": {},
          "execution_count": 14
        }
      ],
      "source": [
        "df_train.apply(lambda x : len(x.unique()))\n",
        "#show the different value of each column"
      ]
    },
    {
      "cell_type": "code",
      "execution_count": 15,
      "id": "541aa532",
      "metadata": {
        "id": "541aa532"
      },
      "outputs": [],
      "source": [
        "X_train=df_train.iloc[:,7:18]\n",
        "y_train=df_train['Yield']# Create our Target"
      ]
    },
    {
      "cell_type": "code",
      "source": [
        "X_train.columns"
      ],
      "metadata": {
        "colab": {
          "base_uri": "https://localhost:8080/"
        },
        "id": "VsqC99gAE_jp",
        "outputId": "b1dba192-3cff-4090-e501-6b578a1d4a44"
      },
      "id": "VsqC99gAE_jp",
      "execution_count": 16,
      "outputs": [
        {
          "output_type": "execute_result",
          "data": {
            "text/plain": [
              "Index(['Temperature', 'Precipitation', 'Solar Radiation', 'Soil class', 'CEC',\n",
              "       'Organic matter', 'pH', 'Clay', 'Silt', 'Sand', 'PI'],\n",
              "      dtype='object')"
            ]
          },
          "metadata": {},
          "execution_count": 16
        }
      ]
    },
    {
      "cell_type": "code",
      "execution_count": 17,
      "id": "b4ce21d5",
      "metadata": {
        "id": "b4ce21d5"
      },
      "outputs": [],
      "source": [
        "X_test=df_test.iloc[:,7:18]"
      ]
    },
    {
      "cell_type": "code",
      "execution_count": 18,
      "id": "4b9dc7cf",
      "metadata": {
        "id": "4b9dc7cf",
        "outputId": "1ec8acf8-d61c-4da9-c336-7a16d52f303d",
        "colab": {
          "base_uri": "https://localhost:8080/"
        }
      },
      "outputs": [
        {
          "output_type": "stream",
          "name": "stdout",
          "text": [
            "<class 'pandas.core.frame.DataFrame'>\n",
            "RangeIndex: 81166 entries, 0 to 81165\n",
            "Data columns (total 11 columns):\n",
            " #   Column           Non-Null Count  Dtype  \n",
            "---  ------           --------------  -----  \n",
            " 0   Temperature      81166 non-null  float64\n",
            " 1   Precipitation    81166 non-null  float64\n",
            " 2   Solar Radiation  81166 non-null  int64  \n",
            " 3   Soil class       81166 non-null  int64  \n",
            " 4   CEC              81166 non-null  float64\n",
            " 5   Organic matter   81166 non-null  float64\n",
            " 6   pH               81166 non-null  float64\n",
            " 7   Clay             81166 non-null  float64\n",
            " 8   Silt             81166 non-null  float64\n",
            " 9   Sand             81166 non-null  float64\n",
            " 10  PI               81166 non-null  object \n",
            "dtypes: float64(8), int64(2), object(1)\n",
            "memory usage: 6.8+ MB\n"
          ]
        }
      ],
      "source": [
        "X_train.info()"
      ]
    },
    {
      "cell_type": "code",
      "source": [
        "X_train['PI'].unique()"
      ],
      "metadata": {
        "colab": {
          "base_uri": "https://localhost:8080/"
        },
        "id": "Xsf69UsUJEEg",
        "outputId": "be04d5a9-7ca8-4c89-861c-a830c25f6624"
      },
      "id": "Xsf69UsUJEEg",
      "execution_count": 19,
      "outputs": [
        {
          "output_type": "execute_result",
          "data": {
            "text/plain": [
              "array(['15', '14', '13', '.', '10', '16', '9', '12', '11', '17', '18'],\n",
              "      dtype=object)"
            ]
          },
          "metadata": {},
          "execution_count": 19
        }
      ]
    },
    {
      "cell_type": "code",
      "execution_count": 20,
      "id": "c376fc0b",
      "metadata": {
        "id": "c376fc0b",
        "outputId": "5a457e76-e4ac-4fae-95a7-8e5635de5ade",
        "colab": {
          "base_uri": "https://localhost:8080/"
        }
      },
      "outputs": [
        {
          "output_type": "execute_result",
          "data": {
            "text/plain": [
              "9.452233693911245"
            ]
          },
          "metadata": {},
          "execution_count": 20
        }
      ],
      "source": [
        "((X_train['PI'].apply(lambda x:x=='.').sum())/len(X_train['PI']))*100"
      ]
    },
    {
      "cell_type": "code",
      "execution_count": 21,
      "id": "6a79be8a",
      "metadata": {
        "id": "6a79be8a",
        "outputId": "121dba02-1af7-4fda-b43a-d0628a888688",
        "colab": {
          "base_uri": "https://localhost:8080/",
          "height": 36
        }
      },
      "outputs": [
        {
          "output_type": "execute_result",
          "data": {
            "text/plain": [
              "'14'"
            ],
            "application/vnd.google.colaboratory.intrinsic+json": {
              "type": "string"
            }
          },
          "metadata": {},
          "execution_count": 21
        }
      ],
      "source": [
        "Repl_PI=X_train['PI'].mode()\n",
        "Repl_PI[0]\n"
      ]
    },
    {
      "cell_type": "code",
      "source": [
        "((X_train['PI'].apply(lambda x:x=='14').sum())/len(X_train['PI']))*100"
      ],
      "metadata": {
        "colab": {
          "base_uri": "https://localhost:8080/"
        },
        "id": "bB__xTDGKNY-",
        "outputId": "8bc50f4c-a75c-4cdb-baff-114234358598"
      },
      "id": "bB__xTDGKNY-",
      "execution_count": 22,
      "outputs": [
        {
          "output_type": "execute_result",
          "data": {
            "text/plain": [
              "37.030283616292536"
            ]
          },
          "metadata": {},
          "execution_count": 22
        }
      ]
    },
    {
      "cell_type": "code",
      "execution_count": 23,
      "id": "f426f673",
      "metadata": {
        "id": "f426f673",
        "outputId": "909ffeec-94fe-4144-914f-278e1a541fa0",
        "colab": {
          "base_uri": "https://localhost:8080/",
          "height": 36
        }
      },
      "outputs": [
        {
          "output_type": "execute_result",
          "data": {
            "text/plain": [
              "'15'"
            ],
            "application/vnd.google.colaboratory.intrinsic+json": {
              "type": "string"
            }
          },
          "metadata": {},
          "execution_count": 23
        }
      ],
      "source": [
        "Repl_PI_test=X_test['PI'].mode()\n",
        "Repl_PI_test[0]"
      ]
    },
    {
      "cell_type": "code",
      "execution_count": 24,
      "id": "99ce6c97",
      "metadata": {
        "id": "99ce6c97"
      },
      "outputs": [],
      "source": [
        "for i in range(len(X_train)):\n",
        "    if(X_train.iloc[i]['PI']=='.'):\n",
        "        X_train.loc[i:i,'PI']=Repl_PI[0]\n"
      ]
    },
    {
      "cell_type": "code",
      "source": [
        "((X_train['PI'].apply(lambda x:x=='.').sum())/len(X_train['PI']))*100"
      ],
      "metadata": {
        "colab": {
          "base_uri": "https://localhost:8080/"
        },
        "id": "mifoubKRKncz",
        "outputId": "d4b69127-2279-476e-e728-8294538c42a4"
      },
      "id": "mifoubKRKncz",
      "execution_count": 25,
      "outputs": [
        {
          "output_type": "execute_result",
          "data": {
            "text/plain": [
              "0.0"
            ]
          },
          "metadata": {},
          "execution_count": 25
        }
      ]
    },
    {
      "cell_type": "code",
      "execution_count": 26,
      "id": "9ba458ea",
      "metadata": {
        "id": "9ba458ea"
      },
      "outputs": [],
      "source": [
        "for i in range(len(X_test)):\n",
        "    if(X_test.iloc[i]['PI']=='.'):\n",
        "        X_test.loc[i:i,'PI']=Repl_PI_test[0]"
      ]
    },
    {
      "cell_type": "code",
      "execution_count": 27,
      "id": "098398dd",
      "metadata": {
        "id": "098398dd",
        "outputId": "ee3b5463-0187-4ef8-cbf6-2e1b81d97dbc",
        "colab": {
          "base_uri": "https://localhost:8080/"
        }
      },
      "outputs": [
        {
          "output_type": "execute_result",
          "data": {
            "text/plain": [
              "array(['15', '14', '13', '10', '16', '9', '12', '11', '17', '18'],\n",
              "      dtype=object)"
            ]
          },
          "metadata": {},
          "execution_count": 27
        }
      ],
      "source": [
        "X_train['PI'].unique()"
      ]
    },
    {
      "cell_type": "code",
      "execution_count": 28,
      "id": "3de48922",
      "metadata": {
        "id": "3de48922"
      },
      "outputs": [],
      "source": [
        "X_train['PI']=X_train['PI'].astype(float)"
      ]
    },
    {
      "cell_type": "code",
      "execution_count": 29,
      "id": "5de18a33",
      "metadata": {
        "id": "5de18a33"
      },
      "outputs": [],
      "source": [
        "X_test['PI']=X_test['PI'].astype(float)"
      ]
    },
    {
      "cell_type": "code",
      "execution_count": 30,
      "id": "311a1c9d",
      "metadata": {
        "id": "311a1c9d",
        "outputId": "eeca2d6f-1b50-4202-b38f-3bb158c6584d",
        "colab": {
          "base_uri": "https://localhost:8080/"
        }
      },
      "outputs": [
        {
          "output_type": "stream",
          "name": "stdout",
          "text": [
            "{15.14, 16.25, 17.89, 18.42, 19.5, 18.25, 21.67, 20.64, 23.92, 23.75, 25.72, 24.25, 24.0, 28.0, 26.75, 30.08, 26.5, 27.25, 33.45, 28.75, 29.5, 36.3, 37.41, 38.91, 39.64, 39.41, 40.97, 41.95, 42.89, 44.7, 36.0, 46.19, 47.69, 46.44, 48.42, 48.92, 47.41, 49.66, 50.39, 49.16, 49.09, 55.95, 50.69, 50.44, 59.03, 59.53, 59.16, 62.92, 55.69, 64.54, 64.0, 65.61, 66.15, 68.84, 69.91, 70.64, 70.39, 72.06, 68.05, 74.75, 74.14, 76.86, 77.57, 78.67, 78.08, 77.88, 81.29, 82.5, 80.66, 79.3, 84.89, 83.77, 82.1, 88.2, 89.27, 90.42, 88.02, 90.67, 90.91, 93.9, 95.72, 93.56, 97.51, 96.61, 96.15, 100.93, 98.29, 99.52, 97.4, 97.29, 105.77, 99.97, 102.45, 100.48, 106.52, 101.41, 111.63, 103.31, 108.95, 105.31, 111.99, 111.78, 113.5, 117.47, 115.69, 120.09, 114.03, 115.05, 114.28, 120.6, 25.75, 25.5, 28.5, 29.75, 29.25, 30.75, 30.5, 30.0, 30.25, 31.5, 31.0, 32.5, 32.75, 32.25, 33.25, 33.75, 34.25, 34.75, 34.0, 34.5, 35.75, 35.5, 35.0, 35.25, 36.75, 36.5, 36.25, 37.75, 37.25, 37.0, 37.5, 38.75, 38.25, 38.5, 38.0, 39.0, 39.5, 39.25, 39.75, 40.75, 40.5, 40.25, 40.0, 41.75, 41.0, 41.25, 41.5, 42.0, 42.5, 42.75, 42.25, 43.75, 43.0, 43.25, 43.5, 44.75, 44.5, 44.0, 44.25, 45.5, 45.75, 45.25, 45.0, 46.25, 46.0, 46.75, 46.5, 47.25, 47.75, 47.5, 47.0, 48.75, 48.25, 48.5, 48.0, 49.25, 49.0, 49.5, 49.75, 50.25, 50.5, 50.75, 50.0, 51.5, 51.0, 51.75, 51.25, 52.5, 52.0, 52.75, 52.25, 53.0, 53.5, 53.75, 53.25, 54.5, 54.0, 54.75, 54.25, 55.75, 55.0, 55.5, 55.25, 56.75, 56.25, 56.5, 56.0, 57.0, 57.75, 57.5, 57.25, 58.25, 58.75, 58.5, 58.0, 59.0, 59.25, 59.75, 59.5, 60.0, 60.75, 60.25, 60.5, 61.5, 61.25, 61.0, 61.75, 62.75, 62.0, 62.5, 62.25, 63.5, 63.0, 63.25, 63.75, 64.5, 64.75, 64.25, 65.75, 65.0, 65.5, 65.25, 66.75, 66.5, 66.25, 66.0, 67.0, 67.25, 67.75, 67.5, 68.75, 68.0, 68.5, 68.25, 18.88, 69.25, 69.75, 69.0, 69.5, 70.25, 70.0, 70.75, 70.5, 71.25, 71.5, 71.0, 71.75, 21.88, 72.5, 72.0, 72.75, 72.25, 73.75, 73.0, 73.5, 73.25, 74.0, 74.5, 74.25, 75.0, 75.25, 75.75, 75.5, 25.63, 76.0, 76.25, 76.75, 25.13, 26.38, 77.5, 77.75, 77.25, 77.0, 27.13, 78.5, 78.75, 78.0, 78.25, 27.63, 79.25, 79.75, 79.5, 28.63, 29.88, 80.25, 80.5, 80.0, 79.0, 30.88, 81.25, 81.0, 81.75, 30.63, 31.13, 31.63, 82.25, 82.75, 82.0, 81.5, 83.0, 83.25, 83.5, 83.75, 84.5, 84.0, 84.75, 84.25, 85.25, 85.0, 85.75, 86.5, 87.25, 88.25, 88.5, 89.25, 89.5, 90.75, 91.0, 92.5, 92.25, 93.25, 95.75, 97.0, 99.5, 104.5, 108.25, 109.5, 111.5, 32.01, 33.51, 33.01, 33.26, 34.51, 34.26, 34.01, 34.76, 35.26, 35.76, 36.51, 36.76, 36.01, 36.26, 37.26, 37.01, 37.76, 37.51, 38.01, 38.51, 38.26, 38.76, 39.76, 39.26, 39.01, 39.51, 40.76, 40.01, 40.26, 40.51, 41.01, 41.76, 41.26, 41.51, 42.01, 42.51, 42.26, 42.76, 43.26, 43.01, 43.76, 44.01, 44.76, 44.26, 45.76, 45.51, 45.26, 46.76, 46.26, 46.51, 46.01, 47.76, 47.51, 47.26, 47.01, 48.01, 48.26, 48.51, 48.76, 49.76, 49.01, 49.26, 49.51, 50.26, 50.01, 50.51, 50.76, 51.26, 51.01, 51.76, 51.51, 52.76, 52.51, 52.01, 52.26, 53.76, 53.26, 53.01, 53.51, 54.51, 54.26, 54.01, 54.76, 55.01, 55.26, 55.51, 55.76, 56.01, 56.76, 56.51, 56.26, 57.51, 57.26, 57.76, 58.76, 58.26, 58.51, 58.01, 59.76, 59.26, 59.01, 59.51, 60.76, 60.01, 60.51, 61.01, 61.51, 61.26, 62.01, 62.26, 62.76, 62.51, 63.51, 63.01, 63.26, 63.76, 64.52, 64.77, 64.27, 64.02, 65.02, 65.77, 65.27, 65.52, 66.27, 66.02, 66.52, 66.77, 67.52, 67.02, 67.27, 67.77, 68.27, 68.52, 68.77, 68.02, 69.02, 69.27, 69.52, 69.77, 70.52, 70.27, 70.02, 70.77, 71.52, 71.02, 71.77, 71.27, 72.02, 72.77, 72.27, 72.52, 73.02, 73.77, 73.27, 73.52, 74.52, 74.27, 74.77, 75.77, 75.02, 75.52, 75.27, 76.77, 76.02, 76.27, 76.52, 77.52, 77.27, 77.77, 77.02, 78.52, 78.02, 78.77, 78.27, 79.27, 79.02, 79.52, 79.77, 80.02, 80.77, 80.27, 81.52, 81.27, 81.02, 81.77, 82.02, 82.77, 82.52, 82.27, 83.27, 83.52, 83.02, 84.27, 84.02, 85.27, 85.77, 86.27, 86.77, 86.02, 87.02, 87.52, 88.27, 89.02, 90.27, 91.27, 91.52, 92.77, 93.27, 95.02, 95.52, 96.77, 99.77, 99.27, 106.02, 108.77, 76.5, 80.75, 24.8, 26.3, 26.05, 64.79, 64.29, 64.04, 65.29, 65.54, 65.04, 65.79, 66.29, 66.79, 66.04, 66.54, 67.79, 67.04, 67.54, 67.29, 68.54, 68.04, 68.79, 68.29, 69.54, 69.29, 69.79, 69.04, 70.79, 70.04, 70.54, 70.29, 71.29, 71.04, 71.54, 71.79, 72.54, 72.04, 72.29, 72.79, 73.04, 73.54, 73.79, 73.29, 74.79, 74.04, 74.29, 74.54, 75.29, 75.04, 75.79, 75.54, 76.79, 76.29, 76.54, 76.04, 77.79, 77.04, 77.29, 77.54, 78.79, 78.29, 78.54, 78.04, 79.54, 79.29, 79.79, 80.54, 80.79, 80.04, 81.54, 81.04, 81.79, 82.04, 82.54, 82.79, 83.54, 83.04, 84.79, 85.54, 85.79, 86.29, 86.54, 87.79, 87.29, 87.54, 88.79, 88.54, 89.79, 89.04, 89.29, 91.79, 91.29, 92.04, 92.54, 93.04, 93.54, 95.54, 95.79, 96.04, 99.79, 102.54, 102.04, 103.54, 0.83, 10.58, 13.69, 14.94, 15.97, 14.22, 15.58, 32.56, 33.31, 33.81, 33.56, 33.06, 34.06, 34.56, 34.31, 35.56, 35.06, 35.31, 35.81, 36.31, 36.81, 36.56, 37.56, 37.81, 37.31, 37.06, 38.06, 38.56, 38.31, 38.81, 39.06, 39.31, 39.81, 39.56, 40.31, 40.56, 40.81, 40.06, 41.81, 41.06, 41.31, 41.56, 42.06, 42.56, 42.31, 42.81, 43.56, 43.06, 43.31, 43.81, 44.06, 44.31, 44.81, 44.56, 45.31, 45.06, 45.81, 45.56, 46.56, 46.31, 46.81, 46.06, 47.81, 47.31, 47.06, 47.56, 48.31, 48.81, 48.06, 48.56, 49.31, 49.06, 49.56, 49.81, 50.56, 50.06, 50.81, 50.31, 51.06, 51.56, 51.81, 51.31, 52.06, 52.31, 52.81, 52.56, 53.81, 53.56, 53.31, 53.06, 54.81, 54.31, 54.56, 54.06, 55.31, 55.56, 55.06, 55.81, 56.56, 56.31, 56.06, 56.81, 57.81, 57.56, 57.06, 57.31, 58.56, 58.06, 58.31, 58.81, 59.06, 59.31, 59.81, 59.56, 60.56, 60.06, 60.31, 60.81, 61.31, 61.56, 61.81, 61.06, 62.06, 62.81, 62.56, 62.31, 63.81, 63.31, 63.56, 63.06, 64.81, 64.06, 64.56, 64.31, 65.06, 65.31, 65.56, 65.81, 66.81, 66.31, 66.06, 66.56, 67.06, 67.31, 67.81, 67.56, 68.31, 68.81, 68.06, 68.56, 69.06, 69.56, 69.31, 69.81, 19.19, 70.31, 70.56, 70.81, 70.06, 71.56, 71.31, 71.81, 71.06, 72.81, 72.31, 72.56, 22.44, 73.56, 73.06, 73.81, 73.31, 74.06, 74.56, 74.31, 74.81, 24.19, 75.81, 75.56, 75.31, 75.06, 25.69, 76.06, 76.81, 76.31, 24.69, 26.19, 77.06, 77.31, 25.94, 77.56, 27.69, 78.31, 78.81, 78.06, 27.94, 28.94, 79.56, 79.31, 79.06, 79.81, 29.19, 80.06, 80.31, 29.44, 80.81, 30.94, 81.56, 81.06, 81.31, 80.56, 31.44, 82.56, 31.94, 30.69, 31.69, 82.06, 83.06, 83.56, 83.31, 82.81, 84.06, 85.06, 85.31, 85.81, 86.56, 86.31, 86.06, 86.81, 87.31, 87.81, 88.56, 88.31, 88.06, 89.31, 89.06, 91.56, 92.81, 92.31, 97.81, 98.31, 98.06, 99.81, 100.81, 101.06, 103.06, 104.81, 111.81, 19.32, 21.07, 21.57, 22.82, 22.32, 23.57, 24.32, 25.57, 25.07, 25.82, 26.82, 26.32, 26.07, 27.07, 27.82, 27.32, 28.82, 28.57, 28.07, 29.32, 29.57, 29.82, 30.32, 30.57, 31.07, 31.32, 31.82, 32.57, 32.07, 33.07, 34.07, 34.32, 34.82, 34.57, 35.57, 35.82, 35.07, 36.82, 36.07, 36.32, 36.57, 37.82, 37.32, 38.57, 38.07, 38.82, 38.32, 39.57, 39.32, 39.07, 39.82, 40.32, 40.07, 40.82, 40.57, 41.07, 41.82, 41.32, 41.57, 42.57, 42.32, 42.07, 42.82, 43.32, 43.82, 43.57, 43.07, 44.32, 44.07, 44.82, 44.57, 45.32, 45.07, 45.57, 45.82, 46.07, 46.57, 46.82, 46.32, 47.82, 47.32, 47.07, 47.57, 48.82, 48.07, 48.32, 48.57, 49.32, 49.82, 49.57, 49.07, 50.32, 50.82, 50.57, 50.07, 51.32, 51.57, 51.07, 51.82, 52.07, 52.32, 52.57, 52.82, 53.57, 53.07, 53.32, 53.82, 54.32, 54.57, 54.82, 54.07, 55.07, 55.57, 55.82, 55.32, 56.07, 56.32, 56.57, 56.82, 57.82, 57.32, 57.07, 57.57, 58.32, 58.57, 58.82, 59.07, 59.82, 59.32, 60.32, 60.57, 60.82, 61.32, 61.82, 61.07, 61.57, 62.32, 62.82, 62.07, 62.57, 63.07, 63.32, 63.82, 63.57, 22.45, 23.7, 24.7, 24.2, 25.2, 25.95, 26.2, 26.7, 26.45, 27.7, 28.7, 29.95, 29.7, 30.2, 30.7, 30.45, 30.95, 31.95, 31.2, 31.7, 23.08, 25.58, 26.33, 27.33, 27.83, 28.83, 28.08, 29.83, 29.58, 31.83, 31.33, 31.08, 32.08, 32.83, 33.58, 33.33, 33.83, 33.08, 34.08, 34.58, 34.83, 34.33, 35.83, 35.58, 35.33, 36.58, 36.08, 36.83, 36.33, 37.08, 37.58, 37.33, 37.83, 38.58, 38.33, 38.08, 39.08, 39.83, 39.33, 39.58, 40.08, 40.83, 40.33, 40.58, 41.33, 41.58, 41.83, 41.08, 42.58, 42.33, 42.83, 42.08, 43.83, 43.33, 43.58, 43.08, 44.33, 44.08, 44.83, 44.58, 45.58, 45.33, 45.83, 45.08, 46.58, 46.83, 46.08, 46.33, 47.33, 47.83, 47.08, 47.58, 48.83, 48.58, 48.33, 48.08, 49.08, 49.58, 49.83, 49.33, 50.83, 50.58, 50.08, 50.33, 51.08, 51.33, 51.83, 51.58, 52.08, 52.58, 52.33, 52.83, 53.33, 53.83, 53.08, 53.58, 54.08, 54.83, 54.58, 54.33, 55.33, 55.08, 55.58, 55.83, 56.58, 56.08, 56.33, 56.83, 57.83, 57.58, 57.08, 57.33, 58.08, 58.58, 58.33, 58.83, 59.58, 59.33, 59.08, 59.83, 60.58, 60.83, 60.33, 60.08, 61.08, 61.33, 61.83, 61.58, 62.33, 62.58, 62.08, 62.83, 63.33, 63.83, 63.58, 63.08, 64.33, 64.08, 64.83, 64.58, 65.08, 65.33, 65.58, 65.83, 66.58, 66.33, 66.83, 66.08, 67.08, 67.58, 67.83, 67.33, 68.08, 68.83, 68.33, 68.58, 69.08, 69.33, 69.58, 69.83, 70.83, 70.58, 70.08, 70.33, 71.58, 71.83, 71.33, 71.08, 72.08, 72.83, 72.58, 72.33, 73.33, 73.83, 73.08, 73.58, 74.33, 74.83, 74.08, 74.58, 75.83, 75.33, 75.08, 75.58, 76.08, 76.83, 76.33, 76.58, 77.83, 77.33, 77.58, 77.08, 78.58, 78.83, 78.33, 79.08, 79.58, 79.33, 79.83, 80.33, 80.58, 80.08, 80.83, 81.83, 81.08, 81.58, 81.33, 82.33, 82.58, 82.83, 83.58, 83.83, 83.08, 83.33, 84.33, 84.08, 85.08, 85.83, 85.33, 86.08, 86.83, 87.08, 87.33, 88.83, 89.08, 89.33, 90.08, 90.83, 90.33, 92.58, 93.83, 94.08, 97.08, 98.33, 24.27, 64.6, 64.35, 64.1, 64.85, 65.85, 65.1, 65.6, 65.35, 66.35, 66.85, 66.6, 66.1, 67.85, 67.35, 67.1, 67.6, 68.6, 68.85, 68.1, 68.35, 69.6, 69.1, 69.85, 69.35, 70.1, 70.35, 70.6, 70.85, 71.85, 71.1, 71.6, 71.35, 72.85, 72.35, 72.6, 72.1, 73.35, 73.85, 73.1, 73.6, 74.6, 74.35, 74.85, 74.1, 75.85, 75.6, 75.35, 75.1, 76.85, 76.6, 76.1, 76.35, 77.6, 77.1, 77.85, 77.35, 78.1, 78.6, 78.85, 78.35, 79.35, 79.6, 79.1, 80.85, 80.6, 80.1, 80.35, 81.1, 81.85, 81.35, 81.6, 82.35, 83.6, 83.1, 83.85, 84.6, 84.85, 84.35, 85.85, 85.1, 86.1, 86.35, 86.6, 87.35, 87.85, 88.85, 88.6, 89.85, 89.1, 90.85, 92.35, 92.85, 92.6, 92.1, 95.6, 99.1, 100.6, 104.6, 11.8, 13.41, 14.52, 15.3, 14.3, 17.27, 17.55, 18.3, 18.49, 21.3, 19.16, 23.44, 23.24, 23.19, 26.52, 27.8, 27.38, 28.44, 30.16, 30.13, 31.88, 30.44, 26.02, 28.02, 28.52, 30.77, 31.27, 30.91, 31.41, 64.62, 64.87, 64.37, 64.12, 65.12, 65.62, 65.87, 65.37, 66.62, 66.12, 66.37, 66.87, 67.37, 67.62, 67.87, 67.12, 68.87, 68.62, 68.12, 68.37, 69.37, 69.12, 69.87, 69.62, 70.37, 70.12, 70.87, 70.62, 71.62, 71.37, 71.12, 71.87, 72.12, 72.87, 72.37, 72.62, 73.87, 73.62, 73.12, 73.37, 74.37, 74.87, 74.12, 74.62, 75.87, 75.12, 75.62, 75.37, 76.37, 76.12, 76.62, 76.87, 77.12, 77.37, 77.62, 77.87, 78.37, 78.62, 78.12, 78.87, 79.87, 79.62, 79.37, 79.12, 80.87, 80.37, 80.12, 80.62, 81.37, 81.87, 81.12, 82.87, 82.12, 83.87, 83.62, 84.62, 84.37, 84.12, 85.62, 85.12, 86.37, 86.87, 86.62, 86.12, 87.62, 87.12, 87.37, 88.12, 89.62, 91.37, 92.37, 95.37, 96.87, 97.87, 97.12, 98.62, 98.12, 99.12, 99.87, 33.38, 33.13, 33.63, 34.63, 34.38, 34.13, 34.88, 35.63, 35.13, 35.38, 35.88, 36.13, 36.88, 36.38, 37.13, 37.38, 37.88, 38.38, 38.88, 38.63, 39.88, 39.63, 39.13, 40.13, 40.88, 40.38, 40.63, 41.38, 41.88, 41.63, 41.13, 42.88, 42.63, 42.13, 42.38, 43.63, 43.13, 43.38, 43.88, 44.63, 44.13, 44.88, 44.38, 45.88, 45.63, 45.38, 45.13, 46.88, 46.13, 46.63, 46.38, 47.38, 47.13, 47.88, 48.38, 48.88, 48.13, 48.63, 49.13, 49.63, 49.88, 49.38, 50.88, 50.63, 50.38, 50.13, 51.38, 51.13, 51.63, 51.88, 52.38, 52.13, 52.88, 52.63, 53.63, 53.88, 53.38, 53.13, 54.13, 54.38, 54.88, 54.63, 55.88, 55.38, 55.13, 55.63, 56.63, 56.38, 56.13, 56.88, 57.38, 57.88, 57.63, 57.13, 58.13, 58.38, 58.63, 58.88, 59.38, 59.88, 60.13, 60.88, 60.38, 61.38, 61.88, 61.13, 62.13, 62.63, 63.38, 63.88, 63.13, 24.51, 26.01, 26.26, 29.01, 30.26, 31.01, 16.39, 21.39, 23.39, 24.89, 24.39, 26.39, 26.14, 27.64, 27.14, 28.64, 28.89, 29.14, 29.39, 29.64, 30.39, 30.64, 30.14, 31.89, 31.14, 31.39, 31.64, 32.39, 32.89, 32.14, 33.14, 34.64, 34.89, 34.39, 35.39, 35.14, 35.89, 35.64, 36.14, 36.64, 36.39, 37.64, 37.89, 37.39, 37.14, 38.89, 38.64, 38.14, 38.39, 39.89, 39.39, 40.89, 40.14, 40.64, 40.39, 41.39, 41.64, 41.89, 41.14, 42.39, 42.64, 42.14, 43.39, 43.89, 43.14, 43.64, 44.39, 44.14, 44.64, 44.89, 45.64, 45.89, 45.39, 45.14, 46.89, 46.39, 46.14, 46.64, 47.14, 47.39, 47.64, 47.89, 48.64, 48.14, 48.39, 48.89, 49.89, 49.39, 49.64, 49.14, 50.14, 50.64, 50.89, 51.89, 51.39, 51.64, 51.14, 52.39, 52.64, 52.89, 52.14, 53.39, 53.14, 53.64, 53.89, 54.14, 54.89, 54.39, 54.64, 55.39, 55.64, 55.89, 55.14, 56.64, 56.89, 56.14, 56.39, 57.89, 57.39, 57.14, 57.64, 58.64, 58.14, 58.89, 58.39, 59.64, 59.39, 59.14, 59.89, 60.64, 60.14, 60.39, 60.89, 61.14, 61.39, 61.89, 61.64, 62.39, 62.64, 62.14, 62.89, 63.89, 63.14, 63.39, 63.64, 64.64, 64.89, 64.39, 64.14, 65.14, 65.39, 65.64, 65.89, 66.64, 66.89, 66.39, 66.14, 67.14, 67.89, 67.64, 67.39, 68.39, 68.14, 68.64, 68.89, 69.39, 69.14, 69.64, 69.89, 19.77, 70.89, 70.14, 25.74, 20.77, 71.39, 71.89, 71.14, 71.64, 72.89, 72.39, 72.14, 72.64, 73.14, 73.64, 73.39, 73.89, 74.64, 74.39, 74.89, 24.52, 75.64, 75.14, 75.39, 75.89, 25.02, 76.39, 76.14, 76.64, 76.89, 77.89, 77.64, 77.14, 77.39, 27.02, 78.64, 78.89, 78.14, 79.39, 79.14, 79.64, 29.52, 80.14, 80.64, 29.02, 29.77, 80.89, 81.89, 80.39, 81.64, 81.14, 31.52, 82.39, 82.64, 82.89, 82.14, 81.39, 83.39, 83.64, 83.89, 84.39, 84.14, 85.89, 85.39, 85.14, 85.64, 86.39, 87.14, 87.64, 88.89, 88.64, 88.39, 89.14, 29.99, 29.74, 90.64, 90.39, 91.89, 91.14, 95.39, 96.64, 97.39, 98.14, 103.39, 105.64, 110.39, 23.65, 27.9, 27.65, 28.4, 28.15, 29.65, 29.9, 30.65, 30.15, 30.4, 31.9, 31.15, 31.65, 32.15, 32.9, 32.65, 32.4, 33.4, 33.15, 33.9, 34.4, 34.9, 34.15, 35.9, 35.15, 35.65, 36.15, 36.4, 36.65, 37.9, 37.4, 37.65, 37.15, 38.15, 38.9, 38.65, 38.4, 39.4, 39.9, 39.15, 39.65, 40.4, 40.9, 40.15, 40.65, 41.15, 41.9, 41.65, 41.4, 42.65, 42.4, 42.15, 42.9, 43.4, 43.9, 43.15, 43.65, 44.4, 44.9, 44.15, 44.65, 45.9, 45.4, 45.15, 45.65, 46.15, 46.9, 46.4, 46.65, 47.65, 47.9, 47.15, 47.4, 48.15, 48.4, 48.9, 48.65, 49.15, 49.9, 49.65, 49.4, 50.15, 50.65, 50.9, 50.4, 51.4, 51.65, 51.15, 51.9, 52.9, 52.4, 52.15, 52.65, 53.15, 53.9, 53.65, 53.4, 54.65, 54.4, 54.9, 54.15, 55.4, 55.9, 55.65, 55.15, 56.4, 56.9, 56.65, 56.15, 57.15, 57.9, 57.4, 57.65, 58.65, 58.4, 58.9, 58.15, 59.65, 59.15, 59.9, 59.4, 60.4, 60.15, 60.65, 60.9, 61.4, 61.9, 61.65, 61.15, 62.15, 62.9, 62.65, 62.4, 63.9, 63.4, 63.65, 63.15, 32.91, 32.41, 32.16, 33.66, 33.91, 34.91, 34.66, 35.91, 35.41, 35.16, 36.91, 36.41, 36.16, 36.66, 37.16, 37.66, 37.91, 38.16, 38.66, 39.91, 39.16, 39.66, 40.66, 40.91, 40.16, 41.16, 41.91, 41.41, 41.66, 42.91, 42.16, 42.41, 42.66, 43.66, 43.41, 43.16, 43.91, 44.91, 44.66, 44.16, 44.41, 45.91, 45.16, 45.41, 45.66, 46.66, 46.91, 46.41, 46.16, 47.66, 47.91, 47.16, 48.16, 48.91, 48.66, 48.41, 49.41, 49.91, 50.41, 50.16, 50.91, 50.66, 51.66, 51.16, 51.41, 51.91, 52.66, 52.16, 52.91, 52.41, 53.41, 53.66, 53.91, 53.16, 54.91, 54.66, 54.16, 54.41, 55.66, 55.91, 55.16, 55.41, 56.41, 56.16, 56.91, 56.66, 57.41, 57.91, 57.66, 57.16, 58.66, 58.91, 58.41, 58.16, 59.41, 59.66, 59.91, 60.16, 60.41, 60.66, 60.91, 61.66, 61.91, 61.41, 61.16, 62.16, 62.66, 62.41, 62.91, 63.91, 63.16, 63.66, 63.41, 64.41, 64.91, 64.16, 64.66, 65.91, 65.66, 65.16, 65.41, 66.16, 66.91, 66.41, 66.66, 67.16, 67.41, 67.66, 67.91, 68.66, 68.91, 68.41, 68.16, 69.41, 69.16, 69.66, 70.16, 70.41, 70.66, 70.91, 71.91, 71.66, 71.41, 71.16, 72.91, 72.66, 72.16, 72.41, 73.16, 73.41, 73.91, 73.66, 74.16, 74.91, 74.66, 74.41, 75.16, 75.66, 75.91, 75.41, 76.91, 76.16, 76.66, 76.41, 77.16, 77.91, 77.41, 77.66, 78.41, 78.91, 78.16, 78.66, 79.16, 79.66, 79.91, 79.41, 80.41, 80.16, 80.91, 81.66, 81.41, 81.91, 81.16, 82.16, 82.66, 82.91, 83.16, 83.66, 83.41, 83.91, 84.66, 84.16, 84.91, 84.41, 85.41, 85.91, 86.91, 86.41, 87.41, 88.16, 90.41, 91.66, 92.41, 93.41, 93.91, 94.66, 97.66, 97.16, 98.91, 100.41, 102.16, 103.66, 105.41, 12.6, 15.13, 64.43, 64.18, 64.68, 64.93, 65.68, 65.18, 65.43, 65.93, 66.43, 66.68, 66.93, 66.18, 67.93, 67.68, 67.18, 67.43, 68.68, 68.43, 68.18, 68.93, 69.68, 69.93, 69.18, 69.43, 70.93, 70.68, 70.43, 70.18, 71.93, 71.43, 71.68, 71.18, 72.43, 72.68, 72.93, 72.18, 73.68, 73.18, 73.43, 73.93, 74.68, 74.93, 74.18, 74.43, 75.43, 75.93, 75.18, 75.68, 76.93, 76.18, 76.68, 76.43, 77.18, 77.68, 77.43, 77.93, 78.93, 78.68, 78.18, 78.43, 79.18, 79.93, 79.43, 79.68, 80.18, 80.93, 80.43, 80.68, 81.43, 81.68, 81.93, 81.18, 82.43, 82.93, 82.18, 83.68, 83.18, 83.43, 84.68, 84.43, 84.93, 85.93, 85.43, 85.68, 86.43, 86.93, 87.93, 87.18, 88.18, 89.18, 90.43, 91.93, 92.68, 92.43, 94.93, 110.18, 75.42, 81.92, 82.92, 32.45, 32.95, 32.7, 33.2, 33.95, 34.95, 34.45, 34.7, 35.2, 35.7, 35.95, 35.45, 36.45, 36.7, 36.2, 36.95, 37.2, 37.95, 37.45, 37.7, 38.2, 38.45, 38.7, 38.95, 39.2, 39.45, 39.95, 40.7, 40.45, 40.95, 40.2, 41.7, 41.45, 41.2, 42.95, 42.45, 42.7, 42.2, 43.7, 43.95, 43.45, 43.2, 44.45, 44.95, 44.2, 45.7, 45.45, 45.2, 45.95, 46.7, 46.45, 46.2, 46.95, 47.7, 47.2, 47.95, 47.45, 48.45, 48.2, 48.7, 48.95, 49.45, 49.2, 49.7, 49.95, 50.95, 50.45, 50.2, 50.7, 51.2, 51.45, 51.7, 51.95, 52.45, 52.95, 52.7, 52.2, 53.95, 53.7, 53.45, 53.2, 54.7, 54.45, 54.95, 54.2, 55.7, 55.2, 55.45, 56.95, 56.2, 56.7, 56.45, 57.7, 57.95, 57.2, 57.45, 58.45, 58.2, 58.7, 58.95, 59.45, 59.95, 59.2, 59.7, 60.95, 60.7, 60.2, 60.45, 61.2, 61.7, 61.95, 61.45, 62.95, 62.2, 62.7, 62.45, 63.2, 63.7, 63.95, 63.45, 64.95, 64.45, 64.7, 64.2, 65.7, 65.2, 65.45, 65.95, 66.7, 66.2, 66.45, 66.95, 67.2, 67.45, 67.95, 67.7, 68.7, 68.95, 68.2, 68.45, 69.95, 69.2, 69.7, 69.45, 70.2, 70.45, 70.7, 70.95, 71.2, 71.95, 71.45, 71.7, 72.45, 72.7, 72.2, 72.95, 73.2, 73.95, 73.45, 73.7, 74.2, 74.45, 74.95, 74.7, 75.2, 75.95, 75.45, 75.7, 76.2, 76.7, 76.45, 76.95, 77.2, 77.95, 77.7, 77.45, 78.7, 78.45, 78.2, 78.95, 79.95, 79.7, 79.45, 79.2, 80.2, 80.7, 80.95, 80.45, 81.45, 81.2, 81.7, 82.2, 82.45, 82.95, 83.45, 83.7, 83.2, 84.7, 84.45, 84.95, 85.7, 85.45, 85.95, 85.2, 86.45, 87.7, 87.45, 87.95, 88.7, 89.2, 90.7, 90.45, 90.2, 91.2, 92.2, 93.45, 93.2, 96.2, 97.7, 97.2, 99.45, 100.95, 111.2, 18.96, 19.46, 23.96, 23.46, 24.46, 25.21, 25.71, 25.46, 26.96, 26.71, 26.21, 27.96, 28.71, 28.46, 28.21, 29.96, 29.46, 29.21, 30.96, 30.46, 31.46, 31.21, 31.96, 32.96, 32.46, 33.71, 33.21, 34.96, 34.46, 34.71, 34.21, 35.71, 35.46, 35.96, 35.21, 36.46, 36.96, 36.21, 36.71, 37.21, 37.71, 37.46, 37.96, 38.21, 38.96, 38.71, 38.46, 39.21, 39.46, 39.71, 39.96, 40.21, 40.71, 40.96, 40.46, 41.21, 41.46, 41.96, 41.71, 42.96, 42.71, 42.21, 42.46, 43.21, 43.71, 43.46, 43.96, 44.96, 44.46, 44.21, 44.71, 45.96, 45.21, 45.46, 45.71, 46.46, 46.21, 46.96, 46.71, 47.71, 47.21, 47.46, 47.96, 48.46, 48.21, 48.96, 48.71, 49.21, 49.96, 49.71, 49.46, 50.71, 50.21, 50.46, 50.96, 51.96, 51.71, 51.21, 51.46, 52.21, 52.71, 52.96, 52.46, 53.21, 53.46, 53.71, 53.96, 54.46, 54.96, 54.21, 54.71, 55.46, 55.96, 55.71, 55.21, 56.96, 56.46, 56.71, 56.21, 57.46, 57.96, 57.71, 57.21, 58.21, 58.96, 58.46, 58.71, 59.46, 59.96, 59.71, 59.21, 60.21, 60.96, 60.46, 60.71, 61.21, 61.71, 61.46, 61.96, 62.96, 62.21, 62.46, 62.71, 63.21, 63.96, 63.71, 23.34, 25.59, 25.84, 26.34, 27.59, 28.34, 28.59, 28.84, 28.09, 29.09, 29.34, 29.59, 29.84, 30.59, 30.09, 31.34, 31.59, 31.09, 31.84, 21.47, 26.97, 26.22, 26.72, 26.47, 27.47, 27.72, 28.47, 28.22, 29.97, 29.47, 29.72, 29.22, 30.72, 31.97, 31.22, 32.97, 32.22, 32.47, 32.72, 33.47, 33.97, 33.72, 33.22, 34.22, 34.97, 34.47, 35.72, 35.97, 35.47, 36.72, 36.97, 36.47, 36.22, 37.47, 37.97, 37.72, 38.97, 38.72, 38.22, 38.47, 39.72, 39.47, 39.22, 39.97, 40.47, 40.72, 40.22, 41.47, 41.72, 41.22, 41.97, 42.47, 42.97, 42.22, 42.72, 43.72, 43.97, 43.47, 43.22, 44.97, 44.72, 44.47, 44.22, 45.97, 45.47, 45.22, 45.72, 46.72, 46.47, 46.22, 46.97, 47.22, 47.47, 47.72, 47.97, 48.22, 48.72, 48.47, 48.97, 49.47, 49.97, 49.72, 49.22, 50.97, 50.47, 50.22, 50.72, 51.47, 51.97, 51.72, 51.22, 52.47, 52.97, 52.22, 52.72, 53.97, 53.72, 53.22, 53.47, 54.22, 54.47, 54.97, 54.72, 55.97, 55.22, 55.47, 55.72, 56.47, 56.72, 56.97, 56.22, 57.97, 57.47, 57.22, 57.72, 58.72, 58.97, 58.22, 58.47, 59.72, 59.22, 59.97, 59.47, 60.72, 60.97, 60.47, 60.22, 61.72, 61.47, 61.22, 61.97, 62.22, 62.97, 62.72, 62.47, 63.72, 63.47, 63.22, 63.97, 64.97, 64.47, 64.22, 64.72, 65.22, 65.72, 65.97, 65.47, 66.47, 66.72, 66.97, 66.22, 67.97, 67.72, 67.47, 67.22, 68.97, 68.47, 68.72, 68.22, 69.22, 69.97, 69.72, 69.47, 70.22, 70.72, 70.47, 70.97, 71.22, 71.72, 71.97, 71.47, 72.97, 72.72, 72.47, 72.22, 73.97, 73.47, 73.72, 73.22, 74.72, 74.47, 74.22, 74.97, 75.97, 75.22, 75.47, 75.72, 76.97, 76.47, 76.22, 76.72, 77.22, 77.97, 77.72, 77.47, 78.72, 78.47, 78.22, 78.97, 79.72, 79.22, 79.97, 79.47, 80.47, 80.72, 80.22, 81.47, 81.22, 81.97, 81.72, 82.97, 82.47, 82.72, 83.97, 84.97, 84.47, 84.22, 84.72, 85.22, 85.72, 86.97, 86.22, 86.47, 87.97, 87.72, 88.47, 88.97, 89.97, 89.72, 93.97, 96.97, 96.47, 97.47, 100.22, 106.47, 107.97, 32.98, 32.23, 32.73, 33.48, 33.23, 33.73, 34.23, 34.73, 34.98, 34.48, 35.73, 35.98, 35.48, 36.98, 36.73, 36.23, 37.98, 37.48, 37.23, 37.73, 38.48, 38.98, 38.23, 38.73, 39.23, 39.73, 39.98, 39.48, 40.23, 40.48, 40.98, 40.73, 41.48, 41.73, 41.98, 41.23, 42.23, 42.48, 42.98, 42.73, 43.48, 43.98, 43.73, 44.73, 44.23, 44.48, 44.98, 45.48, 45.73, 45.98, 45.23, 46.73, 46.23, 46.98, 46.48, 47.23, 47.73, 47.48, 47.98, 48.98, 48.73, 48.23, 48.48, 49.23, 49.98, 49.73, 49.48, 50.98, 50.23, 50.73, 50.48, 51.23, 51.73, 51.48, 51.98, 52.73, 52.23, 52.48, 52.98, 53.48, 53.73, 53.98, 53.23, 54.48, 54.23, 54.73, 54.98, 55.73, 55.48, 55.23, 55.98, 56.98, 56.73, 56.48, 56.23, 57.73, 57.98, 57.48, 57.23, 58.73, 58.98, 58.48, 58.23, 59.73, 59.23, 59.98, 59.48, 60.23, 60.73, 60.48, 60.98, 61.48, 61.23, 61.98, 61.73, 62.48, 62.98, 62.23, 62.73, 63.48, 63.73, 63.98, 63.23, 64.49, 64.99, 64.24, 64.74, 65.99, 65.74, 65.49, 65.24, 66.24, 66.99, 66.74, 66.49, 67.74, 67.24, 67.49, 67.99, 68.49, 68.24, 68.99, 68.74, 69.24, 69.99, 69.49, 69.74, 70.49, 70.24, 70.74, 70.99, 71.99, 71.49, 71.24, 71.74, 72.49, 72.99, 72.24, 72.74, 73.49, 73.99, 73.74, 73.24, 74.49, 74.99, 74.74, 74.24, 75.99, 75.24, 75.74, 75.49, 76.49, 76.74, 76.24, 76.99, 77.24, 77.74, 77.99, 77.49, 78.74, 78.24, 78.99, 78.49, 79.24, 79.74, 79.99, 79.49, 80.49, 80.74, 80.99, 81.74, 81.99, 81.49, 82.74, 82.24, 82.99, 82.49, 83.49, 83.99, 83.74, 84.49, 84.99, 84.24, 84.74, 85.74, 85.24, 86.49, 86.24, 87.49, 87.24, 88.99, 88.24, 89.49, 89.24, 90.49, 90.99, 91.99, 91.49, 93.99, 93.24, 94.49, 95.49, 96.49, 11.29, 13.07, 15.04, 16.65, 17.68, 17.65, 18.65, 17.79, 20.43, 21.68, 23.9, 24.15, 25.93, 24.4, 25.15, 26.65, 29.04, 30.29, 26.4, 32.82, 33.98, 33.49, 35.32, 35.37, 36.62, 32.88, 32.63, 32.26, 33.88, 33.76, 43.23, 44.51, 45.01, 46.29, 46.79, 39.38, 49.24, 49.74, 51.24, 43.51, 53.24, 54.85, 55.93, 47.63, 57.54, 57.01, 59.13, 60.77, 59.63, 62.38, 63.46, 60.63, 61.63, 58.07, 59.57, 60.07, 60.26, 61.76, 62.88, 63.63, 29.69, 64.51, 64.26, 64.01, 64.76, 65.01, 65.76, 65.51, 65.26, 66.26, 66.01, 66.51, 66.76, 67.76, 67.26, 67.51, 67.01, 68.51, 68.76, 68.01, 68.26, 69.26, 69.76, 69.51, 69.01, 70.26, 70.01, 70.76, 70.51, 71.26, 71.01, 71.51, 71.76, 72.76, 72.26, 72.01, 72.51, 73.26, 73.76, 73.51, 73.01, 74.26, 74.01, 74.76, 74.51, 75.01, 75.51, 75.76, 75.26, 76.51, 76.01, 76.26, 76.76, 77.51, 77.01, 77.26, 77.76, 78.26, 78.51, 78.76, 78.01, 79.51, 79.01, 79.76, 79.26, 80.26, 80.76, 80.51, 80.01, 81.76, 81.26, 81.51, 81.01, 82.26, 82.51, 82.01, 82.76, 83.26, 83.51, 84.01, 84.26, 85.51, 85.01, 86.51, 86.26, 86.01, 87.01, 87.51, 88.26, 88.76, 88.51, 90.01, 91.01, 92.76, 92.01, 92.51, 92.26, 93.01, 93.51, 94.26, 99.76, 100.76, 107.51, 108.01, 32.27, 32.77, 32.02, 32.52, 33.52, 33.02, 33.77, 34.27, 34.02, 35.77, 35.02, 35.52, 36.02, 36.52, 36.27, 36.77, 37.52, 37.02, 37.27, 38.77, 38.52, 38.27, 38.02, 39.02, 39.52, 39.77, 39.27, 40.27, 40.77, 40.02, 40.52, 41.77, 41.02, 41.27, 41.52, 42.02, 42.52, 42.77, 42.27, 43.27, 43.77, 43.52, 43.02, 44.77, 44.02, 44.52, 44.27, 45.02, 45.27, 45.52, 45.77, 46.27, 46.02, 46.52, 46.77, 47.02, 47.77, 47.27, 47.52, 48.02, 48.52, 48.27, 48.77, 49.27, 49.02, 49.52, 49.77, 50.27, 50.77, 50.52, 50.02, 51.27, 51.77, 51.02, 51.52, 52.27, 52.02, 52.77, 52.52, 53.52, 53.77, 53.02, 53.27, 54.77, 54.02, 54.27, 54.52, 55.52, 55.27, 55.02, 55.77, 56.52, 56.02, 56.77, 56.27, 57.52, 57.02, 57.27, 57.77, 58.77, 58.52, 58.02, 58.27, 59.27, 59.02, 59.52, 59.77, 60.52, 60.02, 60.27, 61.52, 61.77, 61.02, 61.27, 62.77, 62.02, 62.52, 62.27, 63.77, 63.27, 63.02, 63.52, 19.28, 20.28, 20.78, 21.78, 23.78, 24.28, 24.78, 25.28, 26.03, 27.28, 27.03, 27.53, 27.78, 28.03, 28.28, 28.78, 29.78, 30.03, 31.53, 31.28, 31.78, 31.03, 32.78, 32.28, 32.53, 33.28, 33.78, 33.53, 33.03, 34.03, 34.28, 34.78, 34.53, 35.28, 35.78, 35.03, 35.53, 36.28, 36.78, 37.53, 37.03, 37.28, 37.78, 38.28, 38.53, 38.03, 38.78, 39.78, 39.53, 39.28, 39.03, 40.78, 40.28, 40.03, 40.53, 41.28, 41.53, 41.03, 41.78, 42.28, 42.78, 42.53, 42.03, 43.03, 43.78, 43.28, 43.53, 44.53, 44.78, 44.03, 44.28, 45.53, 45.78, 45.28, 46.03, 46.28, 46.78, 46.53, 47.53, 47.03, 47.28, 47.78, 48.03, 48.53, 48.28, 48.78, 49.78, 49.03, 49.53, 49.28, 50.53, 50.78, 50.28, 50.03, 51.03, 51.78, 51.28, 51.53, 52.03, 52.53, 52.78, 52.28, 53.78, 53.28, 53.03, 53.53, 54.28, 54.78, 54.53, 54.03, 55.28, 55.78, 55.53, 55.03, 56.53, 56.78, 56.03, 56.28, 57.78, 57.53, 57.28, 57.03, 58.03, 58.28, 58.53, 58.78, 59.78, 59.28, 60.78, 60.28, 60.03, 60.53, 61.28, 61.78, 61.03, 61.53, 62.03, 62.28, 62.78, 62.53, 63.53, 63.78, 63.03, 63.28, 64.53, 64.78, 64.28, 64.03, 65.03, 65.53, 65.28, 65.78, 66.28, 66.53, 66.78, 66.03, 67.03, 67.78, 67.28, 67.53, 68.53, 68.28, 68.03, 68.78, 69.78, 69.03, 69.28, 69.53, 19.91, 70.03, 70.28, 70.53, 70.78, 20.16, 71.53, 71.03, 71.28, 71.78, 72.03, 72.28, 72.53, 72.78, 73.53, 73.28, 73.78, 73.03, 74.28, 74.53, 74.03, 74.78, 24.91, 75.53, 75.78, 75.28, 75.03, 25.41, 76.28, 76.78, 25.91, 76.03, 76.53, 77.53, 77.03, 77.78, 77.28, 27.16, 78.53, 78.28, 27.41, 78.78, 28.41, 79.03, 79.53, 79.28, 79.78, 29.91, 80.53, 80.03, 29.66, 80.28, 30.66, 81.03, 81.78, 81.53, 29.41, 31.91, 31.16, 31.66, 82.78, 82.28, 82.53, 83.28, 83.53, 83.03, 84.78, 84.53, 85.28, 85.78, 85.03, 85.53, 86.28, 86.03, 87.28, 87.78, 87.03, 88.03, 88.78, 89.53, 90.03, 90.78, 90.28, 91.03, 91.53, 94.28, 96.53, 98.53, 98.78, 22.79, 23.54, 24.79, 25.54, 25.79, 27.54, 27.04, 28.29, 28.79, 28.54, 29.54, 30.79, 30.54, 31.79, 31.04, 32.29, 32.04, 33.29, 33.79, 33.04, 34.29, 34.79, 34.54, 34.04, 35.29, 35.04, 35.79, 35.54, 36.79, 36.29, 36.54, 36.04, 37.29, 37.79, 37.54, 38.29, 38.54, 38.79, 38.04, 39.79, 39.29, 39.54, 39.04, 40.54, 40.04, 40.29, 40.79, 41.29, 41.04, 41.54, 41.79, 42.29, 42.04, 42.79, 43.04, 43.79, 43.54, 43.29, 44.79, 44.04, 44.29, 44.54, 45.79, 45.54, 45.29, 45.04, 46.54, 46.04, 47.04, 47.54, 47.29, 47.79, 48.54, 48.79, 48.04, 48.29, 49.54, 49.29, 49.79, 49.04, 50.54, 50.04, 50.29, 50.79, 51.04, 51.29, 51.54, 51.79, 52.79, 52.54, 52.04, 52.29, 53.04, 53.54, 53.29, 53.79, 54.79, 54.04, 54.54, 54.29, 55.29, 55.54, 55.79, 55.04, 56.29, 56.79, 56.54, 56.04, 57.04, 57.29, 57.79, 58.79, 58.54, 58.04, 58.29, 59.79, 59.04, 59.29, 59.54, 60.29, 60.54, 60.04, 60.79, 61.29, 61.04, 61.79, 61.54, 62.54, 62.29, 62.79, 62.04, 63.79, 63.54, 63.04, 63.29, 32.05, 33.05, 33.8, 34.05, 34.55, 34.8, 35.8, 35.55, 35.05, 35.3, 36.55, 36.05, 36.8, 37.3, 37.55, 37.8, 37.05, 38.55, 38.8, 38.05, 38.3, 39.8, 39.3, 39.55, 39.05, 40.05, 40.3, 40.55, 40.8, 41.55, 41.8, 41.05, 41.3, 42.05, 42.3, 42.55, 42.8, 43.05, 43.8, 43.3, 43.55, 44.55, 44.05, 44.8, 44.3, 45.05, 45.8, 45.3, 45.55, 46.8, 46.05, 46.3, 46.55, 47.55, 47.8, 47.3, 47.05, 48.8, 48.3, 48.55, 48.05, 49.55, 49.8, 49.05, 49.3, 50.05, 50.8, 50.3, 50.55, 51.05, 51.3, 51.8, 51.55, 52.8, 52.05, 52.55, 52.3, 53.55, 53.05, 53.8, 53.3, 54.3, 54.05, 54.55, 54.8, 55.05, 55.55, 55.3, 55.8, 56.55, 56.8, 56.05, 56.3, 57.55, 57.3, 57.8, 57.05, 58.05, 58.8, 58.55, 58.3, 59.55, 59.3, 59.8, 59.05, 60.05, 60.3, 60.8, 60.55, 61.55, 61.8, 61.3, 61.05, 62.3, 62.8, 62.55, 62.05, 63.05, 63.55, 63.3, 63.8, 64.3, 64.8, 64.55, 64.05, 65.8, 65.55, 65.05, 65.3, 66.8, 66.55, 66.05, 66.3, 67.8, 67.3, 67.55, 67.05, 68.55, 68.8, 68.3, 69.55, 69.3, 69.8, 69.05, 70.05, 70.55, 70.8, 70.3, 71.8, 71.05, 71.3, 71.55, 72.3, 72.05, 72.8, 72.55, 73.55, 73.05, 73.3, 73.8, 74.3, 74.8, 74.05, 74.55, 75.3, 75.8, 75.55, 75.05, 76.3, 76.55, 76.8, 76.05, 77.05, 77.8, 77.3, 77.55, 78.55, 78.8, 78.05, 78.3, 79.8, 79.55, 79.05, 80.55, 80.8, 80.3, 80.05, 81.3, 81.55, 81.8, 81.05, 82.55, 82.3, 82.05, 83.3, 83.05, 83.8, 83.55, 84.05, 84.55, 84.3, 84.8, 85.05, 85.8, 86.8, 86.55, 87.55, 87.8, 88.8, 88.3, 89.3, 89.8, 90.3, 90.05, 92.05, 95.8, 102.05, 106.05, 107.3, 76.36, 78.11, 80.11, 80.61, 81.86, 7.26, 13.9, 64.57, 64.82, 64.32, 64.07, 65.57, 65.32, 65.07, 65.82, 66.82, 66.32, 66.57, 66.07, 67.82, 67.07, 67.32, 67.57, 68.07, 68.32, 68.82, 68.57, 69.57, 69.82, 69.07, 69.32, 70.07, 70.82, 70.32, 70.57, 71.57, 71.32, 71.82, 71.07, 72.82, 72.32, 72.07, 72.57, 73.07, 73.32, 73.57, 73.82, 74.32, 74.57, 74.82, 74.07, 75.82, 75.07, 75.32, 75.57, 76.07, 76.32, 76.57, 76.82, 77.07, 77.32, 77.82, 78.82, 78.07, 78.57, 78.32, 79.32, 79.07, 79.82, 79.57, 80.32, 80.82, 80.07, 80.57, 81.07, 81.57, 81.32, 81.82, 82.32, 82.82, 82.07, 82.57, 83.57, 83.32, 83.82, 84.32, 84.82, 84.57, 84.07, 85.07, 85.57, 85.82, 86.57, 86.07, 86.82, 87.57, 87.32, 87.82, 88.07, 88.82, 88.57, 89.82, 89.07, 90.57, 90.32, 91.07, 91.57, 91.82, 92.82, 92.57, 92.07, 93.57, 93.07, 96.07, 98.57, 102.57, 32.59, 32.84, 32.34, 33.84, 33.34, 33.09, 34.59, 34.34, 34.84, 35.59, 35.09, 35.34, 36.09, 36.59, 36.84, 36.34, 37.34, 37.59, 37.09, 37.84, 38.09, 38.84, 38.59, 38.34, 39.09, 39.34, 39.59, 39.84, 40.09, 40.34, 40.59, 40.84, 41.59, 41.09, 41.34, 41.84, 42.59, 42.84, 42.34, 42.09, 43.84, 43.59, 43.34, 43.09, 44.59, 44.84, 44.34, 44.09, 45.09, 45.59, 45.84, 45.34, 46.59, 46.84, 46.34, 46.09, 47.34, 47.09, 47.59, 47.84, 48.84, 48.59, 48.09, 48.34, 49.84, 49.59, 49.34, 50.34, 50.09, 50.59, 50.84, 51.34, 51.59, 51.09, 51.84, 52.84, 52.09, 52.34, 52.59, 53.34, 53.84, 53.59, 53.09, 54.84, 54.09, 54.34, 54.59, 55.59, 55.84, 55.09, 55.34, 56.34, 56.84, 56.59, 56.09, 57.84, 57.34, 57.09, 57.59, 58.34, 58.59, 58.84, 58.09, 59.84, 59.09, 59.59, 59.34, 60.09, 60.84, 60.59, 60.34, 61.09, 61.84, 61.59, 61.34, 62.34, 62.84, 62.09, 62.59, 63.84, 63.34, 63.59, 63.09, 64.84, 64.59, 64.09, 64.34, 65.34, 65.09, 65.84, 65.59, 66.59, 66.84, 66.34, 66.09, 67.09, 67.34, 67.84, 67.59, 68.59, 68.09, 68.34, 69.59, 69.84, 69.34, 69.09, 70.59, 70.09, 70.34, 70.84, 71.09, 71.34, 71.59, 71.84, 72.34, 72.59, 72.09, 72.84, 73.59, 73.84, 73.09, 73.34, 74.84, 74.34, 74.09, 74.59, 75.34, 75.09, 75.84, 75.59, 76.34, 76.09, 76.59, 76.84, 77.59, 77.34, 77.09, 77.84, 78.59, 78.84, 78.09, 78.34, 79.59, 79.84, 79.34, 79.09, 80.09, 80.59, 80.84, 80.34, 81.09, 81.59, 81.84, 82.09, 82.84, 82.59, 82.34, 83.84, 83.34, 84.34, 84.09, 84.84, 85.84, 86.34, 86.84, 86.09, 87.84, 88.34, 88.09, 89.59, 90.34, 93.59, 94.59, 99.84, 100.09, 101.84, 108.34, 22.85, 22.6, 24.6, 25.1, 26.35, 26.6, 27.85, 28.35, 29.1, 29.35, 30.35, 30.1, 30.6, 30.85, 31.6, 31.85, 32.6, 32.85, 33.1, 33.85, 33.35, 33.6, 34.85, 34.1, 34.35, 34.6, 35.35, 35.85, 35.6, 35.1, 36.35, 36.1, 36.6, 36.85, 37.6, 37.85, 37.1, 38.85, 38.35, 38.1, 38.6, 39.85, 39.6, 39.35, 39.1, 40.35, 40.85, 40.1, 40.6, 41.35, 41.6, 41.1, 41.85, 42.1, 42.85, 42.35, 42.6, 43.1, 43.35, 43.6, 43.85, 44.35, 44.85, 44.6, 44.1, 45.1, 45.6, 45.85, 45.35, 46.85, 46.35, 46.6, 46.1, 47.35, 47.85, 47.6, 47.1, 48.85, 48.6, 48.35, 48.1, 49.6, 49.35, 49.1, 49.85, 50.85, 50.1, 50.6, 50.35, 51.35, 51.1, 51.85, 51.6, 52.1, 52.6, 52.85, 52.35, 53.35, 53.1, 53.85, 53.6, 54.6, 54.35, 54.1, 55.1, 55.6, 55.85, 55.35, 56.1, 56.6, 56.85, 56.35, 57.6, 57.35, 57.85, 57.1, 58.35, 58.1, 58.6, 58.85, 59.6, 59.85, 59.1, 59.35, 60.35, 60.1, 60.85, 60.6, 61.85, 61.35, 61.1, 61.6, 62.35, 62.85, 62.1, 62.6, 63.6, 63.35, 63.85, 63.1, 19.73, 21.98, 22.23, 22.73, 25.48, 26.23, 27.23, 27.73, 27.48, 27.98, 28.73, 29.48, 29.98, 30.98, 30.23, 30.73, 31.23, 31.48, 31.98, 15.61, 18.86, 21.11, 22.36, 22.11, 24.86, 24.11, 25.61, 25.36, 26.86, 26.36, 27.11, 28.61, 28.11, 29.11, 29.86, 30.86, 30.11, 31.11, 31.36, 31.61, 31.86, 32.36, 32.11, 33.86, 34.36, 34.61, 34.11, 35.11, 35.86, 35.61, 36.86, 36.61, 36.36, 36.11, 37.61, 37.86, 37.11, 37.36, 38.11, 38.36, 38.61, 38.86, 39.11, 39.61, 39.86, 39.36, 40.86, 40.61, 40.36, 40.11, 41.36, 41.61, 41.86, 41.11, 42.11, 42.61, 42.86, 42.36, 43.36, 43.86, 43.11, 43.61, 44.61, 44.86, 44.11, 44.36, 45.61, 45.36, 45.11, 45.86, 46.86, 46.36, 46.61, 46.11, 47.61, 47.36, 47.86, 47.11, 48.61, 48.86, 48.36, 48.11, 49.86, 49.11, 49.61, 49.36, 50.61, 50.86, 50.36, 50.11, 51.36, 51.86, 51.11, 51.61, 52.11, 52.61, 52.86, 52.36, 53.11, 53.61, 53.36, 53.86, 54.61, 54.36, 54.11, 54.86, 55.86, 55.36, 55.61, 55.11, 56.36, 56.11, 56.86, 56.61, 57.36, 57.86, 57.61, 57.11, 58.86, 58.36, 58.61, 58.11, 59.36, 59.11, 59.61, 59.86, 60.86, 60.36, 60.11, 60.61, 61.86, 61.61, 61.36, 61.11, 62.11, 62.61, 62.36, 62.86, 63.11, 63.61, 63.86, 63.36, 64.61, 64.86, 64.11, 64.36, 65.36, 65.86, 65.11, 66.36, 66.86, 66.61, 66.11, 67.61, 67.86, 67.36, 67.11, 68.86, 68.36, 68.61, 68.11, 69.86, 69.36, 69.61, 69.11, 70.36, 70.11, 70.86, 70.61, 71.11, 71.61, 71.36, 71.86, 21.99, 72.86, 72.61, 72.36, 72.11, 73.61, 73.86, 73.36, 73.11, 74.36, 74.86, 74.11, 74.61, 24.49, 75.86, 75.36, 24.74, 75.61, 75.11, 76.11, 25.24, 76.61, 24.99, 26.24, 77.86, 77.61, 77.36, 77.11, 27.74, 78.86, 78.61, 78.36, 27.49, 28.24, 28.49, 79.61, 28.99, 79.11, 79.86, 80.86, 28.74, 79.36, 29.49, 80.36, 81.61, 29.24, 30.24, 30.49, 81.11, 82.86, 31.99, 31.74, 81.36, 82.61, 83.36, 31.49, 82.11, 82.36, 84.61, 84.36, 84.86, 84.11, 85.61, 85.11, 85.36, 86.61, 86.11, 87.36, 88.61, 88.86, 89.86, 89.61, 90.36, 90.11, 90.86, 91.61, 92.36, 93.86, 96.86, 96.11, 98.86, 98.11, 101.11, 103.61, 104.86, 32.37, 32.12, 32.62, 32.87, 33.12, 33.62, 33.37, 34.62, 34.12, 34.37, 35.62, 35.87, 35.12, 27.88, 36.87, 36.37, 37.37, 37.87, 37.62, 37.12, 38.62, 38.12, 38.37, 38.87, 39.37, 39.12, 39.62, 39.87, 40.37, 40.12, 40.87, 40.62, 41.37, 41.12, 41.87, 41.62, 42.12, 42.37, 42.87, 42.62, 43.62, 43.12, 43.87, 43.37, 44.87, 44.12, 44.62, 44.37, 45.37, 45.62, 45.12, 45.87, 46.12, 46.37, 46.62, 46.87, 47.37, 47.12, 47.87, 47.62, 48.37, 48.87, 48.62, 48.12, 49.37, 49.87, 49.12, 49.62, 50.62, 50.37, 50.87, 50.12, 51.87, 51.37, 51.12, 51.62, 52.87, 52.12, 52.62, 52.37, 53.87, 53.62, 53.12, 53.37, 54.37, 54.62, 54.12, 54.87, 55.87, 55.37, 55.62, 55.12, 56.87, 56.12, 56.37, 56.62, 57.37, 57.12, 57.87, 57.62, 58.37, 58.12, 58.87, 58.62, 59.62, 59.12, 59.87, 59.37, 60.12, 60.62, 60.87, 60.37, 61.37, 61.62, 61.12, 61.87, 62.12, 62.37, 62.87, 62.62, 63.37, 63.12, 63.62, 63.87, 10.23, 11.98, 14.73, 16.23, 18.45, 19.26, 20.7, 20.59, 22.2, 23.81, 24.01, 25.51, 25.76, 27.76, 27.01, 28.51, 30.76, 31.76, 31.26, 31.51, 25.31, 27.81, 28.06, 28.56, 29.31, 30.06, 31.56, 64.88, 64.38, 64.13, 64.63, 65.63, 65.13, 65.88, 65.38, 66.38, 66.13, 66.88, 66.63, 67.13, 67.88, 67.63, 67.38, 68.13, 68.63, 68.38, 68.88, 69.38, 69.13, 69.63, 69.88, 70.63, 70.13, 70.38, 70.88, 71.88, 71.63, 71.13, 71.38, 72.63, 72.88, 72.38, 72.13, 73.63, 73.38, 73.13, 73.88, 74.13, 74.88, 74.63, 74.38, 75.88, 75.63, 75.38, 75.13, 76.13, 76.38, 76.88, 76.63, 77.63, 77.13, 77.38, 78.63, 78.88, 78.13, 78.38, 79.38, 79.88, 79.13, 79.63, 80.38, 80.63, 80.13, 80.88, 81.38, 81.88, 81.13, 81.63, 82.88, 82.38, 82.13, 82.63, 83.88, 83.13, 83.38, 84.13, 84.63, 85.38, 85.88, 87.13, 88.13, 88.38, 88.63, 90.88, 91.13, 94.63, 96.88, 96.38, 112.88, 1.45, 64.15, 64.9, 64.65, 64.4, 65.15, 65.4, 65.9, 65.65, 66.4, 66.65, 66.9, 67.15, 67.9, 67.4, 67.65, 68.9, 68.15, 68.65, 68.4, 69.9, 69.15, 69.65, 69.4, 70.65, 70.4, 70.15, 70.9, 71.4, 71.65, 71.9, 71.15, 72.15, 72.4, 72.65, 72.9, 73.9, 73.4, 73.15, 73.65, 74.65, 74.9, 74.15, 74.4, 75.9, 75.65, 75.4, 75.15, 76.4, 76.65, 76.9, 76.15, 77.65, 77.4, 77.9, 77.15, 78.65, 78.15, 78.9, 78.4, 79.4, 79.65, 79.15, 79.9, 80.9, 80.15, 80.4, 80.65, 81.15, 81.65, 81.4, 81.9, 82.4, 82.65, 82.15, 82.9, 83.9, 83.65, 84.4, 84.15, 84.65, 85.15, 85.4, 85.65, 85.9, 86.65, 86.15, 86.4, 87.65, 87.4, 87.9, 88.15, 89.15, 89.9, 89.4, 90.65, 91.65, 92.15, 92.9, 93.15, 93.65, 94.65, 95.9, 101.9, 103.9, 76.56, 77.81, 78.56, 16.67, 19.92, 20.17, 21.17, 22.42, 23.67, 24.17, 26.92, 26.42, 26.67, 27.17, 28.17, 28.42, 29.17, 29.92, 30.67, 30.92, 30.42, 31.67, 31.92, 31.42, 31.17, 32.17, 32.67, 32.42, 32.92, 33.42, 33.17, 33.92, 34.17, 34.92, 34.42, 35.67, 35.42, 35.17, 35.92, 36.42, 36.67, 36.92, 36.17, 37.92, 37.42, 37.17, 38.42, 38.67, 38.92, 38.17, 39.17, 39.42, 39.92, 39.67, 40.17, 40.92, 40.42, 40.67, 41.92, 41.67, 41.42, 41.17, 42.17, 42.67, 42.42, 42.92, 43.17, 43.42, 43.67, 43.92, 44.92, 44.42, 44.17, 44.67, 45.67, 45.17, 45.42, 45.92, 46.42, 46.67, 46.17, 46.92, 47.92, 47.42, 47.17, 47.67, 48.67, 48.17, 49.17, 49.42, 49.67, 49.92, 50.92, 50.42, 50.17, 50.67, 51.17, 51.67, 51.92, 51.42, 52.17, 52.42, 52.67, 52.92, 53.92, 53.17, 53.67, 53.42, 54.42, 54.92, 54.17, 54.67, 55.17, 55.67, 55.42, 55.92, 56.67, 56.42, 56.17, 56.92, 57.67, 57.17, 57.92, 57.42, 58.67, 58.17, 58.92, 58.42, 59.67, 59.92, 59.42, 59.17, 60.67, 60.42, 60.17, 60.92, 61.42, 61.92, 61.17, 61.67, 62.17, 62.42, 62.67, 63.67, 63.17, 63.42, 63.92, 64.67, 64.17, 64.42, 64.92, 65.17, 65.92, 65.42, 65.67, 66.17, 66.67, 66.92, 66.42, 67.17, 67.42, 67.67, 67.92, 68.17, 68.92, 68.67, 68.42, 69.17, 69.42, 69.92, 69.67, 70.42, 70.92, 70.67, 70.17, 71.67, 71.42, 71.17, 71.92, 72.92, 72.67, 72.17, 72.42, 73.17, 73.67, 73.92, 73.42, 23.8, 74.17, 74.92, 74.67, 74.42, 24.3, 24.55, 75.67, 75.17, 75.92, 25.3, 25.05, 76.67, 76.17, 76.92, 76.42, 77.17, 77.67, 77.42, 77.92, 27.3, 27.55, 78.92, 78.17, 78.42, 28.05, 79.42, 79.92, 79.67, 79.17, 29.55, 29.8, 80.67, 80.42, 80.17, 30.05, 30.8, 30.55, 81.67, 80.92, 31.3, 81.17, 81.42, 31.8, 30.3, 82.67, 83.92, 83.17, 82.17, 31.05, 82.42, 84.42, 84.17, 84.67, 84.92, 83.67, 85.67, 85.17, 85.92, 86.17, 86.42, 87.67, 87.17, 88.17, 90.92, 91.92, 91.67, 91.17, 94.67, 94.17, 95.42, 21.43, 22.18, 23.18, 23.43, 24.18, 24.68, 26.43, 27.93, 27.18, 27.43, 27.68, 28.93, 28.18, 28.43, 29.68, 29.93, 29.18, 30.18, 30.93, 30.43, 31.43, 32.93, 32.43, 33.68, 33.43, 33.18, 34.43, 34.18, 34.68, 34.93, 35.18, 35.68, 35.93, 35.43, 36.43, 36.68, 36.18, 37.18, 37.93, 37.68, 37.43, 38.93, 38.18, 38.43, 38.68, 39.93, 39.43, 39.68, 39.18, 40.43, 40.93, 40.18, 40.68, 41.43, 41.18, 41.93, 41.68, 42.18, 42.43, 42.68, 42.93, 43.93, 43.68, 43.43, 43.18, 44.43, 44.68, 44.18, 44.93, 45.93, 45.43, 45.68, 45.18, 46.18, 46.93, 46.68, 46.43, 47.18, 47.93, 47.43, 47.68, 48.93, 48.18, 48.68, 48.43, 49.18, 49.93, 49.68, 49.43, 50.43, 50.93, 50.18, 50.68, 51.43, 51.68, 51.93, 51.18, 52.43, 52.18, 52.93, 52.68, 53.93, 53.68, 53.43, 53.18, 54.93, 54.68, 54.43, 54.18, 55.18, 55.43, 55.68, 56.68, 56.18, 56.43, 56.93, 57.43, 57.68, 57.93, 57.18, 58.18, 58.43, 58.68, 58.93, 59.43, 59.93, 59.18, 59.68, 60.68, 60.93, 60.43, 60.18, 61.43, 61.93, 61.18, 61.68, 62.18, 62.68, 62.93, 62.43, 63.68, 63.93, 63.43, 63.18, 23.06, 24.81, 24.06, 25.56, 26.81, 29.56, 30.56, 31.06, 31.31, 31.81, 12.81, 32.44, 32.19, 32.94, 32.69, 33.94, 33.69, 33.19, 34.69, 34.19, 34.44, 34.94, 35.44, 35.19, 35.69, 35.94, 36.19, 36.94, 36.69, 37.19, 37.69, 37.44, 37.94, 38.69, 38.19, 38.94, 39.69, 39.44, 39.94, 40.44, 40.94, 40.19, 40.69, 41.44, 41.69, 41.19, 41.94, 42.69, 42.44, 42.94, 43.69, 43.19, 43.44, 43.94, 44.19, 44.44, 44.69, 44.94, 45.69, 45.94, 45.44, 45.19, 46.69, 46.94, 47.94, 47.19, 47.44, 48.19, 48.44, 48.69, 48.94, 49.44, 49.69, 49.94, 49.19, 50.94, 50.19, 51.69, 51.94, 51.44, 51.19, 52.19, 52.94, 52.44, 52.69, 53.69, 53.94, 53.19, 53.44, 54.19, 54.94, 54.69, 54.44, 55.19, 55.94, 55.44, 56.69, 56.44, 56.94, 56.19, 57.44, 57.94, 57.69, 57.19, 58.19, 58.94, 58.44, 58.69, 59.69, 59.19, 59.44, 59.94, 60.44, 60.19, 60.69, 60.94, 61.94, 61.19, 61.69, 61.44, 62.69, 62.19, 62.44, 62.94, 63.19, 63.69, 63.94, 63.44, 64.19, 64.69, 64.94, 64.44, 65.94, 65.69, 65.19, 65.44, 66.44, 66.94, 66.19, 66.69, 67.19, 67.44, 67.94, 67.69, 68.94, 68.44, 68.69, 68.19, 69.19, 69.69, 69.94, 69.44, 70.94, 70.19, 70.69, 70.44, 71.94, 71.19, 71.69, 71.44, 72.69, 72.44, 72.19, 72.94, 73.44, 73.69, 73.94, 73.19, 74.94, 74.44, 74.69, 74.19, 75.94, 75.19, 75.44, 75.69, 76.69, 76.94, 76.44, 76.19, 77.69, 77.44, 77.94, 77.19, 78.19, 78.69, 78.94, 78.44, 79.44, 79.19, 79.69, 79.94, 80.69, 80.44, 80.19, 80.94, 81.94, 81.19, 81.44, 81.69, 82.19, 82.94, 82.69, 82.44, 83.19, 83.44, 83.94, 84.44, 84.94, 84.69, 85.44, 85.19, 85.94, 85.69, 86.69, 86.19, 86.94, 87.69, 87.94, 88.94, 88.19, 88.44, 89.69, 92.69, 94.44, 94.69, 100.44, 101.44, 105.69, 110.44, 64.21, 64.96, 64.46, 64.71, 65.71, 65.46, 65.96, 65.21, 66.96, 66.21, 66.46, 66.71, 67.96, 67.71, 67.46, 67.21, 68.96, 68.46, 68.71, 68.21, 69.96, 69.21, 69.46, 69.71, 70.71, 70.21, 70.96, 70.46, 71.21, 71.96, 71.46, 71.71, 72.96, 72.71, 72.46, 72.21, 73.96, 73.21, 73.46, 73.71, 74.96, 74.21, 74.46, 74.71, 75.96, 75.71, 75.21, 75.46, 76.46, 76.21, 76.96, 76.71, 77.21, 77.96, 77.46, 77.71, 78.46, 78.71, 78.96, 78.21, 79.71, 79.46, 79.96, 79.21, 80.46, 80.21, 80.96, 81.21, 81.46, 81.71, 81.96, 82.71, 82.21, 82.46, 82.96, 83.21, 83.96, 83.71, 83.46, 84.96, 85.96, 85.71, 85.21, 85.46, 86.71, 86.96, 86.46, 86.21, 87.21, 87.96, 87.71, 87.46, 88.46, 88.71, 89.21, 89.71, 90.96, 91.96, 92.21, 93.21, 95.96, 96.21, 97.46, 98.46, 99.71, 105.46, 78.03, 80.78, 64.73, 64.98, 64.23, 64.48, 65.73, 65.98, 65.48, 65.23, 66.48, 66.98, 66.23, 66.73, 67.48, 67.98, 67.73, 67.23, 68.23, 68.48, 68.98, 68.73, 69.48, 69.98, 69.73, 69.23, 70.98, 70.48, 70.23, 70.73, 71.23, 71.73, 71.98, 71.48, 72.23, 72.73, 72.48, 72.98, 73.48, 73.73, 73.23, 73.98, 74.23, 74.73, 74.48, 74.98, 75.98, 75.48, 75.73, 75.23, 76.73, 76.48, 76.23, 76.98, 77.48, 77.23, 77.98, 77.73, 78.98, 78.48, 78.23, 78.73, 79.23, 79.73, 79.98, 80.48, 80.98, 80.73, 80.23, 81.23, 81.98, 81.48, 81.73, 82.98, 82.73, 83.23, 83.48, 83.98, 84.98, 84.23, 84.73, 85.98, 85.73, 86.73, 86.48, 87.23, 87.48, 88.48, 88.98, 88.73, 89.48, 90.23, 90.98, 91.73, 93.48, 93.23, 94.23, 94.48, 95.23, 97.23, 97.48, 100.23, 103.48, 107.48, 32.49, 32.24, 32.74, 32.99, 33.99, 34.24, 34.74, 34.49, 34.99, 35.74, 35.49, 35.99, 35.24, 36.74, 36.24, 36.49, 36.99, 37.99, 37.74, 37.24, 37.49, 38.49, 38.74, 38.24, 38.99, 39.24, 39.74, 39.99, 39.49, 40.49, 40.74, 40.99, 40.24, 41.49, 41.24, 41.99, 42.49, 42.99, 42.24, 42.74, 43.24, 43.49, 43.99, 43.74, 44.74, 44.99, 44.49, 44.24, 45.49, 45.24, 45.74, 45.99, 46.74, 46.99, 46.49, 46.24, 47.74, 47.49, 47.24, 47.99, 48.24, 48.49, 48.99, 48.74, 49.49, 49.99, 50.99, 50.24, 50.49, 50.74, 51.99, 51.74, 51.49, 52.24, 52.99, 52.74, 52.49, 53.99, 53.74, 53.49, 54.99, 54.49, 54.24, 54.74, 55.24, 55.99, 55.49, 55.74, 56.49, 56.74, 56.24, 56.99, 57.99, 57.49, 57.24, 57.74, 58.74, 58.24, 58.99, 58.49, 59.99, 59.24, 59.74, 59.49, 60.49, 60.74, 60.99, 60.24, 61.74, 61.24, 61.49, 61.99, 62.74, 62.24, 62.49, 62.99, 63.99, 63.49, 63.24, 63.74, 20.12, 25.62, 26.62, 27.12, 27.37, 28.37, 28.87, 28.12, 29.37, 29.87, 29.62, 30.62, 30.37, 31.12, 31.87, 31.37}\n"
          ]
        }
      ],
      "source": [
        "print(set(y_train))# it shows that we could not use this data for classfication"
      ]
    },
    {
      "cell_type": "code",
      "execution_count": 31,
      "id": "ccaaa339",
      "metadata": {
        "id": "ccaaa339"
      },
      "outputs": [],
      "source": [
        "import xgboost as xgb"
      ]
    },
    {
      "cell_type": "code",
      "execution_count": 32,
      "id": "518e16db",
      "metadata": {
        "id": "518e16db"
      },
      "outputs": [],
      "source": [
        "data_matrix = xgb.DMatrix(data=X_train, label=y_train)# data is features and label is target in XGB function"
      ]
    },
    {
      "cell_type": "code",
      "execution_count": 33,
      "id": "f9fb8e96",
      "metadata": {
        "id": "f9fb8e96"
      },
      "outputs": [],
      "source": [
        "xg_reg = xgb.XGBRegressor(colsample_bytree=0.5, learning_rate=0.8, max_depth=5, n_estimators=20, verbosity=3)"
      ]
    },
    {
      "cell_type": "code",
      "execution_count": 34,
      "id": "04470fad",
      "metadata": {
        "id": "04470fad",
        "outputId": "40aed808-2175-41e7-feda-4ee82be0e902",
        "colab": {
          "base_uri": "https://localhost:8080/",
          "height": 974
        }
      },
      "outputs": [
        {
          "output_type": "stream",
          "name": "stdout",
          "text": [
            "[19:18:55] DEBUG: ../src/gbm/gbtree.cc:157: Using tree method: 2\n",
            "[19:18:55] INFO: ../src/tree/updater_prune.cc:98: tree pruning end, 60 extra nodes, 0 pruned nodes, max_depth=5\n",
            "[19:18:55] INFO: ../src/tree/updater_prune.cc:98: tree pruning end, 58 extra nodes, 0 pruned nodes, max_depth=5\n",
            "[19:18:55] INFO: ../src/tree/updater_prune.cc:98: tree pruning end, 52 extra nodes, 0 pruned nodes, max_depth=5\n",
            "[19:18:56] INFO: ../src/tree/updater_prune.cc:98: tree pruning end, 32 extra nodes, 0 pruned nodes, max_depth=5\n",
            "[19:18:56] INFO: ../src/tree/updater_prune.cc:98: tree pruning end, 36 extra nodes, 0 pruned nodes, max_depth=5\n",
            "[19:18:56] INFO: ../src/tree/updater_prune.cc:98: tree pruning end, 48 extra nodes, 0 pruned nodes, max_depth=5\n",
            "[19:18:56] INFO: ../src/tree/updater_prune.cc:98: tree pruning end, 26 extra nodes, 0 pruned nodes, max_depth=5\n",
            "[19:18:56] INFO: ../src/tree/updater_prune.cc:98: tree pruning end, 44 extra nodes, 0 pruned nodes, max_depth=5\n",
            "[19:18:56] INFO: ../src/tree/updater_prune.cc:98: tree pruning end, 56 extra nodes, 0 pruned nodes, max_depth=5\n",
            "[19:18:56] INFO: ../src/tree/updater_prune.cc:98: tree pruning end, 50 extra nodes, 0 pruned nodes, max_depth=5\n",
            "[19:18:56] INFO: ../src/tree/updater_prune.cc:98: tree pruning end, 44 extra nodes, 0 pruned nodes, max_depth=5\n",
            "[19:18:56] INFO: ../src/tree/updater_prune.cc:98: tree pruning end, 38 extra nodes, 0 pruned nodes, max_depth=5\n",
            "[19:18:56] INFO: ../src/tree/updater_prune.cc:98: tree pruning end, 60 extra nodes, 0 pruned nodes, max_depth=5\n",
            "[19:18:56] INFO: ../src/tree/updater_prune.cc:98: tree pruning end, 50 extra nodes, 0 pruned nodes, max_depth=5\n",
            "[19:18:56] INFO: ../src/tree/updater_prune.cc:98: tree pruning end, 40 extra nodes, 0 pruned nodes, max_depth=5\n",
            "[19:18:56] INFO: ../src/tree/updater_prune.cc:98: tree pruning end, 44 extra nodes, 0 pruned nodes, max_depth=5\n",
            "[19:18:56] INFO: ../src/tree/updater_prune.cc:98: tree pruning end, 40 extra nodes, 0 pruned nodes, max_depth=5\n",
            "[19:18:56] INFO: ../src/tree/updater_prune.cc:98: tree pruning end, 46 extra nodes, 0 pruned nodes, max_depth=5\n",
            "[19:18:56] INFO: ../src/tree/updater_prune.cc:98: tree pruning end, 38 extra nodes, 0 pruned nodes, max_depth=5\n",
            "[19:18:56] INFO: ../src/tree/updater_prune.cc:98: tree pruning end, 38 extra nodes, 0 pruned nodes, max_depth=5\n",
            "[19:18:56] ======== Monitor (0): Learner ========\n",
            "[19:18:56] Configure: 0.014485s, 1 calls @ 14485us\n",
            "\n",
            "[19:18:56] EvalOneIter: 0.000236s, 20 calls @ 236us\n",
            "\n",
            "[19:18:56] GetGradient: 0.002279s, 20 calls @ 2279us\n",
            "\n",
            "[19:18:56] PredictRaw: 0.054604s, 20 calls @ 54604us\n",
            "\n",
            "[19:18:56] UpdateOneIter: 0.657235s, 20 calls @ 657235us\n",
            "\n",
            "[19:18:56] ======== Monitor (0): GBTree ========\n",
            "[19:18:56] BoostNewTrees: 0.584445s, 20 calls @ 584445us\n",
            "\n",
            "[19:18:56] CommitModel: 1.8e-05s, 20 calls @ 18us\n",
            "\n",
            "[19:18:56] ======== Monitor (0): TreePruner ========\n",
            "[19:18:56] PrunerUpdate: 0.016687s, 20 calls @ 16687us\n",
            "\n"
          ]
        },
        {
          "output_type": "execute_result",
          "data": {
            "text/plain": [
              "XGBRegressor(base_score=None, booster=None, callbacks=None,\n",
              "             colsample_bylevel=None, colsample_bynode=None,\n",
              "             colsample_bytree=0.5, early_stopping_rounds=None,\n",
              "             enable_categorical=False, eval_metric=None, feature_types=None,\n",
              "             gamma=None, gpu_id=None, grow_policy=None, importance_type=None,\n",
              "             interaction_constraints=None, learning_rate=0.8, max_bin=None,\n",
              "             max_cat_threshold=None, max_cat_to_onehot=None,\n",
              "             max_delta_step=None, max_depth=5, max_leaves=None,\n",
              "             min_child_weight=None, missing=nan, monotone_constraints=None,\n",
              "             n_estimators=20, n_jobs=None, num_parallel_tree=None,\n",
              "             predictor=None, random_state=None, ...)"
            ],
            "text/html": [
              "<style>#sk-container-id-1 {color: black;background-color: white;}#sk-container-id-1 pre{padding: 0;}#sk-container-id-1 div.sk-toggleable {background-color: white;}#sk-container-id-1 label.sk-toggleable__label {cursor: pointer;display: block;width: 100%;margin-bottom: 0;padding: 0.3em;box-sizing: border-box;text-align: center;}#sk-container-id-1 label.sk-toggleable__label-arrow:before {content: \"▸\";float: left;margin-right: 0.25em;color: #696969;}#sk-container-id-1 label.sk-toggleable__label-arrow:hover:before {color: black;}#sk-container-id-1 div.sk-estimator:hover label.sk-toggleable__label-arrow:before {color: black;}#sk-container-id-1 div.sk-toggleable__content {max-height: 0;max-width: 0;overflow: hidden;text-align: left;background-color: #f0f8ff;}#sk-container-id-1 div.sk-toggleable__content pre {margin: 0.2em;color: black;border-radius: 0.25em;background-color: #f0f8ff;}#sk-container-id-1 input.sk-toggleable__control:checked~div.sk-toggleable__content {max-height: 200px;max-width: 100%;overflow: auto;}#sk-container-id-1 input.sk-toggleable__control:checked~label.sk-toggleable__label-arrow:before {content: \"▾\";}#sk-container-id-1 div.sk-estimator input.sk-toggleable__control:checked~label.sk-toggleable__label {background-color: #d4ebff;}#sk-container-id-1 div.sk-label input.sk-toggleable__control:checked~label.sk-toggleable__label {background-color: #d4ebff;}#sk-container-id-1 input.sk-hidden--visually {border: 0;clip: rect(1px 1px 1px 1px);clip: rect(1px, 1px, 1px, 1px);height: 1px;margin: -1px;overflow: hidden;padding: 0;position: absolute;width: 1px;}#sk-container-id-1 div.sk-estimator {font-family: monospace;background-color: #f0f8ff;border: 1px dotted black;border-radius: 0.25em;box-sizing: border-box;margin-bottom: 0.5em;}#sk-container-id-1 div.sk-estimator:hover {background-color: #d4ebff;}#sk-container-id-1 div.sk-parallel-item::after {content: \"\";width: 100%;border-bottom: 1px solid gray;flex-grow: 1;}#sk-container-id-1 div.sk-label:hover label.sk-toggleable__label {background-color: #d4ebff;}#sk-container-id-1 div.sk-serial::before {content: \"\";position: absolute;border-left: 1px solid gray;box-sizing: border-box;top: 0;bottom: 0;left: 50%;z-index: 0;}#sk-container-id-1 div.sk-serial {display: flex;flex-direction: column;align-items: center;background-color: white;padding-right: 0.2em;padding-left: 0.2em;position: relative;}#sk-container-id-1 div.sk-item {position: relative;z-index: 1;}#sk-container-id-1 div.sk-parallel {display: flex;align-items: stretch;justify-content: center;background-color: white;position: relative;}#sk-container-id-1 div.sk-item::before, #sk-container-id-1 div.sk-parallel-item::before {content: \"\";position: absolute;border-left: 1px solid gray;box-sizing: border-box;top: 0;bottom: 0;left: 50%;z-index: -1;}#sk-container-id-1 div.sk-parallel-item {display: flex;flex-direction: column;z-index: 1;position: relative;background-color: white;}#sk-container-id-1 div.sk-parallel-item:first-child::after {align-self: flex-end;width: 50%;}#sk-container-id-1 div.sk-parallel-item:last-child::after {align-self: flex-start;width: 50%;}#sk-container-id-1 div.sk-parallel-item:only-child::after {width: 0;}#sk-container-id-1 div.sk-dashed-wrapped {border: 1px dashed gray;margin: 0 0.4em 0.5em 0.4em;box-sizing: border-box;padding-bottom: 0.4em;background-color: white;}#sk-container-id-1 div.sk-label label {font-family: monospace;font-weight: bold;display: inline-block;line-height: 1.2em;}#sk-container-id-1 div.sk-label-container {text-align: center;}#sk-container-id-1 div.sk-container {/* jupyter's `normalize.less` sets `[hidden] { display: none; }` but bootstrap.min.css set `[hidden] { display: none !important; }` so we also need the `!important` here to be able to override the default hidden behavior on the sphinx rendered scikit-learn.org. See: https://github.com/scikit-learn/scikit-learn/issues/21755 */display: inline-block !important;position: relative;}#sk-container-id-1 div.sk-text-repr-fallback {display: none;}</style><div id=\"sk-container-id-1\" class=\"sk-top-container\"><div class=\"sk-text-repr-fallback\"><pre>XGBRegressor(base_score=None, booster=None, callbacks=None,\n",
              "             colsample_bylevel=None, colsample_bynode=None,\n",
              "             colsample_bytree=0.5, early_stopping_rounds=None,\n",
              "             enable_categorical=False, eval_metric=None, feature_types=None,\n",
              "             gamma=None, gpu_id=None, grow_policy=None, importance_type=None,\n",
              "             interaction_constraints=None, learning_rate=0.8, max_bin=None,\n",
              "             max_cat_threshold=None, max_cat_to_onehot=None,\n",
              "             max_delta_step=None, max_depth=5, max_leaves=None,\n",
              "             min_child_weight=None, missing=nan, monotone_constraints=None,\n",
              "             n_estimators=20, n_jobs=None, num_parallel_tree=None,\n",
              "             predictor=None, random_state=None, ...)</pre><b>In a Jupyter environment, please rerun this cell to show the HTML representation or trust the notebook. <br />On GitHub, the HTML representation is unable to render, please try loading this page with nbviewer.org.</b></div><div class=\"sk-container\" hidden><div class=\"sk-item\"><div class=\"sk-estimator sk-toggleable\"><input class=\"sk-toggleable__control sk-hidden--visually\" id=\"sk-estimator-id-1\" type=\"checkbox\" checked><label for=\"sk-estimator-id-1\" class=\"sk-toggleable__label sk-toggleable__label-arrow\">XGBRegressor</label><div class=\"sk-toggleable__content\"><pre>XGBRegressor(base_score=None, booster=None, callbacks=None,\n",
              "             colsample_bylevel=None, colsample_bynode=None,\n",
              "             colsample_bytree=0.5, early_stopping_rounds=None,\n",
              "             enable_categorical=False, eval_metric=None, feature_types=None,\n",
              "             gamma=None, gpu_id=None, grow_policy=None, importance_type=None,\n",
              "             interaction_constraints=None, learning_rate=0.8, max_bin=None,\n",
              "             max_cat_threshold=None, max_cat_to_onehot=None,\n",
              "             max_delta_step=None, max_depth=5, max_leaves=None,\n",
              "             min_child_weight=None, missing=nan, monotone_constraints=None,\n",
              "             n_estimators=20, n_jobs=None, num_parallel_tree=None,\n",
              "             predictor=None, random_state=None, ...)</pre></div></div></div></div></div>"
            ]
          },
          "metadata": {},
          "execution_count": 34
        }
      ],
      "source": [
        "xg_reg.fit(X_train, y_train)"
      ]
    },
    {
      "cell_type": "code",
      "execution_count": 35,
      "id": "3338163a",
      "metadata": {
        "id": "3338163a",
        "outputId": "7389d6f2-bb92-448e-b886-b68cb67b5d3e",
        "colab": {
          "base_uri": "https://localhost:8080/"
        }
      },
      "outputs": [
        {
          "output_type": "execute_result",
          "data": {
            "text/plain": [
              "(81166, 11)"
            ]
          },
          "metadata": {},
          "execution_count": 35
        }
      ],
      "source": [
        "X_train.shape"
      ]
    },
    {
      "cell_type": "code",
      "execution_count": 36,
      "id": "0a66629a",
      "metadata": {
        "id": "0a66629a",
        "outputId": "f9b241ce-4f2c-498c-af07-8118fdc9a307",
        "colab": {
          "base_uri": "https://localhost:8080/"
        }
      },
      "outputs": [
        {
          "output_type": "execute_result",
          "data": {
            "text/plain": [
              "(870, 11)"
            ]
          },
          "metadata": {},
          "execution_count": 36
        }
      ],
      "source": [
        "X_test.shape"
      ]
    },
    {
      "cell_type": "code",
      "execution_count": 37,
      "id": "1316d162",
      "metadata": {
        "id": "1316d162",
        "outputId": "4c273a27-30d6-4cee-f15e-6d04ee5342bf",
        "colab": {
          "base_uri": "https://localhost:8080/"
        }
      },
      "outputs": [
        {
          "output_type": "execute_result",
          "data": {
            "text/plain": [
              "Index(['Temperature', 'Precipitation', 'Solar Radiation', 'Soil class', 'CEC',\n",
              "       'Organic matter', 'pH', 'Clay', 'Silt', 'Sand', 'PI'],\n",
              "      dtype='object')"
            ]
          },
          "metadata": {},
          "execution_count": 37
        }
      ],
      "source": [
        "X_train.columns"
      ]
    },
    {
      "cell_type": "code",
      "execution_count": 38,
      "id": "c6d37369",
      "metadata": {
        "id": "c6d37369",
        "outputId": "e0bd07bf-f7d7-4979-eaa3-92cc56790db9",
        "colab": {
          "base_uri": "https://localhost:8080/"
        }
      },
      "outputs": [
        {
          "output_type": "execute_result",
          "data": {
            "text/plain": [
              "Index(['Temperature', 'Precipitation', 'Solar Radiation', 'Soil class', 'CEC',\n",
              "       'Organic matter', 'pH', 'Clay', 'Silt', 'Sand', 'PI'],\n",
              "      dtype='object')"
            ]
          },
          "metadata": {},
          "execution_count": 38
        }
      ],
      "source": [
        "X_test.columns"
      ]
    },
    {
      "cell_type": "code",
      "execution_count": 39,
      "id": "6d111710",
      "metadata": {
        "id": "6d111710"
      },
      "outputs": [],
      "source": [
        "y_pred = xg_reg.predict(X_test)"
      ]
    },
    {
      "cell_type": "code",
      "execution_count": 40,
      "id": "9f918686",
      "metadata": {
        "id": "9f918686"
      },
      "outputs": [],
      "source": [
        "from sklearn import metrics"
      ]
    },
    {
      "cell_type": "code",
      "execution_count": 41,
      "id": "9b2984f0",
      "metadata": {
        "id": "9b2984f0",
        "outputId": "e0a05248-3cfb-4802-f607-0e40db8e91e8",
        "colab": {
          "base_uri": "https://localhost:8080/"
        }
      },
      "outputs": [
        {
          "output_type": "execute_result",
          "data": {
            "text/plain": [
              "11.495179174572039"
            ]
          },
          "metadata": {},
          "execution_count": 41
        }
      ],
      "source": [
        "metrics.mean_absolute_error(y_test, y_pred)"
      ]
    },
    {
      "cell_type": "code",
      "execution_count": 42,
      "id": "23132f70",
      "metadata": {
        "id": "23132f70",
        "colab": {
          "base_uri": "https://localhost:8080/",
          "height": 206
        },
        "outputId": "242dbcfe-cddf-4185-9865-276a655e09a4"
      },
      "outputs": [
        {
          "output_type": "execute_result",
          "data": {
            "text/plain": [
              "   Temperature  Precipitation  Solar Radiation  Soil class        CEC  \\\n",
              "0       3364.0          624.6          1033691         223  21.999132   \n",
              "1       3331.9          624.0          1053394         111  26.702329   \n",
              "2       3331.9          624.0          1053394         223  25.074243   \n",
              "3       3268.4          772.9          1095251         223  23.820385   \n",
              "4       3533.4          843.1          1055041         211  25.155454   \n",
              "\n",
              "   Organic matter        pH       Clay       Silt       Sand    PI  \n",
              "0        9.265318  6.509238  21.612052  35.692853  42.609737  11.0  \n",
              "1       10.415804  6.707646  22.790220  43.608001  33.665365  15.0  \n",
              "2        9.280525  6.694126  21.596407  43.382442  34.990946  15.0  \n",
              "3        9.519349  6.793200  20.138817  42.500796  37.394531  15.0  \n",
              "4        8.722878  6.193027  21.244430  53.875289  24.882812  16.0  "
            ],
            "text/html": [
              "\n",
              "  <div id=\"df-ef997e64-758f-4261-9742-7c03f163a1ee\">\n",
              "    <div class=\"colab-df-container\">\n",
              "      <div>\n",
              "<style scoped>\n",
              "    .dataframe tbody tr th:only-of-type {\n",
              "        vertical-align: middle;\n",
              "    }\n",
              "\n",
              "    .dataframe tbody tr th {\n",
              "        vertical-align: top;\n",
              "    }\n",
              "\n",
              "    .dataframe thead th {\n",
              "        text-align: right;\n",
              "    }\n",
              "</style>\n",
              "<table border=\"1\" class=\"dataframe\">\n",
              "  <thead>\n",
              "    <tr style=\"text-align: right;\">\n",
              "      <th></th>\n",
              "      <th>Temperature</th>\n",
              "      <th>Precipitation</th>\n",
              "      <th>Solar Radiation</th>\n",
              "      <th>Soil class</th>\n",
              "      <th>CEC</th>\n",
              "      <th>Organic matter</th>\n",
              "      <th>pH</th>\n",
              "      <th>Clay</th>\n",
              "      <th>Silt</th>\n",
              "      <th>Sand</th>\n",
              "      <th>PI</th>\n",
              "    </tr>\n",
              "  </thead>\n",
              "  <tbody>\n",
              "    <tr>\n",
              "      <th>0</th>\n",
              "      <td>3364.0</td>\n",
              "      <td>624.6</td>\n",
              "      <td>1033691</td>\n",
              "      <td>223</td>\n",
              "      <td>21.999132</td>\n",
              "      <td>9.265318</td>\n",
              "      <td>6.509238</td>\n",
              "      <td>21.612052</td>\n",
              "      <td>35.692853</td>\n",
              "      <td>42.609737</td>\n",
              "      <td>11.0</td>\n",
              "    </tr>\n",
              "    <tr>\n",
              "      <th>1</th>\n",
              "      <td>3331.9</td>\n",
              "      <td>624.0</td>\n",
              "      <td>1053394</td>\n",
              "      <td>111</td>\n",
              "      <td>26.702329</td>\n",
              "      <td>10.415804</td>\n",
              "      <td>6.707646</td>\n",
              "      <td>22.790220</td>\n",
              "      <td>43.608001</td>\n",
              "      <td>33.665365</td>\n",
              "      <td>15.0</td>\n",
              "    </tr>\n",
              "    <tr>\n",
              "      <th>2</th>\n",
              "      <td>3331.9</td>\n",
              "      <td>624.0</td>\n",
              "      <td>1053394</td>\n",
              "      <td>223</td>\n",
              "      <td>25.074243</td>\n",
              "      <td>9.280525</td>\n",
              "      <td>6.694126</td>\n",
              "      <td>21.596407</td>\n",
              "      <td>43.382442</td>\n",
              "      <td>34.990946</td>\n",
              "      <td>15.0</td>\n",
              "    </tr>\n",
              "    <tr>\n",
              "      <th>3</th>\n",
              "      <td>3268.4</td>\n",
              "      <td>772.9</td>\n",
              "      <td>1095251</td>\n",
              "      <td>223</td>\n",
              "      <td>23.820385</td>\n",
              "      <td>9.519349</td>\n",
              "      <td>6.793200</td>\n",
              "      <td>20.138817</td>\n",
              "      <td>42.500796</td>\n",
              "      <td>37.394531</td>\n",
              "      <td>15.0</td>\n",
              "    </tr>\n",
              "    <tr>\n",
              "      <th>4</th>\n",
              "      <td>3533.4</td>\n",
              "      <td>843.1</td>\n",
              "      <td>1055041</td>\n",
              "      <td>211</td>\n",
              "      <td>25.155454</td>\n",
              "      <td>8.722878</td>\n",
              "      <td>6.193027</td>\n",
              "      <td>21.244430</td>\n",
              "      <td>53.875289</td>\n",
              "      <td>24.882812</td>\n",
              "      <td>16.0</td>\n",
              "    </tr>\n",
              "  </tbody>\n",
              "</table>\n",
              "</div>\n",
              "      <button class=\"colab-df-convert\" onclick=\"convertToInteractive('df-ef997e64-758f-4261-9742-7c03f163a1ee')\"\n",
              "              title=\"Convert this dataframe to an interactive table.\"\n",
              "              style=\"display:none;\">\n",
              "        \n",
              "  <svg xmlns=\"http://www.w3.org/2000/svg\" height=\"24px\"viewBox=\"0 0 24 24\"\n",
              "       width=\"24px\">\n",
              "    <path d=\"M0 0h24v24H0V0z\" fill=\"none\"/>\n",
              "    <path d=\"M18.56 5.44l.94 2.06.94-2.06 2.06-.94-2.06-.94-.94-2.06-.94 2.06-2.06.94zm-11 1L8.5 8.5l.94-2.06 2.06-.94-2.06-.94L8.5 2.5l-.94 2.06-2.06.94zm10 10l.94 2.06.94-2.06 2.06-.94-2.06-.94-.94-2.06-.94 2.06-2.06.94z\"/><path d=\"M17.41 7.96l-1.37-1.37c-.4-.4-.92-.59-1.43-.59-.52 0-1.04.2-1.43.59L10.3 9.45l-7.72 7.72c-.78.78-.78 2.05 0 2.83L4 21.41c.39.39.9.59 1.41.59.51 0 1.02-.2 1.41-.59l7.78-7.78 2.81-2.81c.8-.78.8-2.07 0-2.86zM5.41 20L4 18.59l7.72-7.72 1.47 1.35L5.41 20z\"/>\n",
              "  </svg>\n",
              "      </button>\n",
              "      \n",
              "  <style>\n",
              "    .colab-df-container {\n",
              "      display:flex;\n",
              "      flex-wrap:wrap;\n",
              "      gap: 12px;\n",
              "    }\n",
              "\n",
              "    .colab-df-convert {\n",
              "      background-color: #E8F0FE;\n",
              "      border: none;\n",
              "      border-radius: 50%;\n",
              "      cursor: pointer;\n",
              "      display: none;\n",
              "      fill: #1967D2;\n",
              "      height: 32px;\n",
              "      padding: 0 0 0 0;\n",
              "      width: 32px;\n",
              "    }\n",
              "\n",
              "    .colab-df-convert:hover {\n",
              "      background-color: #E2EBFA;\n",
              "      box-shadow: 0px 1px 2px rgba(60, 64, 67, 0.3), 0px 1px 3px 1px rgba(60, 64, 67, 0.15);\n",
              "      fill: #174EA6;\n",
              "    }\n",
              "\n",
              "    [theme=dark] .colab-df-convert {\n",
              "      background-color: #3B4455;\n",
              "      fill: #D2E3FC;\n",
              "    }\n",
              "\n",
              "    [theme=dark] .colab-df-convert:hover {\n",
              "      background-color: #434B5C;\n",
              "      box-shadow: 0px 1px 3px 1px rgba(0, 0, 0, 0.15);\n",
              "      filter: drop-shadow(0px 1px 2px rgba(0, 0, 0, 0.3));\n",
              "      fill: #FFFFFF;\n",
              "    }\n",
              "  </style>\n",
              "\n",
              "      <script>\n",
              "        const buttonEl =\n",
              "          document.querySelector('#df-ef997e64-758f-4261-9742-7c03f163a1ee button.colab-df-convert');\n",
              "        buttonEl.style.display =\n",
              "          google.colab.kernel.accessAllowed ? 'block' : 'none';\n",
              "\n",
              "        async function convertToInteractive(key) {\n",
              "          const element = document.querySelector('#df-ef997e64-758f-4261-9742-7c03f163a1ee');\n",
              "          const dataTable =\n",
              "            await google.colab.kernel.invokeFunction('convertToInteractive',\n",
              "                                                     [key], {});\n",
              "          if (!dataTable) return;\n",
              "\n",
              "          const docLinkHtml = 'Like what you see? Visit the ' +\n",
              "            '<a target=\"_blank\" href=https://colab.research.google.com/notebooks/data_table.ipynb>data table notebook</a>'\n",
              "            + ' to learn more about interactive tables.';\n",
              "          element.innerHTML = '';\n",
              "          dataTable['output_type'] = 'display_data';\n",
              "          await google.colab.output.renderOutput(dataTable, element);\n",
              "          const docLink = document.createElement('div');\n",
              "          docLink.innerHTML = docLinkHtml;\n",
              "          element.appendChild(docLink);\n",
              "        }\n",
              "      </script>\n",
              "    </div>\n",
              "  </div>\n",
              "  "
            ]
          },
          "metadata": {},
          "execution_count": 42
        }
      ],
      "source": [
        "X_test.head(5)"
      ]
    },
    {
      "cell_type": "code",
      "source": [
        "X_test.hist(figsize=(20,12))"
      ],
      "metadata": {
        "colab": {
          "base_uri": "https://localhost:8080/",
          "height": 1000
        },
        "id": "p4-tY9_cPF-f",
        "outputId": "f35535bb-4635-40c0-81bd-30500534f3db"
      },
      "id": "p4-tY9_cPF-f",
      "execution_count": 46,
      "outputs": [
        {
          "output_type": "execute_result",
          "data": {
            "text/plain": [
              "array([[<Axes: title={'center': 'Temperature'}>,\n",
              "        <Axes: title={'center': 'Precipitation'}>,\n",
              "        <Axes: title={'center': 'Solar Radiation'}>],\n",
              "       [<Axes: title={'center': 'Soil class'}>,\n",
              "        <Axes: title={'center': 'CEC'}>,\n",
              "        <Axes: title={'center': 'Organic matter'}>],\n",
              "       [<Axes: title={'center': 'pH'}>, <Axes: title={'center': 'Clay'}>,\n",
              "        <Axes: title={'center': 'Silt'}>],\n",
              "       [<Axes: title={'center': 'Sand'}>, <Axes: title={'center': 'PI'}>,\n",
              "        <Axes: >]], dtype=object)"
            ]
          },
          "metadata": {},
          "execution_count": 46
        },
        {
          "output_type": "display_data",
          "data": {
            "text/plain": [
              "<Figure size 2000x1200 with 12 Axes>"
            ],
            "image/png": "[encoded data removed]"
          },
          "metadata": {}
        }
      ]
    },
    {
      "cell_type": "code",
      "source": [
        "X_test.columns"
      ],
      "metadata": {
        "colab": {
          "base_uri": "https://localhost:8080/"
        },
        "id": "h6ke50TjTowj",
        "outputId": "96016255-4b7b-4283-9ee2-e8993d356364"
      },
      "id": "h6ke50TjTowj",
      "execution_count": 47,
      "outputs": [
        {
          "output_type": "execute_result",
          "data": {
            "text/plain": [
              "Index(['Temperature', 'Precipitation', 'Solar Radiation', 'Soil class', 'CEC',\n",
              "       'Organic matter', 'pH', 'Clay', 'Silt', 'Sand', 'PI'],\n",
              "      dtype='object')"
            ]
          },
          "metadata": {},
          "execution_count": 47
        }
      ]
    },
    {
      "cell_type": "code",
      "source": [
        "def get_specefic_value_farme(test_dataframe_name):\n",
        "  Temperature=float(input(\"please insert a valid Temperature:\"))\n",
        "  Precipitation=float(input(\"please insert a valid Precipitation:\"))\n",
        "  Solar=float(input(\"please insert a valid Solar Radiation:\"))\n",
        "  Soil=float(input(\"please insert a valid Soil_class:\"))\n",
        "  CEC=float(input(\"please insert a valid CEC:\"))\n",
        "  Organic=float(input(\"please insert a valid Organic matter:\"))\n",
        "  PH=float(input(\"please insert a valid PH:\"))\n",
        "  Clay=float(input(\"please insert a valid Clay:\"))\n",
        "  Silt=float(input(\"please insert a valid Silt:\"))\n",
        "  Sand=float(input(\"please insert a valid Sand:\"))\n",
        "  PI=float(input(\"please insert a valid PI:\"))\n",
        "  farme_data=dict()\n",
        "  farme_data['Temperature']=Temperature\n",
        "  farme_data['Precipitation']=Precipitation\n",
        "  farme_data['Solar Radiation']=Solar\n",
        "  farme_data['Soil class']=Soil\n",
        "  farme_data['CEC']=CEC\n",
        "  farme_data['Organic matter']=Organic\n",
        "  farme_data['pH']=PH\n",
        "  farme_data['Clay']=Clay\n",
        "  farme_data['Silt']=Silt\n",
        "  farme_data['Sand']=Sand\n",
        "  farme_data['PI']=PI\n",
        "\n",
        "  # df_new_data_faram = pd.DataFrame(farme_data, columns=test_dataframe_name.columns)\n",
        "  return farme_data\n",
        "\n"
      ],
      "metadata": {
        "id": "ItwOa0E_S4uf"
      },
      "id": "ItwOa0E_S4uf",
      "execution_count": 94,
      "outputs": []
    },
    {
      "cell_type": "code",
      "source": [
        "new_data_farme=get_specefic_value_farme(X_test)"
      ],
      "metadata": {
        "colab": {
          "base_uri": "https://localhost:8080/"
        },
        "id": "1XyJKYuAWHzH",
        "outputId": "24b1db67-5f98-4a3d-f0fe-dfd7a22dc962"
      },
      "id": "1XyJKYuAWHzH",
      "execution_count": 97,
      "outputs": [
        {
          "name": "stdout",
          "output_type": "stream",
          "text": [
            "please insert a valid Temperature:3420\n",
            "please insert a valid Precipitation:720\n",
            "please insert a valid Solar Radiation:1.038\n",
            "please insert a valid Soil_class:215\n",
            "please insert a valid CEC:25\n",
            "please insert a valid Organic matter:5\n",
            "please insert a valid PH:6.3\n",
            "please insert a valid Clay:21\n",
            "please insert a valid Silt:44\n",
            "please insert a valid Sand:23\n",
            "please insert a valid PI:10.5\n"
          ]
        }
      ]
    },
    {
      "cell_type": "code",
      "source": [
        "print (new_data_farme)"
      ],
      "metadata": {
        "colab": {
          "base_uri": "https://localhost:8080/"
        },
        "id": "Trx4VQESX0b6",
        "outputId": "755dee10-08f5-4417-b41b-f886abdf44e5"
      },
      "id": "Trx4VQESX0b6",
      "execution_count": 98,
      "outputs": [
        {
          "output_type": "stream",
          "name": "stdout",
          "text": [
            "{'Temperature': 3420.0, 'Precipitation': 720.0, 'Solar Radiation': 1.038, 'Soil class': 215.0, 'CEC': 25.0, 'Organic matter': 5.0, 'pH': 6.3, 'Clay': 21.0, 'Silt': 44.0, 'Sand': 23.0, 'PI': 10.5}\n"
          ]
        }
      ]
    },
    {
      "cell_type": "code",
      "source": [
        "df2=pd.DataFrame.from_dict([new_data_farme])"
      ],
      "metadata": {
        "id": "eG4lbTKsbAmm"
      },
      "id": "eG4lbTKsbAmm",
      "execution_count": 99,
      "outputs": []
    },
    {
      "cell_type": "code",
      "source": [
        "df2"
      ],
      "metadata": {
        "colab": {
          "base_uri": "https://localhost:8080/",
          "height": 81
        },
        "id": "qbWYYj1gfv7Z",
        "outputId": "08f5b613-c52e-48ea-a094-909b68eb1fa4"
      },
      "id": "qbWYYj1gfv7Z",
      "execution_count": 100,
      "outputs": [
        {
          "output_type": "execute_result",
          "data": {
            "text/plain": [
              "   Temperature  Precipitation  Solar Radiation  Soil class   CEC  \\\n",
              "0       3420.0          720.0            1.038       215.0  25.0   \n",
              "\n",
              "   Organic matter   pH  Clay  Silt  Sand    PI  \n",
              "0             5.0  6.3  21.0  44.0  23.0  10.5  "
            ],
            "text/html": [
              "\n",
              "  <div id=\"df-61ff0a83-e44f-42ae-b9b8-e18ff2186dc7\">\n",
              "    <div class=\"colab-df-container\">\n",
              "      <div>\n",
              "<style scoped>\n",
              "    .dataframe tbody tr th:only-of-type {\n",
              "        vertical-align: middle;\n",
              "    }\n",
              "\n",
              "    .dataframe tbody tr th {\n",
              "        vertical-align: top;\n",
              "    }\n",
              "\n",
              "    .dataframe thead th {\n",
              "        text-align: right;\n",
              "    }\n",
              "</style>\n",
              "<table border=\"1\" class=\"dataframe\">\n",
              "  <thead>\n",
              "    <tr style=\"text-align: right;\">\n",
              "      <th></th>\n",
              "      <th>Temperature</th>\n",
              "      <th>Precipitation</th>\n",
              "      <th>Solar Radiation</th>\n",
              "      <th>Soil class</th>\n",
              "      <th>CEC</th>\n",
              "      <th>Organic matter</th>\n",
              "      <th>pH</th>\n",
              "      <th>Clay</th>\n",
              "      <th>Silt</th>\n",
              "      <th>Sand</th>\n",
              "      <th>PI</th>\n",
              "    </tr>\n",
              "  </thead>\n",
              "  <tbody>\n",
              "    <tr>\n",
              "      <th>0</th>\n",
              "      <td>3420.0</td>\n",
              "      <td>720.0</td>\n",
              "      <td>1.038</td>\n",
              "      <td>215.0</td>\n",
              "      <td>25.0</td>\n",
              "      <td>5.0</td>\n",
              "      <td>6.3</td>\n",
              "      <td>21.0</td>\n",
              "      <td>44.0</td>\n",
              "      <td>23.0</td>\n",
              "      <td>10.5</td>\n",
              "    </tr>\n",
              "  </tbody>\n",
              "</table>\n",
              "</div>\n",
              "      <button class=\"colab-df-convert\" onclick=\"convertToInteractive('df-61ff0a83-e44f-42ae-b9b8-e18ff2186dc7')\"\n",
              "              title=\"Convert this dataframe to an interactive table.\"\n",
              "              style=\"display:none;\">\n",
              "        \n",
              "  <svg xmlns=\"http://www.w3.org/2000/svg\" height=\"24px\"viewBox=\"0 0 24 24\"\n",
              "       width=\"24px\">\n",
              "    <path d=\"M0 0h24v24H0V0z\" fill=\"none\"/>\n",
              "    <path d=\"M18.56 5.44l.94 2.06.94-2.06 2.06-.94-2.06-.94-.94-2.06-.94 2.06-2.06.94zm-11 1L8.5 8.5l.94-2.06 2.06-.94-2.06-.94L8.5 2.5l-.94 2.06-2.06.94zm10 10l.94 2.06.94-2.06 2.06-.94-2.06-.94-.94-2.06-.94 2.06-2.06.94z\"/><path d=\"M17.41 7.96l-1.37-1.37c-.4-.4-.92-.59-1.43-.59-.52 0-1.04.2-1.43.59L10.3 9.45l-7.72 7.72c-.78.78-.78 2.05 0 2.83L4 21.41c.39.39.9.59 1.41.59.51 0 1.02-.2 1.41-.59l7.78-7.78 2.81-2.81c.8-.78.8-2.07 0-2.86zM5.41 20L4 18.59l7.72-7.72 1.47 1.35L5.41 20z\"/>\n",
              "  </svg>\n",
              "      </button>\n",
              "      \n",
              "  <style>\n",
              "    .colab-df-container {\n",
              "      display:flex;\n",
              "      flex-wrap:wrap;\n",
              "      gap: 12px;\n",
              "    }\n",
              "\n",
              "    .colab-df-convert {\n",
              "      background-color: #E8F0FE;\n",
              "      border: none;\n",
              "      border-radius: 50%;\n",
              "      cursor: pointer;\n",
              "      display: none;\n",
              "      fill: #1967D2;\n",
              "      height: 32px;\n",
              "      padding: 0 0 0 0;\n",
              "      width: 32px;\n",
              "    }\n",
              "\n",
              "    .colab-df-convert:hover {\n",
              "      background-color: #E2EBFA;\n",
              "      box-shadow: 0px 1px 2px rgba(60, 64, 67, 0.3), 0px 1px 3px 1px rgba(60, 64, 67, 0.15);\n",
              "      fill: #174EA6;\n",
              "    }\n",
              "\n",
              "    [theme=dark] .colab-df-convert {\n",
              "      background-color: #3B4455;\n",
              "      fill: #D2E3FC;\n",
              "    }\n",
              "\n",
              "    [theme=dark] .colab-df-convert:hover {\n",
              "      background-color: #434B5C;\n",
              "      box-shadow: 0px 1px 3px 1px rgba(0, 0, 0, 0.15);\n",
              "      filter: drop-shadow(0px 1px 2px rgba(0, 0, 0, 0.3));\n",
              "      fill: #FFFFFF;\n",
              "    }\n",
              "  </style>\n",
              "\n",
              "      <script>\n",
              "        const buttonEl =\n",
              "          document.querySelector('#df-61ff0a83-e44f-42ae-b9b8-e18ff2186dc7 button.colab-df-convert');\n",
              "        buttonEl.style.display =\n",
              "          google.colab.kernel.accessAllowed ? 'block' : 'none';\n",
              "\n",
              "        async function convertToInteractive(key) {\n",
              "          const element = document.querySelector('#df-61ff0a83-e44f-42ae-b9b8-e18ff2186dc7');\n",
              "          const dataTable =\n",
              "            await google.colab.kernel.invokeFunction('convertToInteractive',\n",
              "                                                     [key], {});\n",
              "          if (!dataTable) return;\n",
              "\n",
              "          const docLinkHtml = 'Like what you see? Visit the ' +\n",
              "            '<a target=\"_blank\" href=https://colab.research.google.com/notebooks/data_table.ipynb>data table notebook</a>'\n",
              "            + ' to learn more about interactive tables.';\n",
              "          element.innerHTML = '';\n",
              "          dataTable['output_type'] = 'display_data';\n",
              "          await google.colab.output.renderOutput(dataTable, element);\n",
              "          const docLink = document.createElement('div');\n",
              "          docLink.innerHTML = docLinkHtml;\n",
              "          element.appendChild(docLink);\n",
              "        }\n",
              "      </script>\n",
              "    </div>\n",
              "  </div>\n",
              "  "
            ]
          },
          "metadata": {},
          "execution_count": 100
        }
      ]
    },
    {
      "cell_type": "code",
      "source": [
        "y_pred2 = xg_reg.predict(df2)"
      ],
      "metadata": {
        "id": "ubG1UJyThMVh"
      },
      "id": "ubG1UJyThMVh",
      "execution_count": 101,
      "outputs": []
    },
    {
      "cell_type": "code",
      "source": [
        "y_pred2"
      ],
      "metadata": {
        "colab": {
          "base_uri": "https://localhost:8080/"
        },
        "id": "pDksJeyeiO9l",
        "outputId": "d0c9111e-fd99-4d84-b3c3-ff25625ac6c1"
      },
      "id": "pDksJeyeiO9l",
      "execution_count": 102,
      "outputs": [
        {
          "output_type": "execute_result",
          "data": {
            "text/plain": [
              "array([58.07749], dtype=float32)"
            ]
          },
          "metadata": {},
          "execution_count": 102
        }
      ]
    },
    {
      "cell_type": "code",
      "source": [
        "df_train['Yield'].hist(figsize=(10,3))"
      ],
      "metadata": {
        "colab": {
          "base_uri": "https://localhost:8080/",
          "height": 309
        },
        "id": "k8G5vunsitqb",
        "outputId": "0eb6070b-ede7-4710-f56e-6b26d200050d"
      },
      "id": "k8G5vunsitqb",
      "execution_count": 108,
      "outputs": [
        {
          "output_type": "execute_result",
          "data": {
            "text/plain": [
              "<Axes: >"
            ]
          },
          "metadata": {},
          "execution_count": 108
        },
        {
          "output_type": "display_data",
          "data": {
            "text/plain": [
              "<Figure size 1000x300 with 1 Axes>"
            ],
            "image/png": "[encoded data removed]"
          },
          "metadata": {}
        }
      ]
    }
  ],
  "metadata": {
    "kernelspec": {
      "display_name": "Python 3 (ipykernel)",
      "language": "python",
      "name": "python3"
    },
    "language_info": {
      "codemirror_mode": {
        "name": "ipython",
        "version": 3
      },
      "file_extension": ".py",
      "mimetype": "text/x-python",
      "name": "python",
      "nbconvert_exporter": "python",
      "pygments_lexer": "ipython3",
      "version": "3.9.7"
    },
    "colab": {
      "provenance": [],
      "include_colab_link": true
    }
  },
  "nbformat": 4,
  "nbformat_minor": 5
}