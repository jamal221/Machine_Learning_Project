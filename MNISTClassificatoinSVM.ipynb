{
  "cells": [
    {
      "cell_type": "markdown",
      "metadata": {
        "id": "view-in-github",
        "colab_type": "text"
      },
      "source": [
        "<a href=\"https://colab.research.google.com/github/jamal221/Machine_Learning_Project/blob/main/MNISTClassificatoinSVM.ipynb\" target=\"_parent\"><img src=\"https://colab.research.google.com/assets/colab-badge.svg\" alt=\"Open In Colab\"/></a>"
      ]
    },
    {
      "cell_type": "code",
      "execution_count": 1,
      "metadata": {
        "id": "VVAqpGkTX1Do"
      },
      "outputs": [],
      "source": [
        "import pandas as pd\n",
        "import numpy as np\n",
        "import matplotlib.pyplot as plt\n",
        "from sklearn import datasets"
      ]
    },
    {
      "cell_type": "code",
      "execution_count": 2,
      "metadata": {
        "id": "hI7R7vNKX1D2"
      },
      "outputs": [],
      "source": [
        "data = datasets.load_digits()\n"
      ]
    },
    {
      "cell_type": "code",
      "source": [
        "type(data)"
      ],
      "metadata": {
        "colab": {
          "base_uri": "https://localhost:8080/"
        },
        "id": "wQG3-xoIH4-I",
        "outputId": "d98a906d-95e9-4b89-c4bd-3ddbef57d16f"
      },
      "execution_count": 3,
      "outputs": [
        {
          "output_type": "execute_result",
          "data": {
            "text/plain": [
              "sklearn.utils._bunch.Bunch"
            ]
          },
          "metadata": {},
          "execution_count": 3
        }
      ]
    },
    {
      "cell_type": "code",
      "execution_count": 4,
      "metadata": {
        "colab": {
          "base_uri": "https://localhost:8080/",
          "height": 448
        },
        "id": "J3DGaBawX1D4",
        "outputId": "7d97f59e-7c56-4589-fc7d-573c930f642b"
      },
      "outputs": [
        {
          "output_type": "execute_result",
          "data": {
            "text/plain": [
              "<matplotlib.image.AxesImage at 0x7e5a3526ffa0>"
            ]
          },
          "metadata": {},
          "execution_count": 4
        },
        {
          "output_type": "display_data",
          "data": {
            "text/plain": [
              "<Figure size 640x480 with 1 Axes>"
            ],
            "image/png": "[encoded data removed]"
          },
          "metadata": {}
        }
      ],
      "source": [
        "plt.subplot()\n",
        "plt.imshow(data.images[11], cmap=plt.cm.gray_r)"
      ]
    },
    {
      "cell_type": "code",
      "source": [
        "data.target[11]"
      ],
      "metadata": {
        "colab": {
          "base_uri": "https://localhost:8080/"
        },
        "id": "K5LIdcxpIcU4",
        "outputId": "c76ea41a-9fc4-405b-d4a8-b6f09d37954f"
      },
      "execution_count": 5,
      "outputs": [
        {
          "output_type": "execute_result",
          "data": {
            "text/plain": [
              "1"
            ]
          },
          "metadata": {},
          "execution_count": 5
        }
      ]
    },
    {
      "cell_type": "code",
      "source": [
        "counter=0\n",
        "dict1=dict()\n",
        "nums=data.target\n",
        "nums=set(nums)\n",
        "print(nums)\n",
        "for i in range(len(data.images)):\n",
        "  if data.target[i]==0:\n",
        "     counter+=1\n",
        "dict1[0]=counter\n",
        "print (dict1)\n",
        "\n"
      ],
      "metadata": {
        "colab": {
          "base_uri": "https://localhost:8080/"
        },
        "id": "bJWX18RkI7Nh",
        "outputId": "85447a0e-9373-46ab-86df-789dcb4e6d0f"
      },
      "execution_count": 6,
      "outputs": [
        {
          "output_type": "stream",
          "name": "stdout",
          "text": [
            "{0, 1, 2, 3, 4, 5, 6, 7, 8, 9}\n",
            "{0: 178}\n"
          ]
        }
      ]
    },
    {
      "cell_type": "code",
      "source": [
        "# counet=0\n",
        "dict2=dict()\n",
        "nums=data.target\n",
        "nums=set(nums)\n",
        "nums=list(nums)\n",
        "# print(nums)\n",
        "for i in nums:\n",
        "  count=0\n",
        "  for j in range(len(data.images)):\n",
        "    if  data.target[j]==i:\n",
        "      count+=1\n",
        "  dict2[i]=count\n",
        "print(dict2)"
      ],
      "metadata": {
        "colab": {
          "base_uri": "https://localhost:8080/"
        },
        "id": "kcKcUoyC2B2T",
        "outputId": "0cf7ab39-25a3-48ed-ac63-26a28ed51159"
      },
      "execution_count": 7,
      "outputs": [
        {
          "output_type": "stream",
          "name": "stdout",
          "text": [
            "{0: 178, 1: 182, 2: 177, 3: 183, 4: 181, 5: 182, 6: 181, 7: 179, 8: 174, 9: 180}\n"
          ]
        }
      ]
    },
    {
      "cell_type": "code",
      "execution_count": 8,
      "metadata": {
        "id": "WsTMWR0TX1D7"
      },
      "outputs": [],
      "source": [
        "images_and_labels = list(zip(data.images, data.target))"
      ]
    },
    {
      "cell_type": "code",
      "execution_count": 9,
      "metadata": {
        "id": "g_Kf6yHUX1D9",
        "outputId": "89bf5917-f4a8-407c-842c-3cc107808a99",
        "colab": {
          "base_uri": "https://localhost:8080/"
        }
      },
      "outputs": [
        {
          "output_type": "execute_result",
          "data": {
            "text/plain": [
              "(array([[ 0.,  0.,  0., 10., 15.,  0.,  0.,  0.],\n",
              "        [ 0.,  0., 11., 15.,  3.,  0.,  0.,  0.],\n",
              "        [ 0.,  7., 15.,  4.,  0.,  0.,  0.,  0.],\n",
              "        [ 0., 12., 11.,  1.,  3.,  8.,  2.,  0.],\n",
              "        [ 0.,  4., 12., 15., 15., 16.,  9.,  0.],\n",
              "        [ 0.,  0.,  0.,  8., 16.,  8.,  2.,  0.],\n",
              "        [ 0.,  0.,  0., 10., 12.,  0.,  0.,  0.],\n",
              "        [ 0.,  0.,  0., 12.,  9.,  0.,  0.,  0.]]),\n",
              " 4)"
            ]
          },
          "metadata": {},
          "execution_count": 9
        }
      ],
      "source": [
        "images_and_labels[110]"
      ]
    },
    {
      "cell_type": "code",
      "execution_count": 10,
      "metadata": {
        "id": "W3BgTJ-HX1D-",
        "outputId": "00ccf680-5d13-4fcb-acf5-d2e9552949a5",
        "colab": {
          "base_uri": "https://localhost:8080/",
          "height": 345
        }
      },
      "outputs": [
        {
          "output_type": "display_data",
          "data": {
            "text/plain": [
              "<Figure size 640x480 with 9 Axes>"
            ],
            "image/png": "[encoded data removed]"
          },
          "metadata": {}
        }
      ],
      "source": [
        "for i, (image, label) in enumerate(images_and_labels[125:134]):\n",
        "    plt.subplot(2, 7, i+1)\n",
        "    plt.imshow(image, cmap=plt.cm.gray_r)\n",
        "    plt.title(label)"
      ]
    },
    {
      "cell_type": "code",
      "execution_count": 11,
      "metadata": {
        "id": "U3-V3D9sX1EA",
        "outputId": "6f269daf-87a4-4667-924c-90fae3efda70",
        "colab": {
          "base_uri": "https://localhost:8080/"
        }
      },
      "outputs": [
        {
          "output_type": "execute_result",
          "data": {
            "text/plain": [
              "(1797, 8, 8)"
            ]
          },
          "metadata": {},
          "execution_count": 11
        }
      ],
      "source": [
        "np.shape(data.images)"
      ]
    },
    {
      "cell_type": "code",
      "execution_count": 12,
      "metadata": {
        "id": "EZmTz10jX1EC",
        "outputId": "c6cff9fa-1f59-4e16-a021-ebbf81c3087d",
        "colab": {
          "base_uri": "https://localhost:8080/"
        }
      },
      "outputs": [
        {
          "output_type": "execute_result",
          "data": {
            "text/plain": [
              "1797"
            ]
          },
          "metadata": {},
          "execution_count": 12
        }
      ],
      "source": [
        "\n",
        "len(data.images)"
      ]
    },
    {
      "cell_type": "code",
      "execution_count": 13,
      "metadata": {
        "id": "-3HbC_o6X1EE"
      },
      "outputs": [],
      "source": [
        "X = data.images.reshape((len(data.images), -1))"
      ]
    },
    {
      "cell_type": "code",
      "execution_count": 14,
      "metadata": {
        "id": "LzRn5K1KX1EG",
        "outputId": "ec291ae2-1918-418e-867b-6a2239a72bce",
        "colab": {
          "base_uri": "https://localhost:8080/"
        }
      },
      "outputs": [
        {
          "output_type": "execute_result",
          "data": {
            "text/plain": [
              "(1797, 64)"
            ]
          },
          "metadata": {},
          "execution_count": 14
        }
      ],
      "source": [
        "np.shape(X)"
      ]
    },
    {
      "cell_type": "code",
      "execution_count": 15,
      "metadata": {
        "id": "9jZ6dmzAX1EH",
        "outputId": "09e42885-1385-45e3-c1ca-17b5dd518671",
        "colab": {
          "base_uri": "https://localhost:8080/"
        }
      },
      "outputs": [
        {
          "output_type": "execute_result",
          "data": {
            "text/plain": [
              "array([[ 0.,  0.,  5., ...,  0.,  0.,  0.],\n",
              "       [ 0.,  0.,  0., ..., 10.,  0.,  0.],\n",
              "       [ 0.,  0.,  0., ..., 16.,  9.,  0.],\n",
              "       ...,\n",
              "       [ 0.,  0.,  1., ...,  6.,  0.,  0.],\n",
              "       [ 0.,  0.,  2., ..., 12.,  0.,  0.],\n",
              "       [ 0.,  0., 10., ..., 12.,  1.,  0.]])"
            ]
          },
          "metadata": {},
          "execution_count": 15
        }
      ],
      "source": [
        "X"
      ]
    },
    {
      "cell_type": "code",
      "execution_count": 16,
      "metadata": {
        "id": "_mo-sMvSX1EJ"
      },
      "outputs": [],
      "source": [
        "y = data.target"
      ]
    },
    {
      "cell_type": "code",
      "execution_count": 17,
      "metadata": {
        "id": "O9SmbRZYX1EK",
        "outputId": "c61aef1f-ea14-4ef2-c498-274986f6394c",
        "colab": {
          "base_uri": "https://localhost:8080/"
        }
      },
      "outputs": [
        {
          "output_type": "execute_result",
          "data": {
            "text/plain": [
              "1797"
            ]
          },
          "metadata": {},
          "execution_count": 17
        }
      ],
      "source": [
        "len(y)"
      ]
    },
    {
      "cell_type": "code",
      "execution_count": 18,
      "metadata": {
        "id": "Kf_5NLaEX1EL",
        "outputId": "70bb3e90-1965-4d45-bb52-617934a6761a",
        "colab": {
          "base_uri": "https://localhost:8080/"
        }
      },
      "outputs": [
        {
          "output_type": "execute_result",
          "data": {
            "text/plain": [
              "sklearn.svm._classes.SVC"
            ]
          },
          "metadata": {},
          "execution_count": 18
        }
      ],
      "source": [
        "from sklearn.svm import SVC\n",
        "SVC"
      ]
    },
    {
      "cell_type": "code",
      "execution_count": 19,
      "metadata": {
        "id": "qDCkKzypX1EM"
      },
      "outputs": [],
      "source": [
        "svm_classifier = SVC()\n",
        "#SVC() is Constractor of SVC class"
      ]
    },
    {
      "cell_type": "code",
      "execution_count": 20,
      "metadata": {
        "id": "JqCqdF8-X1EM",
        "outputId": "a502bea7-dcee-41dc-8ded-8a5aa1531627",
        "colab": {
          "base_uri": "https://localhost:8080/",
          "height": 74
        }
      },
      "outputs": [
        {
          "output_type": "execute_result",
          "data": {
            "text/plain": [
              "SVC()"
            ],
            "text/html": [
              "<style>#sk-container-id-1 {color: black;background-color: white;}#sk-container-id-1 pre{padding: 0;}#sk-container-id-1 div.sk-toggleable {background-color: white;}#sk-container-id-1 label.sk-toggleable__label {cursor: pointer;display: block;width: 100%;margin-bottom: 0;padding: 0.3em;box-sizing: border-box;text-align: center;}#sk-container-id-1 label.sk-toggleable__label-arrow:before {content: \"▸\";float: left;margin-right: 0.25em;color: #696969;}#sk-container-id-1 label.sk-toggleable__label-arrow:hover:before {color: black;}#sk-container-id-1 div.sk-estimator:hover label.sk-toggleable__label-arrow:before {color: black;}#sk-container-id-1 div.sk-toggleable__content {max-height: 0;max-width: 0;overflow: hidden;text-align: left;background-color: #f0f8ff;}#sk-container-id-1 div.sk-toggleable__content pre {margin: 0.2em;color: black;border-radius: 0.25em;background-color: #f0f8ff;}#sk-container-id-1 input.sk-toggleable__control:checked~div.sk-toggleable__content {max-height: 200px;max-width: 100%;overflow: auto;}#sk-container-id-1 input.sk-toggleable__control:checked~label.sk-toggleable__label-arrow:before {content: \"▾\";}#sk-container-id-1 div.sk-estimator input.sk-toggleable__control:checked~label.sk-toggleable__label {background-color: #d4ebff;}#sk-container-id-1 div.sk-label input.sk-toggleable__control:checked~label.sk-toggleable__label {background-color: #d4ebff;}#sk-container-id-1 input.sk-hidden--visually {border: 0;clip: rect(1px 1px 1px 1px);clip: rect(1px, 1px, 1px, 1px);height: 1px;margin: -1px;overflow: hidden;padding: 0;position: absolute;width: 1px;}#sk-container-id-1 div.sk-estimator {font-family: monospace;background-color: #f0f8ff;border: 1px dotted black;border-radius: 0.25em;box-sizing: border-box;margin-bottom: 0.5em;}#sk-container-id-1 div.sk-estimator:hover {background-color: #d4ebff;}#sk-container-id-1 div.sk-parallel-item::after {content: \"\";width: 100%;border-bottom: 1px solid gray;flex-grow: 1;}#sk-container-id-1 div.sk-label:hover label.sk-toggleable__label {background-color: #d4ebff;}#sk-container-id-1 div.sk-serial::before {content: \"\";position: absolute;border-left: 1px solid gray;box-sizing: border-box;top: 0;bottom: 0;left: 50%;z-index: 0;}#sk-container-id-1 div.sk-serial {display: flex;flex-direction: column;align-items: center;background-color: white;padding-right: 0.2em;padding-left: 0.2em;position: relative;}#sk-container-id-1 div.sk-item {position: relative;z-index: 1;}#sk-container-id-1 div.sk-parallel {display: flex;align-items: stretch;justify-content: center;background-color: white;position: relative;}#sk-container-id-1 div.sk-item::before, #sk-container-id-1 div.sk-parallel-item::before {content: \"\";position: absolute;border-left: 1px solid gray;box-sizing: border-box;top: 0;bottom: 0;left: 50%;z-index: -1;}#sk-container-id-1 div.sk-parallel-item {display: flex;flex-direction: column;z-index: 1;position: relative;background-color: white;}#sk-container-id-1 div.sk-parallel-item:first-child::after {align-self: flex-end;width: 50%;}#sk-container-id-1 div.sk-parallel-item:last-child::after {align-self: flex-start;width: 50%;}#sk-container-id-1 div.sk-parallel-item:only-child::after {width: 0;}#sk-container-id-1 div.sk-dashed-wrapped {border: 1px dashed gray;margin: 0 0.4em 0.5em 0.4em;box-sizing: border-box;padding-bottom: 0.4em;background-color: white;}#sk-container-id-1 div.sk-label label {font-family: monospace;font-weight: bold;display: inline-block;line-height: 1.2em;}#sk-container-id-1 div.sk-label-container {text-align: center;}#sk-container-id-1 div.sk-container {/* jupyter's `normalize.less` sets `[hidden] { display: none; }` but bootstrap.min.css set `[hidden] { display: none !important; }` so we also need the `!important` here to be able to override the default hidden behavior on the sphinx rendered scikit-learn.org. See: https://github.com/scikit-learn/scikit-learn/issues/21755 */display: inline-block !important;position: relative;}#sk-container-id-1 div.sk-text-repr-fallback {display: none;}</style><div id=\"sk-container-id-1\" class=\"sk-top-container\"><div class=\"sk-text-repr-fallback\"><pre>SVC()</pre><b>In a Jupyter environment, please rerun this cell to show the HTML representation or trust the notebook. <br />On GitHub, the HTML representation is unable to render, please try loading this page with nbviewer.org.</b></div><div class=\"sk-container\" hidden><div class=\"sk-item\"><div class=\"sk-estimator sk-toggleable\"><input class=\"sk-toggleable__control sk-hidden--visually\" id=\"sk-estimator-id-1\" type=\"checkbox\" checked><label for=\"sk-estimator-id-1\" class=\"sk-toggleable__label sk-toggleable__label-arrow\">SVC</label><div class=\"sk-toggleable__content\"><pre>SVC()</pre></div></div></div></div></div>"
            ]
          },
          "metadata": {},
          "execution_count": 20
        }
      ],
      "source": [
        "svm_classifier.fit(X, y)"
      ]
    },
    {
      "cell_type": "code",
      "execution_count": 21,
      "metadata": {
        "id": "F08r6ZqrX1EN",
        "outputId": "877f18cf-8f35-48cd-84b5-bc2d36ba4009",
        "colab": {
          "base_uri": "https://localhost:8080/",
          "height": 470
        }
      },
      "outputs": [
        {
          "output_type": "execute_result",
          "data": {
            "text/plain": [
              "Text(0.5, 1.0, '1')"
            ]
          },
          "metadata": {},
          "execution_count": 21
        },
        {
          "output_type": "display_data",
          "data": {
            "text/plain": [
              "<Figure size 640x480 with 1 Axes>"
            ],
            "image/png": "[encoded data removed]"
          },
          "metadata": {}
        }
      ],
      "source": [
        "plt.subplot()\n",
        "plt.imshow(data.images[200], cmap=plt.cm.Greys_r)\n",
        "plt.title(data.target[200])"
      ]
    },
    {
      "cell_type": "code",
      "execution_count": 22,
      "metadata": {
        "id": "feJJyFXdX1EP",
        "outputId": "75a19af2-3548-47d9-8b99-0541e694e1a2",
        "colab": {
          "base_uri": "https://localhost:8080/"
        }
      },
      "outputs": [
        {
          "output_type": "execute_result",
          "data": {
            "text/plain": [
              "array([1])"
            ]
          },
          "metadata": {},
          "execution_count": 22
        }
      ],
      "source": [
        "svm_classifier.predict([X[200]])"
      ]
    },
    {
      "cell_type": "code",
      "source": [
        "Train_mount=int(len(data.images)*.76)\n",
        "Train_mount"
      ],
      "metadata": {
        "colab": {
          "base_uri": "https://localhost:8080/"
        },
        "id": "1xDvP_LZxei5",
        "outputId": "0a274f9b-b752-4835-df43-7e4b4f799e97"
      },
      "execution_count": 23,
      "outputs": [
        {
          "output_type": "execute_result",
          "data": {
            "text/plain": [
              "1365"
            ]
          },
          "metadata": {},
          "execution_count": 23
        }
      ]
    },
    {
      "cell_type": "code",
      "source": [
        "Test_mount=len(data.images)-Train_mount\n",
        "Test_mount"
      ],
      "metadata": {
        "colab": {
          "base_uri": "https://localhost:8080/"
        },
        "id": "2_jSd3Fvx6zb",
        "outputId": "5ee01269-6ff2-4a9b-d67e-00a2bc07765c"
      },
      "execution_count": 24,
      "outputs": [
        {
          "output_type": "execute_result",
          "data": {
            "text/plain": [
              "432"
            ]
          },
          "metadata": {},
          "execution_count": 24
        }
      ]
    },
    {
      "cell_type": "code",
      "execution_count": 25,
      "metadata": {
        "id": "9iEaxQXiX1EW",
        "outputId": "84ff9196-800e-4435-f9db-0586b7a85dfd",
        "colab": {
          "base_uri": "https://localhost:8080/",
          "height": 74
        }
      },
      "outputs": [
        {
          "output_type": "execute_result",
          "data": {
            "text/plain": [
              "SVC()"
            ],
            "text/html": [
              "<style>#sk-container-id-2 {color: black;background-color: white;}#sk-container-id-2 pre{padding: 0;}#sk-container-id-2 div.sk-toggleable {background-color: white;}#sk-container-id-2 label.sk-toggleable__label {cursor: pointer;display: block;width: 100%;margin-bottom: 0;padding: 0.3em;box-sizing: border-box;text-align: center;}#sk-container-id-2 label.sk-toggleable__label-arrow:before {content: \"▸\";float: left;margin-right: 0.25em;color: #696969;}#sk-container-id-2 label.sk-toggleable__label-arrow:hover:before {color: black;}#sk-container-id-2 div.sk-estimator:hover label.sk-toggleable__label-arrow:before {color: black;}#sk-container-id-2 div.sk-toggleable__content {max-height: 0;max-width: 0;overflow: hidden;text-align: left;background-color: #f0f8ff;}#sk-container-id-2 div.sk-toggleable__content pre {margin: 0.2em;color: black;border-radius: 0.25em;background-color: #f0f8ff;}#sk-container-id-2 input.sk-toggleable__control:checked~div.sk-toggleable__content {max-height: 200px;max-width: 100%;overflow: auto;}#sk-container-id-2 input.sk-toggleable__control:checked~label.sk-toggleable__label-arrow:before {content: \"▾\";}#sk-container-id-2 div.sk-estimator input.sk-toggleable__control:checked~label.sk-toggleable__label {background-color: #d4ebff;}#sk-container-id-2 div.sk-label input.sk-toggleable__control:checked~label.sk-toggleable__label {background-color: #d4ebff;}#sk-container-id-2 input.sk-hidden--visually {border: 0;clip: rect(1px 1px 1px 1px);clip: rect(1px, 1px, 1px, 1px);height: 1px;margin: -1px;overflow: hidden;padding: 0;position: absolute;width: 1px;}#sk-container-id-2 div.sk-estimator {font-family: monospace;background-color: #f0f8ff;border: 1px dotted black;border-radius: 0.25em;box-sizing: border-box;margin-bottom: 0.5em;}#sk-container-id-2 div.sk-estimator:hover {background-color: #d4ebff;}#sk-container-id-2 div.sk-parallel-item::after {content: \"\";width: 100%;border-bottom: 1px solid gray;flex-grow: 1;}#sk-container-id-2 div.sk-label:hover label.sk-toggleable__label {background-color: #d4ebff;}#sk-container-id-2 div.sk-serial::before {content: \"\";position: absolute;border-left: 1px solid gray;box-sizing: border-box;top: 0;bottom: 0;left: 50%;z-index: 0;}#sk-container-id-2 div.sk-serial {display: flex;flex-direction: column;align-items: center;background-color: white;padding-right: 0.2em;padding-left: 0.2em;position: relative;}#sk-container-id-2 div.sk-item {position: relative;z-index: 1;}#sk-container-id-2 div.sk-parallel {display: flex;align-items: stretch;justify-content: center;background-color: white;position: relative;}#sk-container-id-2 div.sk-item::before, #sk-container-id-2 div.sk-parallel-item::before {content: \"\";position: absolute;border-left: 1px solid gray;box-sizing: border-box;top: 0;bottom: 0;left: 50%;z-index: -1;}#sk-container-id-2 div.sk-parallel-item {display: flex;flex-direction: column;z-index: 1;position: relative;background-color: white;}#sk-container-id-2 div.sk-parallel-item:first-child::after {align-self: flex-end;width: 50%;}#sk-container-id-2 div.sk-parallel-item:last-child::after {align-self: flex-start;width: 50%;}#sk-container-id-2 div.sk-parallel-item:only-child::after {width: 0;}#sk-container-id-2 div.sk-dashed-wrapped {border: 1px dashed gray;margin: 0 0.4em 0.5em 0.4em;box-sizing: border-box;padding-bottom: 0.4em;background-color: white;}#sk-container-id-2 div.sk-label label {font-family: monospace;font-weight: bold;display: inline-block;line-height: 1.2em;}#sk-container-id-2 div.sk-label-container {text-align: center;}#sk-container-id-2 div.sk-container {/* jupyter's `normalize.less` sets `[hidden] { display: none; }` but bootstrap.min.css set `[hidden] { display: none !important; }` so we also need the `!important` here to be able to override the default hidden behavior on the sphinx rendered scikit-learn.org. See: https://github.com/scikit-learn/scikit-learn/issues/21755 */display: inline-block !important;position: relative;}#sk-container-id-2 div.sk-text-repr-fallback {display: none;}</style><div id=\"sk-container-id-2\" class=\"sk-top-container\"><div class=\"sk-text-repr-fallback\"><pre>SVC()</pre><b>In a Jupyter environment, please rerun this cell to show the HTML representation or trust the notebook. <br />On GitHub, the HTML representation is unable to render, please try loading this page with nbviewer.org.</b></div><div class=\"sk-container\" hidden><div class=\"sk-item\"><div class=\"sk-estimator sk-toggleable\"><input class=\"sk-toggleable__control sk-hidden--visually\" id=\"sk-estimator-id-2\" type=\"checkbox\" checked><label for=\"sk-estimator-id-2\" class=\"sk-toggleable__label sk-toggleable__label-arrow\">SVC</label><div class=\"sk-toggleable__content\"><pre>SVC()</pre></div></div></div></div></div>"
            ]
          },
          "metadata": {},
          "execution_count": 25
        }
      ],
      "source": [
        "svm_new = SVC()\n",
        "svm_new.fit(X[:Train_mount], y[:Train_mount])"
      ]
    },
    {
      "cell_type": "code",
      "execution_count": 26,
      "metadata": {
        "id": "Ih7tyBEfX1EX"
      },
      "outputs": [],
      "source": [
        "pridcted_image=svm_new.predict(X[Train_mount:])"
      ]
    },
    {
      "cell_type": "code",
      "execution_count": 27,
      "metadata": {
        "id": "wEdcqVVDX1EX"
      },
      "outputs": [],
      "source": [
        "Real_image=y[Train_mount:]"
      ]
    },
    {
      "cell_type": "code",
      "source": [
        "correct_val=0\n",
        "for i in range(Test_mount):\n",
        "  if pridcted_image[i]==Real_image[i]:\n",
        "    correct_val+=1\n",
        "print ((correct_val/Test_mount)*100)"
      ],
      "metadata": {
        "colab": {
          "base_uri": "https://localhost:8080/"
        },
        "id": "ZyDnCTh6yeFS",
        "outputId": "d3ac40ed-3c57-43ce-cb6a-1da019e44fcd"
      },
      "execution_count": 28,
      "outputs": [
        {
          "output_type": "stream",
          "name": "stdout",
          "text": [
            "95.13888888888889\n"
          ]
        }
      ]
    },
    {
      "cell_type": "code",
      "source": [
        "corrected_val_list=list()\n",
        "for i in range(1,100):\n",
        "  prc=i/100\n",
        "  # print (prc)\n",
        "  Train_mount=int(len(data.images)*prc)\n",
        "  Test_mount=len(data.images)-Train_mount\n",
        "  svm_new = SVC()\n",
        "  svm_new.fit(X[:Train_mount], y[:Train_mount])\n",
        "  pridcted_image=svm_new.predict(X[Train_mount:])\n",
        "  Real_image=y[Train_mount:]\n",
        "  correct_val=0\n",
        "  for j in range(Test_mount):\n",
        "    if pridcted_image[j]==Real_image[j]:\n",
        "      correct_val+=1\n",
        "  corrected_val_list.append((correct_val/Test_mount)*100)\n"
      ],
      "metadata": {
        "id": "sodDrsWD1q1q"
      },
      "execution_count": 54,
      "outputs": []
    },
    {
      "cell_type": "code",
      "source": [
        "print(corrected_val_list)"
      ],
      "metadata": {
        "colab": {
          "base_uri": "https://localhost:8080/"
        },
        "id": "Ydt8RmrY8cEu",
        "outputId": "71f1e976-2a68-4e96-fc37-a83d754e1910"
      },
      "execution_count": 55,
      "outputs": [
        {
          "output_type": "stream",
          "name": "stdout",
          "text": [
            "[60.0, 77.1282633371169, 79.0137614678899, 80.41714947856316, 82.08430913348947, 82.89940828402366, 81.39952153110048, 81.01571946795647, 81.54034229828851, 81.21137206427689, 82.125, 81.79519595448798, 81.52173913043478, 81.63001293661061, 83.57329842931938, 84.63576158940397, 86.72922252010724, 87.38127544097694, 88.66758241758241, 89.221140472879, 90.0, 90.5848787446505, 91.61849710982659, 91.65446559297217, 92.80415430267063, 93.15789473684211, 92.98780487804879, 93.19938176197836, 93.96551724137932, 94.51510333863276, 94.75806451612904, 94.92635024549918, 94.93355481727575, 94.69250210614996, 95.03849443969204, 95.04778453518679, 94.88084730803178, 94.97757847533632, 95.07748404740201, 95.08804448563485, 95.19321394910462, 95.30201342281879, 95.1219512195122, 95.63058589870904, 95.75328614762387, 95.88053553038105, 95.90766002098636, 95.8288770053476, 95.85605234460196, 96.1067853170189, 96.14074914869465, 96.29200463499421, 96.09467455621302, 96.13059250302297, 96.04449938195303, 95.95448798988622, 95.98965071151359, 96.15894039735099, 95.79375848032564, 95.6884561891516, 95.72039942938659, 95.60761346998537, 95.78947368421052, 95.5177743431221, 95.23052464228935, 95.41734860883797, 95.95959595959596, 95.65972222222221, 95.51971326164875, 95.37037037037037, 95.01915708812261, 95.03968253968253, 95.47325102880659, 94.87179487179486, 94.88888888888889, 95.13888888888889, 94.92753623188406, 94.6969696969697, 94.17989417989418, 94.16666666666667, 93.85964912280701, 93.51851851851852, 93.13725490196079, 93.05555555555556, 92.5925925925926, 92.06349206349206, 92.3076923076923, 92.12962962962963, 93.93939393939394, 95.0, 95.06172839506173, 94.44444444444444, 96.03174603174604, 96.29629629629629, 97.77777777777777, 97.22222222222221, 100.0, 100.0, 100.0]\n"
          ]
        }
      ]
    },
    {
      "cell_type": "code",
      "source": [
        "plt.plot(corrected_val_list, color='green', marker='o', linestyle='dashed',linewidth=.5, markersize=3)\n",
        "plt.grid()\n"
      ],
      "metadata": {
        "colab": {
          "base_uri": "https://localhost:8080/",
          "height": 430
        },
        "id": "cxCcd_-po-uE",
        "outputId": "2432bf6b-9078-49b4-ac56-5910d5b1b6dc"
      },
      "execution_count": 57,
      "outputs": [
        {
          "output_type": "display_data",
          "data": {
            "text/plain": [
              "<Figure size 640x480 with 1 Axes>"
            ],
            "image/png": "[encoded data removed]"
          },
          "metadata": {}
        }
      ]
    },
    {
      "cell_type": "code",
      "source": [
        "svm_new.predict([X[948]])"
      ],
      "metadata": {
        "id": "nnvpJJlYJF1Q",
        "outputId": "f405279c-579e-49da-8b4e-302691d78ac2",
        "colab": {
          "base_uri": "https://localhost:8080/"
        }
      },
      "execution_count": 36,
      "outputs": [
        {
          "output_type": "execute_result",
          "data": {
            "text/plain": [
              "array([7])"
            ]
          },
          "metadata": {},
          "execution_count": 36
        }
      ]
    },
    {
      "cell_type": "code",
      "source": [
        "data.target[9]"
      ],
      "metadata": {
        "id": "Qj4yFUnEJWcA",
        "outputId": "b5605873-58d2-4541-91a6-5f3568731e2a",
        "colab": {
          "base_uri": "https://localhost:8080/"
        }
      },
      "execution_count": 37,
      "outputs": [
        {
          "output_type": "execute_result",
          "data": {
            "text/plain": [
              "9"
            ]
          },
          "metadata": {},
          "execution_count": 37
        }
      ]
    },
    {
      "cell_type": "code",
      "execution_count": 38,
      "metadata": {
        "id": "xJeitmnhX1EY"
      },
      "outputs": [],
      "source": [
        "from sklearn import metrics"
      ]
    },
    {
      "cell_type": "code",
      "execution_count": 39,
      "metadata": {
        "id": "Nvl9QqDuX1EZ",
        "outputId": "b4084e7e-6228-40b9-c2a1-01c82a081920",
        "colab": {
          "base_uri": "https://localhost:8080/"
        }
      },
      "outputs": [
        {
          "output_type": "stream",
          "name": "stdout",
          "text": [
            "              precision    recall  f1-score   support\n",
            "\n",
            "           0       1.00      1.00      1.00        79\n",
            "           1       0.99      1.00      0.99        80\n",
            "           2       1.00      1.00      1.00        77\n",
            "           3       0.99      1.00      0.99        79\n",
            "           4       1.00      1.00      1.00        83\n",
            "           5       0.99      1.00      0.99        82\n",
            "           6       1.00      1.00      1.00        80\n",
            "           7       1.00      1.00      1.00        80\n",
            "           8       1.00      0.99      0.99        76\n",
            "           9       1.00      0.98      0.99        81\n",
            "\n",
            "    accuracy                           1.00       797\n",
            "   macro avg       1.00      1.00      1.00       797\n",
            "weighted avg       1.00      1.00      1.00       797\n",
            "\n"
          ]
        }
      ],
      "source": [
        "pridect_val = svm_new.predict(X[1000:])\n",
        "real_val = y[1000:]\n",
        "print(metrics.classification_report(real_val, pridect_val))"
      ]
    },
    {
      "cell_type": "code",
      "execution_count": 58,
      "metadata": {
        "id": "IGmy9L-1X1EZ",
        "outputId": "b0491192-a019-4ce6-f9f8-50fec6424fd8",
        "colab": {
          "base_uri": "https://localhost:8080/"
        }
      },
      "outputs": [
        {
          "output_type": "stream",
          "name": "stdout",
          "text": [
            "[[79  0  0  0  0  0  0  0  0  0]\n",
            " [ 0 80  0  0  0  0  0  0  0  0]\n",
            " [ 0  0 77  0  0  0  0  0  0  0]\n",
            " [ 0  0  0 79  0  0  0  0  0  0]\n",
            " [ 0  0  0  0 83  0  0  0  0  0]\n",
            " [ 0  0  0  0  0 82  0  0  0  0]\n",
            " [ 0  0  0  0  0  0 80  0  0  0]\n",
            " [ 0  0  0  0  0  0  0 80  0  0]\n",
            " [ 0  1  0  0  0  0  0  0 75  0]\n",
            " [ 0  0  0  1  0  1  0  0  0 79]]\n"
          ]
        }
      ],
      "source": [
        "print(metrics.confusion_matrix(real_val, pridect_val))"
      ]
    }
  ],
  "metadata": {
    "kernelspec": {
      "display_name": "Python 3",
      "language": "python",
      "name": "python3"
    },
    "language_info": {
      "codemirror_mode": {
        "name": "ipython",
        "version": 3
      },
      "file_extension": ".py",
      "mimetype": "text/x-python",
      "name": "python",
      "nbconvert_exporter": "python",
      "pygments_lexer": "ipython3",
      "version": "3.7.6"
    },
    "colab": {
      "provenance": [],
      "include_colab_link": true
    }
  },
  "nbformat": 4,
  "nbformat_minor": 0
}