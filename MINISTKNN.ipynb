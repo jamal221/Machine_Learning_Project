{
  "cells": [
    {
      "cell_type": "markdown",
      "metadata": {
        "id": "view-in-github",
        "colab_type": "text"
      },
      "source": [
        "<a href=\"https://colab.research.google.com/github/jamal221/Machine_Learning_Project/blob/main/MINISTKNN.ipynb\" target=\"_parent\"><img src=\"https://colab.research.google.com/assets/colab-badge.svg\" alt=\"Open In Colab\"/></a>"
      ]
    },
    {
      "cell_type": "code",
      "execution_count": null,
      "metadata": {
        "id": "UIjVkK0MWPov"
      },
      "outputs": [],
      "source": [
        "import pandas as pd\n",
        "import numpy as np\n",
        "import matplotlib.pyplot as plt\n",
        "from sklearn import datasets"
      ]
    },
    {
      "cell_type": "code",
      "execution_count": null,
      "metadata": {
        "id": "q8y1i79pWPo2"
      },
      "outputs": [],
      "source": [
        "data = datasets.load_digits()"
      ]
    },
    {
      "cell_type": "code",
      "execution_count": null,
      "metadata": {
        "id": "_-PVECwEWPo3",
        "outputId": "c986a0d9-e43b-421c-9b85-1d1d9961ff65"
      },
      "outputs": [
        {
          "data": {
            "text/plain": [
              "<matplotlib.image.AxesImage at 0x10d257f40>"
            ]
          },
          "execution_count": 3,
          "metadata": {},
          "output_type": "execute_result"
        },
        {
          "data": {
            "image/png": "[encoded data removed]",
            "text/plain": [
              "<Figure size 432x288 with 1 Axes>"
            ]
          },
          "metadata": {
            "needs_background": "light"
          },
          "output_type": "display_data"
        }
      ],
      "source": [
        "plt.subplot()\n",
        "plt.imshow(data.images[0], cmap=plt.cm.gray_r)"
      ]
    },
    {
      "cell_type": "code",
      "execution_count": null,
      "metadata": {
        "id": "ropra2EOWPo7",
        "outputId": "0a887375-e420-46a8-ec32-0a211bc1171a"
      },
      "outputs": [
        {
          "data": {
            "image/png": "[encoded data removed]",
            "text/plain": [
              "<Figure size 432x288 with 5 Axes>"
            ]
          },
          "metadata": {
            "needs_background": "light"
          },
          "output_type": "display_data"
        }
      ],
      "source": [
        "for i in range(5):\n",
        "    plt.subplot(1,5, i+1)\n",
        "    plt.imshow(data.images[i*21], cmap=plt.cm.gray_r)\n",
        "    plt.title(data.target[i*21])"
      ]
    },
    {
      "cell_type": "code",
      "execution_count": null,
      "metadata": {
        "id": "w8VQIybpWPo9",
        "outputId": "6d05f5e0-1ce6-4500-f74a-efdb47502053"
      },
      "outputs": [
        {
          "data": {
            "text/plain": [
              "(1797, 8, 8)"
            ]
          },
          "execution_count": 12,
          "metadata": {},
          "output_type": "execute_result"
        }
      ],
      "source": [
        "data.images.shape"
      ]
    },
    {
      "cell_type": "code",
      "execution_count": null,
      "metadata": {
        "id": "KAi5IU_8WPo-"
      },
      "outputs": [],
      "source": [
        "X = data.images.reshape((len(data.images), -1))"
      ]
    },
    {
      "cell_type": "code",
      "execution_count": null,
      "metadata": {
        "id": "CGrgJsXTWPo_",
        "outputId": "9b2a6d2d-6c05-43b0-eb15-045498de7705"
      },
      "outputs": [
        {
          "data": {
            "text/plain": [
              "array([[ 0.,  0.,  5., ...,  0.,  0.,  0.],\n",
              "       [ 0.,  0.,  0., ..., 10.,  0.,  0.],\n",
              "       [ 0.,  0.,  0., ..., 16.,  9.,  0.],\n",
              "       ...,\n",
              "       [ 0.,  0.,  1., ...,  6.,  0.,  0.],\n",
              "       [ 0.,  0.,  2., ..., 12.,  0.,  0.],\n",
              "       [ 0.,  0., 10., ..., 12.,  1.,  0.]])"
            ]
          },
          "execution_count": 14,
          "metadata": {},
          "output_type": "execute_result"
        }
      ],
      "source": [
        "X"
      ]
    },
    {
      "cell_type": "code",
      "execution_count": null,
      "metadata": {
        "id": "FKa5uFDXWPpA"
      },
      "outputs": [],
      "source": [
        "y = data.target"
      ]
    },
    {
      "cell_type": "code",
      "execution_count": null,
      "metadata": {
        "id": "BuLc612PWPpB"
      },
      "outputs": [],
      "source": [
        "from sklearn.neighbors import KNeighborsClassifier"
      ]
    },
    {
      "cell_type": "code",
      "execution_count": null,
      "metadata": {
        "id": "yjVx-5fRWPpD"
      },
      "outputs": [],
      "source": [
        "X_train=X[:1000]\n",
        "y_train=y[:1000]\n",
        "X_test=X[1000:]\n",
        "y_test=y[1000:]"
      ]
    },
    {
      "cell_type": "code",
      "execution_count": null,
      "metadata": {
        "id": "hoVLiRE0WPpE",
        "outputId": "f9d5dfc3-a5a1-444e-c392-e4b819a86d43"
      },
      "outputs": [
        {
          "data": {
            "text/plain": [
              "KNeighborsClassifier()"
            ]
          },
          "execution_count": 29,
          "metadata": {},
          "output_type": "execute_result"
        }
      ],
      "source": [
        "knn_model = KNeighborsClassifier()\n",
        "knn_model.fit(X_test, y_test)"
      ]
    },
    {
      "cell_type": "code",
      "execution_count": null,
      "metadata": {
        "id": "rAizyHC3WPpF"
      },
      "outputs": [],
      "source": [
        "from sklearn import metrics"
      ]
    },
    {
      "cell_type": "code",
      "execution_count": null,
      "metadata": {
        "id": "HIlYNR9XWPpG",
        "outputId": "40ffcd9f-3001-4b66-e3ed-a5bbace5952b"
      },
      "outputs": [
        {
          "name": "stdout",
          "output_type": "stream",
          "text": [
            "              precision    recall  f1-score   support\n",
            "\n",
            "           0       1.00      1.00      1.00        79\n",
            "           1       0.99      0.97      0.98        80\n",
            "           2       0.97      1.00      0.99        77\n",
            "           3       0.99      0.99      0.99        79\n",
            "           4       1.00      1.00      1.00        83\n",
            "           5       0.99      1.00      0.99        82\n",
            "           6       1.00      1.00      1.00        80\n",
            "           7       0.99      1.00      0.99        80\n",
            "           8       1.00      0.99      0.99        76\n",
            "           9       1.00      0.98      0.99        81\n",
            "\n",
            "    accuracy                           0.99       797\n",
            "   macro avg       0.99      0.99      0.99       797\n",
            "weighted avg       0.99      0.99      0.99       797\n",
            "\n"
          ]
        }
      ],
      "source": [
        "y_predicted = knn_model.predict(X_test)\n",
        "print(metrics.classification_report(y_test, y_predicted))"
      ]
    },
    {
      "cell_type": "code",
      "execution_count": null,
      "metadata": {
        "id": "uamqOHeGWPpH",
        "outputId": "6ad5d3ec-609a-4779-dbf7-d32ce30a9d5f"
      },
      "outputs": [
        {
          "name": "stdout",
          "output_type": "stream",
          "text": [
            "[[79  0  0  0  0  0  0  0  0  0]\n",
            " [ 0 78  2  0  0  0  0  0  0  0]\n",
            " [ 0  0 77  0  0  0  0  0  0  0]\n",
            " [ 0  0  0 78  0  0  0  1  0  0]\n",
            " [ 0  0  0  0 83  0  0  0  0  0]\n",
            " [ 0  0  0  0  0 82  0  0  0  0]\n",
            " [ 0  0  0  0  0  0 80  0  0  0]\n",
            " [ 0  0  0  0  0  0  0 80  0  0]\n",
            " [ 0  1  0  0  0  0  0  0 75  0]\n",
            " [ 0  0  0  1  0  1  0  0  0 79]]\n"
          ]
        }
      ],
      "source": [
        "print(metrics.confusion_matrix(y_test, knn_model.predict(X_test)))"
      ]
    },
    {
      "cell_type": "code",
      "execution_count": null,
      "metadata": {
        "id": "aMtGVgJYWPpJ",
        "outputId": "ceff116b-04b3-4777-c65f-b781c3a5d3de"
      },
      "outputs": [
        {
          "name": "stdout",
          "output_type": "stream",
          "text": [
            "              precision    recall  f1-score   support\n",
            "\n",
            "           0       0.99      0.99      0.99        79\n",
            "           1       0.98      0.99      0.98        80\n",
            "           2       0.99      0.95      0.97        77\n",
            "           3       0.92      0.92      0.92        79\n",
            "           4       0.99      0.94      0.96        83\n",
            "           5       0.95      0.99      0.97        82\n",
            "           6       0.99      1.00      0.99        80\n",
            "           7       0.98      1.00      0.99        80\n",
            "           8       0.94      0.96      0.95        76\n",
            "           9       0.94      0.91      0.92        81\n",
            "\n",
            "    accuracy                           0.96       797\n",
            "   macro avg       0.96      0.96      0.96       797\n",
            "weighted avg       0.97      0.96      0.96       797\n",
            "\n"
          ]
        }
      ],
      "source": [
        "knn_model2 = KNeighborsClassifier(n_neighbors=3)\n",
        "knn_model2.fit(X_train, y_train)\n",
        "y_prdeicted = knn_model2.predict(X_test)\n",
        "print(metrics.classification_report(y_test, y_prdeicted))"
      ]
    },
    {
      "cell_type": "code",
      "execution_count": null,
      "metadata": {
        "id": "rBMCfwFFWPpK"
      },
      "outputs": [],
      "source": []
    }
  ],
  "metadata": {
    "kernelspec": {
      "display_name": "Python 3 (ipykernel)",
      "language": "python",
      "name": "python3"
    },
    "language_info": {
      "codemirror_mode": {
        "name": "ipython",
        "version": 3
      },
      "file_extension": ".py",
      "mimetype": "text/x-python",
      "name": "python",
      "nbconvert_exporter": "python",
      "pygments_lexer": "ipython3",
      "version": "3.9.7"
    },
    "colab": {
      "provenance": [],
      "include_colab_link": true
    }
  },
  "nbformat": 4,
  "nbformat_minor": 0
}