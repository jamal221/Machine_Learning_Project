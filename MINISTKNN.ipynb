{
  "cells": [
    {
      "cell_type": "markdown",
      "metadata": {
        "id": "view-in-github",
        "colab_type": "text"
      },
      "source": [
        "<a href=\"https://colab.research.google.com/github/jamal221/Machine_Learning_Project/blob/main/MINISTKNN.ipynb\" target=\"_parent\"><img src=\"https://colab.research.google.com/assets/colab-badge.svg\" alt=\"Open In Colab\"/></a>"
      ]
    },
    {
      "cell_type": "code",
      "execution_count": 1,
      "metadata": {
        "id": "mwQRpHhwcAJ0"
      },
      "outputs": [],
      "source": [
        "import pandas as pd\n",
        "import numpy as np\n",
        "import matplotlib.pyplot as plt\n",
        "from sklearn import datasets"
      ]
    },
    {
      "cell_type": "code",
      "execution_count": 2,
      "metadata": {
        "id": "-m6eKKDecAJ4"
      },
      "outputs": [],
      "source": [
        "data = datasets.load_digits()"
      ]
    },
    {
      "cell_type": "code",
      "execution_count": 3,
      "metadata": {
        "colab": {
          "base_uri": "https://localhost:8080/",
          "height": 448
        },
        "id": "1NptYp6BcAJ5",
        "outputId": "cc4a5565-b87c-4452-af95-fb919c44e6dd"
      },
      "outputs": [
        {
          "output_type": "execute_result",
          "data": {
            "text/plain": [
              "<matplotlib.image.AxesImage at 0x7fa4b15bc8b0>"
            ]
          },
          "metadata": {},
          "execution_count": 3
        },
        {
          "output_type": "display_data",
          "data": {
            "text/plain": [
              "<Figure size 640x480 with 1 Axes>"
            ],
            "image/png": "[encoded data removed]"
          },
          "metadata": {}
        }
      ],
      "source": [
        "plt.subplot()\n",
        "plt.imshow(data.images[5], cmap=plt.cm.gray_r)"
      ]
    },
    {
      "cell_type": "code",
      "execution_count": 4,
      "metadata": {
        "colab": {
          "base_uri": "https://localhost:8080/",
          "height": 168
        },
        "id": "yPK6wmTacAJ8",
        "outputId": "b73959f6-7738-482a-e1ef-6ced37d41c35"
      },
      "outputs": [
        {
          "output_type": "display_data",
          "data": {
            "text/plain": [
              "<Figure size 640x480 with 5 Axes>"
            ],
            "image/png": "[encoded data removed]"
          },
          "metadata": {}
        }
      ],
      "source": [
        "for i in range(5):\n",
        "    plt.subplot(1,5, i+1)\n",
        "    plt.imshow(data.images[i*40], cmap=plt.cm.gray_r)\n",
        "    plt.title(data.target[i*40])"
      ]
    },
    {
      "cell_type": "code",
      "execution_count": 5,
      "metadata": {
        "colab": {
          "base_uri": "https://localhost:8080/"
        },
        "id": "hfUmtG9PcAJ9",
        "outputId": "76f8f033-16e5-42dd-cbc7-955167ce5efc"
      },
      "outputs": [
        {
          "output_type": "execute_result",
          "data": {
            "text/plain": [
              "(1797, 8, 8)"
            ]
          },
          "metadata": {},
          "execution_count": 5
        }
      ],
      "source": [
        "data.images.shape"
      ]
    },
    {
      "cell_type": "code",
      "execution_count": 6,
      "metadata": {
        "id": "q2jUv-TFcAJ_"
      },
      "outputs": [],
      "source": [
        "X = data.images.reshape((len(data.images), -1))"
      ]
    },
    {
      "cell_type": "code",
      "execution_count": 7,
      "metadata": {
        "colab": {
          "base_uri": "https://localhost:8080/"
        },
        "id": "pGo2nWc5cAJ_",
        "outputId": "aa3eb594-a9dc-4d82-ffb6-f9b5fdad2e0d"
      },
      "outputs": [
        {
          "output_type": "execute_result",
          "data": {
            "text/plain": [
              "(1797, 64)"
            ]
          },
          "metadata": {},
          "execution_count": 7
        }
      ],
      "source": [
        "X.shape"
      ]
    },
    {
      "cell_type": "code",
      "execution_count": 8,
      "metadata": {
        "id": "sWZwWNJycAKA"
      },
      "outputs": [],
      "source": [
        "y = data.target"
      ]
    },
    {
      "cell_type": "code",
      "source": [
        "set(y)"
      ],
      "metadata": {
        "colab": {
          "base_uri": "https://localhost:8080/"
        },
        "id": "zDT72QaZd5I2",
        "outputId": "68a6354d-9a1e-4d2b-e965-fe8bf646ca07"
      },
      "execution_count": 9,
      "outputs": [
        {
          "output_type": "execute_result",
          "data": {
            "text/plain": [
              "{0, 1, 2, 3, 4, 5, 6, 7, 8, 9}"
            ]
          },
          "metadata": {},
          "execution_count": 9
        }
      ]
    },
    {
      "cell_type": "code",
      "execution_count": 10,
      "metadata": {
        "id": "EF5RmpducAKB"
      },
      "outputs": [],
      "source": [
        "from sklearn.neighbors import KNeighborsClassifier"
      ]
    },
    {
      "cell_type": "code",
      "source": [
        "Train_mount=int(len(data.images)*.76)\n",
        "Train_mount"
      ],
      "metadata": {
        "colab": {
          "base_uri": "https://localhost:8080/"
        },
        "id": "bifggu80V1-g",
        "outputId": "ee71b8d9-8e91-46d4-8535-c6fd0dcca5ac"
      },
      "execution_count": 22,
      "outputs": [
        {
          "output_type": "execute_result",
          "data": {
            "text/plain": [
              "1365"
            ]
          },
          "metadata": {},
          "execution_count": 22
        }
      ]
    },
    {
      "cell_type": "code",
      "execution_count": 23,
      "metadata": {
        "id": "0GdtLMPdcAKC"
      },
      "outputs": [],
      "source": [
        "X_train=X[:Train_mount]\n",
        "y_train=y[:Train_mount]\n",
        "X_test=X[Train_mount:]\n",
        "y_test=y[Train_mount:]"
      ]
    },
    {
      "cell_type": "code",
      "execution_count": 24,
      "metadata": {
        "id": "aChHU5h0cAKD"
      },
      "outputs": [],
      "source": [
        "knn_model = KNeighborsClassifier()\n"
      ]
    },
    {
      "cell_type": "code",
      "source": [
        "knn_model.fit(X_train, y_train)"
      ],
      "metadata": {
        "colab": {
          "base_uri": "https://localhost:8080/",
          "height": 74
        },
        "id": "l0zGmsjsgAgL",
        "outputId": "8ed79c3a-247d-4741-e78b-3644ee0cc6a5"
      },
      "execution_count": 25,
      "outputs": [
        {
          "output_type": "execute_result",
          "data": {
            "text/plain": [
              "KNeighborsClassifier()"
            ],
            "text/html": [
              "<style>#sk-container-id-2 {color: black;background-color: white;}#sk-container-id-2 pre{padding: 0;}#sk-container-id-2 div.sk-toggleable {background-color: white;}#sk-container-id-2 label.sk-toggleable__label {cursor: pointer;display: block;width: 100%;margin-bottom: 0;padding: 0.3em;box-sizing: border-box;text-align: center;}#sk-container-id-2 label.sk-toggleable__label-arrow:before {content: \"▸\";float: left;margin-right: 0.25em;color: #696969;}#sk-container-id-2 label.sk-toggleable__label-arrow:hover:before {color: black;}#sk-container-id-2 div.sk-estimator:hover label.sk-toggleable__label-arrow:before {color: black;}#sk-container-id-2 div.sk-toggleable__content {max-height: 0;max-width: 0;overflow: hidden;text-align: left;background-color: #f0f8ff;}#sk-container-id-2 div.sk-toggleable__content pre {margin: 0.2em;color: black;border-radius: 0.25em;background-color: #f0f8ff;}#sk-container-id-2 input.sk-toggleable__control:checked~div.sk-toggleable__content {max-height: 200px;max-width: 100%;overflow: auto;}#sk-container-id-2 input.sk-toggleable__control:checked~label.sk-toggleable__label-arrow:before {content: \"▾\";}#sk-container-id-2 div.sk-estimator input.sk-toggleable__control:checked~label.sk-toggleable__label {background-color: #d4ebff;}#sk-container-id-2 div.sk-label input.sk-toggleable__control:checked~label.sk-toggleable__label {background-color: #d4ebff;}#sk-container-id-2 input.sk-hidden--visually {border: 0;clip: rect(1px 1px 1px 1px);clip: rect(1px, 1px, 1px, 1px);height: 1px;margin: -1px;overflow: hidden;padding: 0;position: absolute;width: 1px;}#sk-container-id-2 div.sk-estimator {font-family: monospace;background-color: #f0f8ff;border: 1px dotted black;border-radius: 0.25em;box-sizing: border-box;margin-bottom: 0.5em;}#sk-container-id-2 div.sk-estimator:hover {background-color: #d4ebff;}#sk-container-id-2 div.sk-parallel-item::after {content: \"\";width: 100%;border-bottom: 1px solid gray;flex-grow: 1;}#sk-container-id-2 div.sk-label:hover label.sk-toggleable__label {background-color: #d4ebff;}#sk-container-id-2 div.sk-serial::before {content: \"\";position: absolute;border-left: 1px solid gray;box-sizing: border-box;top: 0;bottom: 0;left: 50%;z-index: 0;}#sk-container-id-2 div.sk-serial {display: flex;flex-direction: column;align-items: center;background-color: white;padding-right: 0.2em;padding-left: 0.2em;position: relative;}#sk-container-id-2 div.sk-item {position: relative;z-index: 1;}#sk-container-id-2 div.sk-parallel {display: flex;align-items: stretch;justify-content: center;background-color: white;position: relative;}#sk-container-id-2 div.sk-item::before, #sk-container-id-2 div.sk-parallel-item::before {content: \"\";position: absolute;border-left: 1px solid gray;box-sizing: border-box;top: 0;bottom: 0;left: 50%;z-index: -1;}#sk-container-id-2 div.sk-parallel-item {display: flex;flex-direction: column;z-index: 1;position: relative;background-color: white;}#sk-container-id-2 div.sk-parallel-item:first-child::after {align-self: flex-end;width: 50%;}#sk-container-id-2 div.sk-parallel-item:last-child::after {align-self: flex-start;width: 50%;}#sk-container-id-2 div.sk-parallel-item:only-child::after {width: 0;}#sk-container-id-2 div.sk-dashed-wrapped {border: 1px dashed gray;margin: 0 0.4em 0.5em 0.4em;box-sizing: border-box;padding-bottom: 0.4em;background-color: white;}#sk-container-id-2 div.sk-label label {font-family: monospace;font-weight: bold;display: inline-block;line-height: 1.2em;}#sk-container-id-2 div.sk-label-container {text-align: center;}#sk-container-id-2 div.sk-container {/* jupyter's `normalize.less` sets `[hidden] { display: none; }` but bootstrap.min.css set `[hidden] { display: none !important; }` so we also need the `!important` here to be able to override the default hidden behavior on the sphinx rendered scikit-learn.org. See: https://github.com/scikit-learn/scikit-learn/issues/21755 */display: inline-block !important;position: relative;}#sk-container-id-2 div.sk-text-repr-fallback {display: none;}</style><div id=\"sk-container-id-2\" class=\"sk-top-container\"><div class=\"sk-text-repr-fallback\"><pre>KNeighborsClassifier()</pre><b>In a Jupyter environment, please rerun this cell to show the HTML representation or trust the notebook. <br />On GitHub, the HTML representation is unable to render, please try loading this page with nbviewer.org.</b></div><div class=\"sk-container\" hidden><div class=\"sk-item\"><div class=\"sk-estimator sk-toggleable\"><input class=\"sk-toggleable__control sk-hidden--visually\" id=\"sk-estimator-id-2\" type=\"checkbox\" checked><label for=\"sk-estimator-id-2\" class=\"sk-toggleable__label sk-toggleable__label-arrow\">KNeighborsClassifier</label><div class=\"sk-toggleable__content\"><pre>KNeighborsClassifier()</pre></div></div></div></div></div>"
            ]
          },
          "metadata": {},
          "execution_count": 25
        }
      ]
    },
    {
      "cell_type": "code",
      "source": [
        "y_predicted = knn_model.predict(X_test)"
      ],
      "metadata": {
        "id": "J6k_noF1gMY9"
      },
      "execution_count": 26,
      "outputs": []
    },
    {
      "cell_type": "code",
      "execution_count": 27,
      "metadata": {
        "id": "b4wqNmDHcAKE"
      },
      "outputs": [],
      "source": [
        "from sklearn import metrics"
      ]
    },
    {
      "cell_type": "code",
      "execution_count": 28,
      "metadata": {
        "colab": {
          "base_uri": "https://localhost:8080/"
        },
        "id": "jF6VbA5HcAKF",
        "outputId": "ec45198b-166b-4cab-a031-b6e348338b06"
      },
      "outputs": [
        {
          "output_type": "stream",
          "name": "stdout",
          "text": [
            "              precision    recall  f1-score   support\n",
            "\n",
            "           0       1.00      0.98      0.99        42\n",
            "           1       0.96      1.00      0.98        45\n",
            "           2       0.98      1.00      0.99        41\n",
            "           3       0.97      0.89      0.93        44\n",
            "           4       0.98      0.96      0.97        46\n",
            "           5       0.93      1.00      0.97        43\n",
            "           6       1.00      1.00      1.00        44\n",
            "           7       0.94      1.00      0.97        44\n",
            "           8       0.93      0.93      0.93        40\n",
            "           9       1.00      0.93      0.96        43\n",
            "\n",
            "    accuracy                           0.97       432\n",
            "   macro avg       0.97      0.97      0.97       432\n",
            "weighted avg       0.97      0.97      0.97       432\n",
            "\n"
          ]
        }
      ],
      "source": [
        "\n",
        "print(metrics.classification_report(y_test, y_predicted))"
      ]
    },
    {
      "cell_type": "code",
      "execution_count": 29,
      "metadata": {
        "colab": {
          "base_uri": "https://localhost:8080/"
        },
        "id": "2tacjZEPcAKG",
        "outputId": "f616eb61-7b0b-4225-d59d-033cb88fbd6b"
      },
      "outputs": [
        {
          "output_type": "stream",
          "name": "stdout",
          "text": [
            "[[41  0  0  0  1  0  0  0  0  0]\n",
            " [ 0 45  0  0  0  0  0  0  0  0]\n",
            " [ 0  0 41  0  0  0  0  0  0  0]\n",
            " [ 0  0  1 39  0  1  0  1  2  0]\n",
            " [ 0  0  0  0 44  0  0  1  1  0]\n",
            " [ 0  0  0  0  0 43  0  0  0  0]\n",
            " [ 0  0  0  0  0  0 44  0  0  0]\n",
            " [ 0  0  0  0  0  0  0 44  0  0]\n",
            " [ 0  2  0  0  0  0  0  1 37  0]\n",
            " [ 0  0  0  1  0  2  0  0  0 40]]\n"
          ]
        }
      ],
      "source": [
        "print(metrics.confusion_matrix(y_test, knn_model.predict(X_test)))"
      ]
    },
    {
      "cell_type": "code",
      "execution_count": 18,
      "metadata": {
        "colab": {
          "base_uri": "https://localhost:8080/"
        },
        "id": "9RtsjJ78cAKH",
        "outputId": "effff76d-0aa2-4b82-f606-dc60d5bd412c"
      },
      "outputs": [
        {
          "output_type": "stream",
          "name": "stdout",
          "text": [
            "              precision    recall  f1-score   support\n",
            "\n",
            "           0       0.99      0.99      0.99        79\n",
            "           1       0.98      0.99      0.98        80\n",
            "           2       0.97      0.95      0.96        77\n",
            "           3       0.92      0.92      0.92        79\n",
            "           4       0.99      0.94      0.96        83\n",
            "           5       0.95      0.99      0.97        82\n",
            "           6       0.99      1.00      0.99        80\n",
            "           7       0.98      1.00      0.99        80\n",
            "           8       0.95      0.96      0.95        76\n",
            "           9       0.94      0.91      0.92        81\n",
            "\n",
            "    accuracy                           0.96       797\n",
            "   macro avg       0.96      0.96      0.96       797\n",
            "weighted avg       0.96      0.96      0.96       797\n",
            "\n"
          ]
        }
      ],
      "source": [
        "knn_model2 = KNeighborsClassifier(n_neighbors=3)\n",
        "knn_model2.fit(X_train, y_train)\n",
        "y_prdeicted = knn_model2.predict(X_test)\n",
        "print(metrics.classification_report(y_test, y_prdeicted))"
      ]
    },
    {
      "cell_type": "code",
      "execution_count": 19,
      "metadata": {
        "colab": {
          "base_uri": "https://localhost:8080/"
        },
        "id": "W78sPbobcAKI",
        "outputId": "de416e68-422b-4a3b-b66e-dc3d5c02e365"
      },
      "outputs": [
        {
          "output_type": "stream",
          "name": "stdout",
          "text": [
            "              precision    recall  f1-score   support\n",
            "\n",
            "           0       0.99      1.00      0.99        79\n",
            "           1       0.94      0.99      0.96        80\n",
            "           2       0.97      0.92      0.95        77\n",
            "           3       0.91      0.92      0.92        79\n",
            "           4       1.00      0.94      0.97        83\n",
            "           5       0.94      0.99      0.96        82\n",
            "           6       0.99      1.00      0.99        80\n",
            "           7       0.94      1.00      0.97        80\n",
            "           8       0.96      0.88      0.92        76\n",
            "           9       0.93      0.91      0.92        81\n",
            "\n",
            "    accuracy                           0.96       797\n",
            "   macro avg       0.96      0.96      0.96       797\n",
            "weighted avg       0.96      0.96      0.96       797\n",
            "\n"
          ]
        }
      ],
      "source": [
        "knn_model3 = KNeighborsClassifier(n_neighbors=8)\n",
        "knn_model3.fit(X_train, y_train)\n",
        "y_prdeicted3 = knn_model3.predict(X_test)\n",
        "print(metrics.classification_report(y_test, y_prdeicted3))"
      ]
    },
    {
      "cell_type": "code",
      "source": [
        "corrected_val_list=list()\n",
        "for i in range(1,100):\n",
        "  prc=i/100\n",
        "  # print (prc)\n",
        "  Train_mount=int(len(data.images)*prc)\n",
        "  Test_mount=len(data.images)-Train_mount\n",
        "  KNN_new = KNeighborsClassifier()\n",
        "  KNN_new.fit(X[:Train_mount], y[:Train_mount])\n",
        "  pridcted_image=KNN_new.predict(X[Train_mount:])\n",
        "  Real_image=y[Train_mount:]\n",
        "  correct_val=0\n",
        "  for j in range(Test_mount):\n",
        "    if pridcted_image[j]==Real_image[j]:\n",
        "      correct_val+=1\n",
        "  corrected_val_list.append((correct_val/Test_mount)*100)\n"
      ],
      "metadata": {
        "id": "wYm0WE50XC9g"
      },
      "execution_count": 30,
      "outputs": []
    },
    {
      "cell_type": "code",
      "source": [
        "print(corrected_val_list)"
      ],
      "metadata": {
        "colab": {
          "base_uri": "https://localhost:8080/"
        },
        "id": "_Bq02mgsXbdt",
        "outputId": "6aef5a6e-0560-4a85-98ee-a401ec014c1b"
      },
      "execution_count": 31,
      "outputs": [
        {
          "output_type": "stream",
          "name": "stdout",
          "text": [
            "[37.640449438202246, 69.86379114642452, 71.90366972477065, 74.68134414831982, 79.21545667447307, 81.83431952662723, 82.29665071770334, 82.34582829504232, 83.80195599022005, 83.62175525339926, 84.0625, 83.75474083438685, 84.14322250639387, 83.18240620957309, 85.40575916230367, 87.28476821192052, 88.6058981233244, 88.80597014925374, 89.76648351648352, 90.40333796940195, 90.70422535211267, 90.65620542082739, 90.7514450867052, 91.28843338213763, 91.83976261127597, 91.50375939849624, 91.46341463414635, 91.49922720247295, 92.0846394984326, 93.79968203497614, 94.11290322580645, 94.27168576104746, 94.18604651162791, 94.10278011794439, 94.1830624465355, 94.17897480451781, 95.32215357458075, 95.33632286995515, 95.44211485870557, 95.3660797034291, 95.19321394910462, 95.39789069990412, 95.21951219512195, 95.13406156901688, 95.34883720930233, 95.36560247167868, 95.27806925498426, 95.18716577540107, 95.31079607415485, 95.55061179087876, 95.68671963677639, 95.71263035921204, 95.85798816568047, 95.76783555018137, 95.7972805933251, 95.70164348925411, 95.86028460543338, 95.89403973509934, 96.06512890094979, 95.96662030598053, 96.14835948644793, 96.48609077598829, 96.69172932330827, 96.75425038639877, 96.50238473767885, 96.56301145662847, 96.63299663299664, 96.52777777777779, 96.415770609319, 96.48148148148148, 96.36015325670499, 96.42857142857143, 96.70781893004116, 96.58119658119658, 96.44444444444444, 96.75925925925925, 96.85990338164251, 96.71717171717171, 96.56084656084656, 96.38888888888889, 96.19883040935673, 95.98765432098766, 95.75163398692811, 95.48611111111111, 95.18518518518519, 94.84126984126983, 94.87179487179486, 94.9074074074074, 94.94949494949495, 96.11111111111111, 96.91358024691358, 96.52777777777779, 97.61904761904762, 98.14814814814815, 98.88888888888889, 98.61111111111111, 98.14814814814815, 97.22222222222221, 100.0]\n"
          ]
        }
      ]
    },
    {
      "cell_type": "code",
      "source": [
        "plt.plot(corrected_val_list, color='red', marker='+', linestyle='dashed',linewidth=.5, markersize=3)\n",
        "plt.grid()\n"
      ],
      "metadata": {
        "colab": {
          "base_uri": "https://localhost:8080/",
          "height": 430
        },
        "id": "DjMB1y8bXdTE",
        "outputId": "48f8cf17-3dfe-424b-ccaa-2b2cae9370aa"
      },
      "execution_count": 33,
      "outputs": [
        {
          "output_type": "display_data",
          "data": {
            "text/plain": [
              "<Figure size 640x480 with 1 Axes>"
            ],
            "image/png": "[encoded data removed]"
          },
          "metadata": {}
        }
      ]
    },
    {
      "cell_type": "code",
      "source": [
        "from sklearn.svm import SVC\n",
        "corrected_val_list_svc=list()\n",
        "for i in range(1,100):\n",
        "  prc=i/100\n",
        "  # print (prc)\n",
        "  Train_mount=int(len(data.images)*prc)\n",
        "  Test_mount=len(data.images)-Train_mount\n",
        "  svm_new = SVC()\n",
        "  svm_new.fit(X[:Train_mount], y[:Train_mount])\n",
        "  pridcted_image=svm_new.predict(X[Train_mount:])\n",
        "  Real_image=y[Train_mount:]\n",
        "  correct_val=0\n",
        "  for j in range(Test_mount):\n",
        "    if pridcted_image[j]==Real_image[j]:\n",
        "      correct_val+=1\n",
        "  corrected_val_list_svc.append((correct_val/Test_mount)*100)\n",
        "\n"
      ],
      "metadata": {
        "id": "2Q7akyO5YkWE"
      },
      "execution_count": 34,
      "outputs": []
    },
    {
      "cell_type": "code",
      "source": [
        "print(corrected_val_list_svc)"
      ],
      "metadata": {
        "colab": {
          "base_uri": "https://localhost:8080/"
        },
        "id": "MU9vevoUY83a",
        "outputId": "9c8dc691-5bf2-4f3c-ac2f-db3a110eecfe"
      },
      "execution_count": 35,
      "outputs": [
        {
          "output_type": "stream",
          "name": "stdout",
          "text": [
            "[37.640449438202246, 69.86379114642452, 71.90366972477065, 74.68134414831982, 79.21545667447307, 81.83431952662723, 82.29665071770334, 82.34582829504232, 83.80195599022005, 83.62175525339926, 84.0625, 83.75474083438685, 84.14322250639387, 83.18240620957309, 85.40575916230367, 87.28476821192052, 88.6058981233244, 88.80597014925374, 89.76648351648352, 90.40333796940195, 90.70422535211267, 90.65620542082739, 90.7514450867052, 91.28843338213763, 91.83976261127597, 91.50375939849624, 91.46341463414635, 91.49922720247295, 92.0846394984326, 93.79968203497614, 94.11290322580645, 94.27168576104746, 94.18604651162791, 94.10278011794439, 94.1830624465355, 94.17897480451781, 95.32215357458075, 95.33632286995515, 95.44211485870557, 95.3660797034291, 95.19321394910462, 95.39789069990412, 95.21951219512195, 95.13406156901688, 95.34883720930233, 95.36560247167868, 95.27806925498426, 95.18716577540107, 95.31079607415485, 95.55061179087876, 95.68671963677639, 95.71263035921204, 95.85798816568047, 95.76783555018137, 95.7972805933251, 95.70164348925411, 95.86028460543338, 95.89403973509934, 96.06512890094979, 95.96662030598053, 96.14835948644793, 96.48609077598829, 96.69172932330827, 96.75425038639877, 96.50238473767885, 96.56301145662847, 96.63299663299664, 96.52777777777779, 96.415770609319, 96.48148148148148, 96.36015325670499, 96.42857142857143, 96.70781893004116, 96.58119658119658, 96.44444444444444, 96.75925925925925, 96.85990338164251, 96.71717171717171, 96.56084656084656, 96.38888888888889, 96.19883040935673, 95.98765432098766, 95.75163398692811, 95.48611111111111, 95.18518518518519, 94.84126984126983, 94.87179487179486, 94.9074074074074, 94.94949494949495, 96.11111111111111, 96.91358024691358, 96.52777777777779, 97.61904761904762, 98.14814814814815, 98.88888888888889, 98.61111111111111, 98.14814814814815, 97.22222222222221, 100.0]\n"
          ]
        }
      ]
    },
    {
      "cell_type": "code",
      "source": [
        "plt.plot(corrected_val_list_svc, color='green', marker='o', linestyle='dashed',linewidth=.5, markersize=3, label='SVC')\n",
        "plt.plot(corrected_val_list, color='red', marker='+', linestyle='dashed',linewidth=.5, markersize=3, label='KNN')\n",
        "plt.xlabel(\"Train Mount\")\n",
        "plt.ylabel(\"Accuracy value of Models\")\n",
        "plt.title(\"Compare SVC and KNN\")\n",
        "plt.grid()\n",
        "plt.legend()\n",
        "plt.show()\n"
      ],
      "metadata": {
        "colab": {
          "base_uri": "https://localhost:8080/",
          "height": 472
        },
        "id": "c9kpQ7KcZQoi",
        "outputId": "73f3b614-1392-44b5-99c9-032748ea2dd7"
      },
      "execution_count": 38,
      "outputs": [
        {
          "output_type": "display_data",
          "data": {
            "text/plain": [
              "<Figure size 640x480 with 1 Axes>"
            ],
            "image/png": "[encoded data removed]"
          },
          "metadata": {}
        }
      ]
    }
  ],
  "metadata": {
    "kernelspec": {
      "display_name": "Python 3 (ipykernel)",
      "language": "python",
      "name": "python3"
    },
    "language_info": {
      "codemirror_mode": {
        "name": "ipython",
        "version": 3
      },
      "file_extension": ".py",
      "mimetype": "text/x-python",
      "name": "python",
      "nbconvert_exporter": "python",
      "pygments_lexer": "ipython3",
      "version": "3.9.7"
    },
    "colab": {
      "provenance": [],
      "include_colab_link": true
    }
  },
  "nbformat": 4,
  "nbformat_minor": 0
}